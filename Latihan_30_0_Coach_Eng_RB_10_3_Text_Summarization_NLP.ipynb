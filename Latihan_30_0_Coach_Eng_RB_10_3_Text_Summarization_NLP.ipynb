{
  "nbformat": 4,
  "nbformat_minor": 5,
  "metadata": {
    "kernelspec": {
      "display_name": "Python 3",
      "language": "python",
      "name": "python3"
    },
    "language_info": {
      "codemirror_mode": {
        "name": "ipython",
        "version": 3
      },
      "file_extension": ".py",
      "mimetype": "text/x-python",
      "name": "python",
      "nbconvert_exporter": "python",
      "pygments_lexer": "ipython3",
      "version": "3.8.8"
    },
    "colab": {
      "name": "Latihan-30_0_Coach_Eng_RB_10_3_Text_Summarization_NLP.ipynb",
      "provenance": [],
      "collapsed_sections": [],
      "include_colab_link": true
    }
  },
  "cells": [
    {
      "cell_type": "markdown",
      "metadata": {
        "id": "view-in-github",
        "colab_type": "text"
      },
      "source": [
        "<a href=\"https://colab.research.google.com/github/Saifulislam365/studi_independent/blob/main/Latihan_30_0_Coach_Eng_RB_10_3_Text_Summarization_NLP.ipynb\" target=\"_parent\"><img src=\"https://colab.research.google.com/assets/colab-badge.svg\" alt=\"Open In Colab\"/></a>"
      ]
    },
    {
      "cell_type": "markdown",
      "metadata": {
        "id": "1ab456e7"
      },
      "source": [
        "# Extractive Text Summarization"
      ],
      "id": "1ab456e7"
    },
    {
      "cell_type": "code",
      "metadata": {
        "id": "c0c99772"
      },
      "source": [
        "# Sumber materi : https://youtu.be/9PoKellNrBc\n",
        "# https://kgptalkie.com/text-summarization-using-nlp/"
      ],
      "id": "c0c99772",
      "execution_count": null,
      "outputs": []
    },
    {
      "cell_type": "code",
      "metadata": {
        "id": "dc31f0f6"
      },
      "source": [
        "#Lakukan install modul spacy pada cmd:\n",
        "#Buka command prompt dengan klik kanan administrator previlege (Run as administrator).\n",
        "#Gunakan direktori C:\\\n",
        "#ketik : conda install -c conda-forge spacy\n",
        "#ketik : python -m spacy download en"
      ],
      "id": "dc31f0f6",
      "execution_count": null,
      "outputs": []
    },
    {
      "cell_type": "code",
      "metadata": {
        "id": "68a48962"
      },
      "source": [
        "# Import library Spacy, library untuk melakukan proses yang ada di dalam domain nlp\n",
        "import spacy\n",
        "from spacy.lang.en.stop_words import STOP_WORDS\n",
        "from string import punctuation"
      ],
      "id": "68a48962",
      "execution_count": null,
      "outputs": []
    },
    {
      "cell_type": "code",
      "metadata": {
        "id": "8aae4d8f",
        "colab": {
          "base_uri": "https://localhost:8080/"
        },
        "outputId": "7ffd3fb7-196a-485f-9f76-ed9f9b91f95a"
      },
      "source": [
        "# Memasukkan daftar stopword ke dalam variabel stopwords\n",
        "stopwords = list(STOP_WORDS)\n",
        "print(stopwords)"
      ],
      "id": "8aae4d8f",
      "execution_count": null,
      "outputs": [
        {
          "output_type": "stream",
          "name": "stdout",
          "text": [
            "['without', 'thence', 're', 'each', 'nor', 'since', 'among', 'we', 'whole', 'yourself', 'throughout', 'as', 'anyone', 'whom', 'again', 'does', 'hereafter', 'in', 'she', 'meanwhile', 'first', 'move', 'per', \"'m\", 'really', 'me', 'third', 'within', 'by', 'together', 'where', 'ever', 'your', 'three', 'become', 'done', 'whether', 'however', 'of', 'everyone', 'did', '’d', 'or', 'wherein', 'becoming', 'never', 'someone', 'further', 'alone', 'fifty', 'sometime', 'about', 'must', 'all', 'no', 'indeed', 'thru', 'which', 'he', 'its', 'part', 'less', 'some', 'hereby', 'why', 'two', 'rather', 'myself', 'n‘t', 'former', 'whereby', 'although', 'from', 'eleven', 'every', 'many', 'cannot', 'anything', 'last', 'through', 'on', 'the', 'what', 'just', 'seemed', 'us', '‘m', 'whence', 'everything', 'up', 'everywhere', 'this', 'nobody', 'bottom', 'somewhere', 'their', 'then', 'least', 'make', 'beside', 'towards', 'much', 'yours', 'forty', 'only', 'until', 'can', 'fifteen', 'could', 'very', 'seeming', 'hence', 'beyond', 'somehow', 'front', 'but', 'please', 'hundred', 'hers', 'am', 'below', 'seem', 'therein', 'next', 'a', 'always', 'most', 'my', 'yet', 'amongst', 'thereupon', 'across', 'off', 'when', 'are', 'other', '‘ve', 'be', 'another', 'above', 'five', 'otherwise', 'has', 'over', 'therefore', 'top', 'his', 'them', 'any', 'whither', 'were', 'itself', 'an', 'than', 'via', 'none', 'back', 'along', 'due', 'serious', 'twenty', 'under', 'often', 'been', '‘re', 'if', 'themselves', 'mostly', 'while', 'noone', 'to', 'those', 'ca', 'onto', 'whereafter', 'anyway', 'latterly', 'same', 'sometimes', 'himself', 'name', 'unless', 'her', 'empty', 'doing', 'also', 'moreover', 'side', 'twelve', 'too', 'say', 'six', 'whereupon', 'take', 'such', 'even', 'may', 'seems', 'used', 'here', 'ourselves', 'keep', 'four', 'either', 'into', 'because', 'besides', 'it', 'is', 'latter', 'out', 'call', 'thus', 'something', 'using', 'him', 'see', 'yourselves', 'nine', 'they', \"n't\", 'thereafter', 'upon', 'nothing', 'was', 'few', 'do', 'already', 'these', '’s', 'various', \"'s\", 'more', 'one', 'quite', 'both', 'will', 'between', 'get', 'ten', 'show', 'give', 'i', 'wherever', 'and', 'so', 'how', 'now', 'toward', 'namely', \"'re\", 'whereas', 'before', 'eight', 'that', 'around', 'others', 'own', 'put', 'with', 'against', 'neither', 'hereupon', '‘ll', '’ve', 'beforehand', 'became', 'at', 'whose', 'several', 'not', 'there', 'whatever', 'elsewhere', 'herein', 'you', 'our', 'whenever', 'perhaps', 'anyhow', \"'d\", 'well', 'anywhere', 'for', '’m', 'thereby', 'nevertheless', 'behind', 'enough', '‘d', 'should', 'n’t', 'have', 'formerly', 'becomes', 'almost', '’re', 'mine', 'would', 'go', 'after', 'nowhere', '’ll', 'amount', \"'ve\", 'still', 'ours', 'being', 'might', 'regarding', 'whoever', 'made', 'once', 'had', 'else', 'though', 'except', 'who', \"'ll\", 'sixty', 'during', 'down', 'full', 'herself', 'afterwards', '‘s']\n"
          ]
        }
      ]
    },
    {
      "cell_type": "code",
      "metadata": {
        "id": "8b0a6d49",
        "colab": {
          "base_uri": "https://localhost:8080/"
        },
        "outputId": "b4d3b596-dc50-4234-df24-35c5c08c9273"
      },
      "source": [
        "# Mengambil komponen - komponen pada Spacy seperti:\n",
        "# tok2vec, tagger, parser, senter, ner, attribute_ruler, lemmatizer.\n",
        "nlp = spacy.load('en_core_web_sm')\n",
        "print(nlp) # Object"
      ],
      "id": "8b0a6d49",
      "execution_count": null,
      "outputs": [
        {
          "output_type": "stream",
          "name": "stdout",
          "text": [
            "<spacy.lang.en.English object at 0x7f800a4d7bd0>\n"
          ]
        }
      ]
    },
    {
      "cell_type": "code",
      "metadata": {
        "id": "21329d15"
      },
      "source": [
        "text = \"\"\"\n",
        "There are broadly two types of extractive summarization tasks depending on what the summarization program focuses on. The first is generic summarization, which focuses on obtaining a generic summary or abstract of the collection (whether documents, or sets of images, or videos, news stories etc.). The second is query relevant summarization, sometimes called query-based summarization, which summarizes objects specific to a query. Summarization systems are able to create both query relevant text summaries and generic machine-generated summaries depending on what the user needs.\n",
        "An example of a summarization problem is document summarization, which attempts to automatically produce an abstract from a given document. Sometimes one might be interested in generating a summary from a single source document, while others can use multiple source documents (for example, a cluster of articles on the same topic). This problem is called multi-document summarization. A related application is summarizing news articles. Imagine a system, which automatically pulls together news articles on a given topic (from the web), and concisely represents the latest news as a summary.\n",
        "Image collection summarization is another application example of automatic summarization. It consists in selecting a representative set of images from a larger set of images.[3] A summary in this context is useful to show the most representative images of results in an image collection exploration system. Video summarization is a related domain, where the system automatically creates a trailer of a long video. This also has applications in consumer or personal videos, where one might want to skip the boring or repetitive actions. Similarly, in surveillance videos, one would want to extract important and suspicious activity, while ignoring all the boring and redundant frames captured.\n",
        "\"\"\""
      ],
      "id": "21329d15",
      "execution_count": null,
      "outputs": []
    },
    {
      "cell_type": "markdown",
      "metadata": {
        "id": "a9a09d3f"
      },
      "source": [
        "# Proses 1 (Tokenization)"
      ],
      "id": "a9a09d3f"
    },
    {
      "cell_type": "code",
      "metadata": {
        "id": "82e36eba",
        "colab": {
          "base_uri": "https://localhost:8080/"
        },
        "outputId": "685d28fc-63d2-4c5d-f2b9-50c3518f29b1"
      },
      "source": [
        "2# Membuat objek iterable (bisa dilakukan iterasi) dari teks\n",
        "doc = nlp(text)\n",
        "print(doc)"
      ],
      "id": "82e36eba",
      "execution_count": null,
      "outputs": [
        {
          "output_type": "stream",
          "name": "stdout",
          "text": [
            "\n",
            "There are broadly two types of extractive summarization tasks depending on what the summarization program focuses on. The first is generic summarization, which focuses on obtaining a generic summary or abstract of the collection (whether documents, or sets of images, or videos, news stories etc.). The second is query relevant summarization, sometimes called query-based summarization, which summarizes objects specific to a query. Summarization systems are able to create both query relevant text summaries and generic machine-generated summaries depending on what the user needs.\n",
            "An example of a summarization problem is document summarization, which attempts to automatically produce an abstract from a given document. Sometimes one might be interested in generating a summary from a single source document, while others can use multiple source documents (for example, a cluster of articles on the same topic). This problem is called multi-document summarization. A related application is summarizing news articles. Imagine a system, which automatically pulls together news articles on a given topic (from the web), and concisely represents the latest news as a summary.\n",
            "Image collection summarization is another application example of automatic summarization. It consists in selecting a representative set of images from a larger set of images.[3] A summary in this context is useful to show the most representative images of results in an image collection exploration system. Video summarization is a related domain, where the system automatically creates a trailer of a long video. This also has applications in consumer or personal videos, where one might want to skip the boring or repetitive actions. Similarly, in surveillance videos, one would want to extract important and suspicious activity, while ignoring all the boring and redundant frames captured.\n",
            "\n"
          ]
        }
      ]
    },
    {
      "cell_type": "code",
      "metadata": {
        "id": "36de8256",
        "colab": {
          "base_uri": "https://localhost:8080/"
        },
        "outputId": "4042b649-82c8-4e0c-cf99-59206ca1444e"
      },
      "source": [
        "# Membuat token dari teks\n",
        "tokens = [token.text for token in doc]\n",
        "print(tokens)"
      ],
      "id": "36de8256",
      "execution_count": null,
      "outputs": [
        {
          "output_type": "stream",
          "name": "stdout",
          "text": [
            "['\\n', 'There', 'are', 'broadly', 'two', 'types', 'of', 'extractive', 'summarization', 'tasks', 'depending', 'on', 'what', 'the', 'summarization', 'program', 'focuses', 'on', '.', 'The', 'first', 'is', 'generic', 'summarization', ',', 'which', 'focuses', 'on', 'obtaining', 'a', 'generic', 'summary', 'or', 'abstract', 'of', 'the', 'collection', '(', 'whether', 'documents', ',', 'or', 'sets', 'of', 'images', ',', 'or', 'videos', ',', 'news', 'stories', 'etc', '.', ')', '.', 'The', 'second', 'is', 'query', 'relevant', 'summarization', ',', 'sometimes', 'called', 'query', '-', 'based', 'summarization', ',', 'which', 'summarizes', 'objects', 'specific', 'to', 'a', 'query', '.', 'Summarization', 'systems', 'are', 'able', 'to', 'create', 'both', 'query', 'relevant', 'text', 'summaries', 'and', 'generic', 'machine', '-', 'generated', 'summaries', 'depending', 'on', 'what', 'the', 'user', 'needs', '.', '\\n', 'An', 'example', 'of', 'a', 'summarization', 'problem', 'is', 'document', 'summarization', ',', 'which', 'attempts', 'to', 'automatically', 'produce', 'an', 'abstract', 'from', 'a', 'given', 'document', '.', 'Sometimes', 'one', 'might', 'be', 'interested', 'in', 'generating', 'a', 'summary', 'from', 'a', 'single', 'source', 'document', ',', 'while', 'others', 'can', 'use', 'multiple', 'source', 'documents', '(', 'for', 'example', ',', 'a', 'cluster', 'of', 'articles', 'on', 'the', 'same', 'topic', ')', '.', 'This', 'problem', 'is', 'called', 'multi', '-', 'document', 'summarization', '.', 'A', 'related', 'application', 'is', 'summarizing', 'news', 'articles', '.', 'Imagine', 'a', 'system', ',', 'which', 'automatically', 'pulls', 'together', 'news', 'articles', 'on', 'a', 'given', 'topic', '(', 'from', 'the', 'web', ')', ',', 'and', 'concisely', 'represents', 'the', 'latest', 'news', 'as', 'a', 'summary', '.', '\\n', 'Image', 'collection', 'summarization', 'is', 'another', 'application', 'example', 'of', 'automatic', 'summarization', '.', 'It', 'consists', 'in', 'selecting', 'a', 'representative', 'set', 'of', 'images', 'from', 'a', 'larger', 'set', 'of', 'images.[3', ']', 'A', 'summary', 'in', 'this', 'context', 'is', 'useful', 'to', 'show', 'the', 'most', 'representative', 'images', 'of', 'results', 'in', 'an', 'image', 'collection', 'exploration', 'system', '.', 'Video', 'summarization', 'is', 'a', 'related', 'domain', ',', 'where', 'the', 'system', 'automatically', 'creates', 'a', 'trailer', 'of', 'a', 'long', 'video', '.', 'This', 'also', 'has', 'applications', 'in', 'consumer', 'or', 'personal', 'videos', ',', 'where', 'one', 'might', 'want', 'to', 'skip', 'the', 'boring', 'or', 'repetitive', 'actions', '.', 'Similarly', ',', 'in', 'surveillance', 'videos', ',', 'one', 'would', 'want', 'to', 'extract', 'important', 'and', 'suspicious', 'activity', ',', 'while', 'ignoring', 'all', 'the', 'boring', 'and', 'redundant', 'frames', 'captured', '.', '\\n']\n"
          ]
        }
      ]
    },
    {
      "cell_type": "markdown",
      "metadata": {
        "id": "a8fb0054"
      },
      "source": [
        "# Proses 2 (Text cleaning)"
      ],
      "id": "a8fb0054"
    },
    {
      "cell_type": "code",
      "metadata": {
        "id": "028bde0d",
        "colab": {
          "base_uri": "https://localhost:8080/",
          "height": 36
        },
        "outputId": "5db6218f-bede-4caa-f900-3a19e9549945"
      },
      "source": [
        "# Punctuation = karakter khusus, karakter ini akan dihilangkan dari teks\n",
        "punctuation = punctuation + '\\n'\n",
        "punctuation"
      ],
      "id": "028bde0d",
      "execution_count": null,
      "outputs": [
        {
          "output_type": "execute_result",
          "data": {
            "application/vnd.google.colaboratory.intrinsic+json": {
              "type": "string"
            },
            "text/plain": [
              "'!\"#$%&\\'()*+,-./:;<=>?@[\\\\]^_`{|}~\\n'"
            ]
          },
          "metadata": {},
          "execution_count": 9
        }
      ]
    },
    {
      "cell_type": "markdown",
      "metadata": {
        "id": "ab74e37a"
      },
      "source": [
        "# Proses 3 ( Word-frequency table )"
      ],
      "id": "ab74e37a"
    },
    {
      "cell_type": "code",
      "metadata": {
        "id": "4edf901f",
        "colab": {
          "base_uri": "https://localhost:8080/"
        },
        "outputId": "62b66410-abaa-42d9-9a71-52a1878a4427"
      },
      "source": [
        "# Membuat dictionary bag of word\n",
        "word_frequencies = {}\n",
        "\n",
        "# Mengisi word_frequencies tanpa stopword dan karakter khusus\n",
        "for word in doc:\n",
        "    if word.text.lower() not in stopwords:\n",
        "        if word.text.lower() not in punctuation:\n",
        "            if word.text not in word_frequencies.keys():\n",
        "                word_frequencies[word.text] = 1\n",
        "            else:\n",
        "                word_frequencies[word.text] += 1\n",
        "                \n",
        "print(word_frequencies)"
      ],
      "id": "4edf901f",
      "execution_count": null,
      "outputs": [
        {
          "output_type": "stream",
          "name": "stdout",
          "text": [
            "{'broadly': 1, 'types': 1, 'extractive': 1, 'summarization': 11, 'tasks': 1, 'depending': 2, 'program': 1, 'focuses': 2, 'generic': 3, 'obtaining': 1, 'summary': 4, 'abstract': 2, 'collection': 3, 'documents': 2, 'sets': 1, 'images': 3, 'videos': 3, 'news': 4, 'stories': 1, 'etc': 1, 'second': 1, 'query': 4, 'relevant': 2, 'called': 2, 'based': 1, 'summarizes': 1, 'objects': 1, 'specific': 1, 'Summarization': 1, 'systems': 1, 'able': 1, 'create': 1, 'text': 1, 'summaries': 2, 'machine': 1, 'generated': 1, 'user': 1, 'needs': 1, 'example': 3, 'problem': 2, 'document': 4, 'attempts': 1, 'automatically': 3, 'produce': 1, 'given': 2, 'interested': 1, 'generating': 1, 'single': 1, 'source': 2, 'use': 1, 'multiple': 1, 'cluster': 1, 'articles': 3, 'topic': 2, 'multi': 1, 'related': 2, 'application': 2, 'summarizing': 1, 'Imagine': 1, 'system': 3, 'pulls': 1, 'web': 1, 'concisely': 1, 'represents': 1, 'latest': 1, 'Image': 1, 'automatic': 1, 'consists': 1, 'selecting': 1, 'representative': 2, 'set': 2, 'larger': 1, 'images.[3': 1, 'context': 1, 'useful': 1, 'results': 1, 'image': 1, 'exploration': 1, 'Video': 1, 'domain': 1, 'creates': 1, 'trailer': 1, 'long': 1, 'video': 1, 'applications': 1, 'consumer': 1, 'personal': 1, 'want': 2, 'skip': 1, 'boring': 2, 'repetitive': 1, 'actions': 1, 'Similarly': 1, 'surveillance': 1, 'extract': 1, 'important': 1, 'suspicious': 1, 'activity': 1, 'ignoring': 1, 'redundant': 1, 'frames': 1, 'captured': 1}\n"
          ]
        }
      ]
    },
    {
      "cell_type": "code",
      "metadata": {
        "id": "fe29ddfd",
        "colab": {
          "base_uri": "https://localhost:8080/"
        },
        "outputId": "4603ebba-12a9-4137-9dbc-16ba1bbd49d6"
      },
      "source": [
        "# Menyimpan nilai frekuensi maksimal dari token yang sudah dibuat\n",
        "max_frequency = max(word_frequencies.values())\n",
        "max_frequency"
      ],
      "id": "fe29ddfd",
      "execution_count": null,
      "outputs": [
        {
          "output_type": "execute_result",
          "data": {
            "text/plain": [
              "11"
            ]
          },
          "metadata": {},
          "execution_count": 11
        }
      ]
    },
    {
      "cell_type": "code",
      "metadata": {
        "id": "36874b3f",
        "colab": {
          "base_uri": "https://localhost:8080/"
        },
        "outputId": "d7478949-8b17-4614-9046-4542148897c5"
      },
      "source": [
        "# Menghitung skor\n",
        "for word in word_frequencies.keys():\n",
        "    word_frequencies[word] = word_frequencies[word]/max_frequency\n",
        "\n",
        "print(word_frequencies)"
      ],
      "id": "36874b3f",
      "execution_count": null,
      "outputs": [
        {
          "output_type": "stream",
          "name": "stdout",
          "text": [
            "{'broadly': 0.09090909090909091, 'types': 0.09090909090909091, 'extractive': 0.09090909090909091, 'summarization': 1.0, 'tasks': 0.09090909090909091, 'depending': 0.18181818181818182, 'program': 0.09090909090909091, 'focuses': 0.18181818181818182, 'generic': 0.2727272727272727, 'obtaining': 0.09090909090909091, 'summary': 0.36363636363636365, 'abstract': 0.18181818181818182, 'collection': 0.2727272727272727, 'documents': 0.18181818181818182, 'sets': 0.09090909090909091, 'images': 0.2727272727272727, 'videos': 0.2727272727272727, 'news': 0.36363636363636365, 'stories': 0.09090909090909091, 'etc': 0.09090909090909091, 'second': 0.09090909090909091, 'query': 0.36363636363636365, 'relevant': 0.18181818181818182, 'called': 0.18181818181818182, 'based': 0.09090909090909091, 'summarizes': 0.09090909090909091, 'objects': 0.09090909090909091, 'specific': 0.09090909090909091, 'Summarization': 0.09090909090909091, 'systems': 0.09090909090909091, 'able': 0.09090909090909091, 'create': 0.09090909090909091, 'text': 0.09090909090909091, 'summaries': 0.18181818181818182, 'machine': 0.09090909090909091, 'generated': 0.09090909090909091, 'user': 0.09090909090909091, 'needs': 0.09090909090909091, 'example': 0.2727272727272727, 'problem': 0.18181818181818182, 'document': 0.36363636363636365, 'attempts': 0.09090909090909091, 'automatically': 0.2727272727272727, 'produce': 0.09090909090909091, 'given': 0.18181818181818182, 'interested': 0.09090909090909091, 'generating': 0.09090909090909091, 'single': 0.09090909090909091, 'source': 0.18181818181818182, 'use': 0.09090909090909091, 'multiple': 0.09090909090909091, 'cluster': 0.09090909090909091, 'articles': 0.2727272727272727, 'topic': 0.18181818181818182, 'multi': 0.09090909090909091, 'related': 0.18181818181818182, 'application': 0.18181818181818182, 'summarizing': 0.09090909090909091, 'Imagine': 0.09090909090909091, 'system': 0.2727272727272727, 'pulls': 0.09090909090909091, 'web': 0.09090909090909091, 'concisely': 0.09090909090909091, 'represents': 0.09090909090909091, 'latest': 0.09090909090909091, 'Image': 0.09090909090909091, 'automatic': 0.09090909090909091, 'consists': 0.09090909090909091, 'selecting': 0.09090909090909091, 'representative': 0.18181818181818182, 'set': 0.18181818181818182, 'larger': 0.09090909090909091, 'images.[3': 0.09090909090909091, 'context': 0.09090909090909091, 'useful': 0.09090909090909091, 'results': 0.09090909090909091, 'image': 0.09090909090909091, 'exploration': 0.09090909090909091, 'Video': 0.09090909090909091, 'domain': 0.09090909090909091, 'creates': 0.09090909090909091, 'trailer': 0.09090909090909091, 'long': 0.09090909090909091, 'video': 0.09090909090909091, 'applications': 0.09090909090909091, 'consumer': 0.09090909090909091, 'personal': 0.09090909090909091, 'want': 0.18181818181818182, 'skip': 0.09090909090909091, 'boring': 0.18181818181818182, 'repetitive': 0.09090909090909091, 'actions': 0.09090909090909091, 'Similarly': 0.09090909090909091, 'surveillance': 0.09090909090909091, 'extract': 0.09090909090909091, 'important': 0.09090909090909091, 'suspicious': 0.09090909090909091, 'activity': 0.09090909090909091, 'ignoring': 0.09090909090909091, 'redundant': 0.09090909090909091, 'frames': 0.09090909090909091, 'captured': 0.09090909090909091}\n"
          ]
        }
      ]
    },
    {
      "cell_type": "code",
      "metadata": {
        "id": "55f406d8",
        "colab": {
          "base_uri": "https://localhost:8080/"
        },
        "outputId": "a9d215bb-d0fb-4516-a86e-372ce69ff468"
      },
      "source": [
        "sentence_tokens = [sent for sent in doc.sents]\n",
        "print(sentence_tokens)"
      ],
      "id": "55f406d8",
      "execution_count": null,
      "outputs": [
        {
          "output_type": "stream",
          "name": "stdout",
          "text": [
            "[\n",
            "There are broadly two types of extractive summarization tasks depending on what the summarization program focuses on., The first is generic summarization, which focuses on obtaining a generic summary or abstract of the collection (whether documents, or sets of images, or videos, news stories etc.)., The second is query relevant summarization, sometimes called query-based summarization, which summarizes objects specific to a query., Summarization systems are able to create both query relevant text summaries and generic machine-generated summaries depending on what the user needs.\n",
            ", An example of a summarization problem is document summarization, which attempts to automatically produce an abstract from a given document., Sometimes one might be interested in generating a summary from a single source document, while others can use multiple source documents (for example, a cluster of articles on the same topic)., This problem is called multi-document summarization., A related application is summarizing news articles., Imagine a system, which automatically pulls together news articles on a given topic (from the web), and concisely represents the latest news as a summary.\n",
            ", Image collection summarization is another application example of automatic summarization., It consists in selecting a representative set of images from a larger set of images.[3], A summary in this context is useful to show the most representative images of results in an image collection exploration system., Video summarization is a related domain, where the system automatically creates a trailer of a long video., This also has applications in consumer or personal videos, where one might want to skip the boring or repetitive actions., Similarly, in surveillance videos, one would want to extract important and suspicious activity, while ignoring all the boring and redundant frames captured.\n",
            "]\n"
          ]
        }
      ]
    },
    {
      "cell_type": "code",
      "metadata": {
        "id": "8907f2ee",
        "colab": {
          "base_uri": "https://localhost:8080/"
        },
        "outputId": "3e8a6b14-2690-4c2b-e887-685bd6a451ac"
      },
      "source": [
        "# Mengisi skor untuk setiap kalimat\n",
        "sentence_scores = {}\n",
        "for sent in sentence_tokens:\n",
        "    for word in sent:\n",
        "        if word.text.lower() in word_frequencies.keys():\n",
        "            if sent not in sentence_scores.keys():\n",
        "                sentence_scores[sent] = word_frequencies[word.text.lower()]\n",
        "            else:\n",
        "                sentence_scores[sent] += word_frequencies[word.text.lower()]\n",
        "                \n",
        "sentence_scores"
      ],
      "id": "8907f2ee",
      "execution_count": null,
      "outputs": [
        {
          "output_type": "execute_result",
          "data": {
            "text/plain": [
              "{\n",
              " There are broadly two types of extractive summarization tasks depending on what the summarization program focuses on.: 2.818181818181818,\n",
              " The first is generic summarization, which focuses on obtaining a generic summary or abstract of the collection (whether documents, or sets of images, or videos, news stories etc.).: 3.9999999999999987,\n",
              " The second is query relevant summarization, sometimes called query-based summarization, which summarizes objects specific to a query.: 3.909090909090909,\n",
              " Summarization systems are able to create both query relevant text summaries and generic machine-generated summaries depending on what the user needs.: 3.09090909090909,\n",
              " An example of a summarization problem is document summarization, which attempts to automatically produce an abstract from a given document.: 3.9999999999999996,\n",
              " Sometimes one might be interested in generating a summary from a single source document, while others can use multiple source documents (for example, a cluster of articles on the same topic).: 2.545454545454545,\n",
              " This problem is called multi-document summarization.: 1.8181818181818183,\n",
              " A related application is summarizing news articles.: 1.0909090909090908,\n",
              " Imagine a system, which automatically pulls together news articles on a given topic (from the web), and concisely represents the latest news as a summary.: 2.727272727272727,\n",
              " Image collection summarization is another application example of automatic summarization.: 2.909090909090909,\n",
              " It consists in selecting a representative set of images from a larger set of images.[3]: 1.1818181818181817,\n",
              " A summary in this context is useful to show the most representative images of results in an image collection exploration system.: 1.818181818181818,\n",
              " Video summarization is a related domain, where the system automatically creates a trailer of a long video.: 2.2727272727272725,\n",
              " This also has applications in consumer or personal videos, where one might want to skip the boring or repetitive actions.: 1.1818181818181817,\n",
              " Similarly, in surveillance videos, one would want to extract important and suspicious activity, while ignoring all the boring and redundant frames captured.: 1.4545454545454544}"
            ]
          },
          "metadata": {},
          "execution_count": 14
        }
      ]
    },
    {
      "cell_type": "markdown",
      "metadata": {
        "id": "a8898340"
      },
      "source": [
        "# Proses 4 : End Process (Summarization)"
      ],
      "id": "a8898340"
    },
    {
      "cell_type": "code",
      "metadata": {
        "id": "1730f8a7"
      },
      "source": [
        "# Import library nlargest untuk mengurutkan dan mengambil n nilai terbesar dari list.\n",
        "from heapq import nlargest"
      ],
      "id": "1730f8a7",
      "execution_count": null,
      "outputs": []
    },
    {
      "cell_type": "code",
      "metadata": {
        "id": "45113ff2",
        "colab": {
          "base_uri": "https://localhost:8080/"
        },
        "outputId": "1ec39981-1bf3-4741-ada6-5f49e017bec9"
      },
      "source": [
        "# Menentukan ukuran teks setelah dirangkum menjadi 30% dari teks asli\n",
        "summarization_percentage = 0.3\n",
        "select_length = int(len(sentence_tokens) * summarization_percentage)\n",
        "select_length"
      ],
      "id": "45113ff2",
      "execution_count": null,
      "outputs": [
        {
          "output_type": "execute_result",
          "data": {
            "text/plain": [
              "4"
            ]
          },
          "metadata": {},
          "execution_count": 16
        }
      ]
    },
    {
      "cell_type": "code",
      "metadata": {
        "id": "96e9b098"
      },
      "source": [
        "summary = nlargest(select_length, sentence_scores, key = sentence_scores.get)"
      ],
      "id": "96e9b098",
      "execution_count": null,
      "outputs": []
    },
    {
      "cell_type": "code",
      "metadata": {
        "colab": {
          "base_uri": "https://localhost:8080/"
        },
        "id": "9ZlrIdDR47D9",
        "outputId": "5843b9c3-e193-4b5b-95e4-b43036c14b1a"
      },
      "source": [
        "summary\n"
      ],
      "id": "9ZlrIdDR47D9",
      "execution_count": null,
      "outputs": [
        {
          "output_type": "execute_result",
          "data": {
            "text/plain": [
              "[An example of a summarization problem is document summarization, which attempts to automatically produce an abstract from a given document.,\n",
              " The first is generic summarization, which focuses on obtaining a generic summary or abstract of the collection (whether documents, or sets of images, or videos, news stories etc.).,\n",
              " The second is query relevant summarization, sometimes called query-based summarization, which summarizes objects specific to a query.,\n",
              " Summarization systems are able to create both query relevant text summaries and generic machine-generated summaries depending on what the user needs.]"
            ]
          },
          "metadata": {},
          "execution_count": 18
        }
      ]
    },
    {
      "cell_type": "code",
      "metadata": {
        "id": "b232b3b7"
      },
      "source": [
        "final_summary = [word.text for word in summary]\n",
        "summary = ' '.join(final_summary)"
      ],
      "id": "b232b3b7",
      "execution_count": null,
      "outputs": []
    },
    {
      "cell_type": "code",
      "metadata": {
        "id": "5581b217",
        "colab": {
          "base_uri": "https://localhost:8080/"
        },
        "outputId": "2400298b-642d-4a96-b570-9928de2a3418"
      },
      "source": [
        "print(f\"Jumlah kata sebelum dirangkum: {len(text)}\")\n",
        "print(f\"Jumlah kata setelah dirangkum: {len(summary)}\")"
      ],
      "id": "5581b217",
      "execution_count": null,
      "outputs": [
        {
          "output_type": "stream",
          "name": "stdout",
          "text": [
            "Jumlah kata sebelum dirangkum: 1869\n",
            "Jumlah kata setelah dirangkum: 605\n"
          ]
        }
      ]
    }
  ]
}