{
  "nbformat": 4,
  "nbformat_minor": 0,
  "metadata": {
    "kernelspec": {
      "display_name": "Python 3",
      "language": "python",
      "name": "python3"
    },
    "language_info": {
      "codemirror_mode": {
        "name": "ipython",
        "version": 3
      },
      "file_extension": ".py",
      "mimetype": "text/x-python",
      "name": "python",
      "nbconvert_exporter": "python",
      "pygments_lexer": "ipython3",
      "version": "3.7.4"
    },
    "colab": {
      "name": "Latihan 8_Data Structure 2.ipynb",
      "provenance": [],
      "include_colab_link": true
    }
  },
  "cells": [
    {
      "cell_type": "markdown",
      "metadata": {
        "id": "view-in-github",
        "colab_type": "text"
      },
      "source": [
        "<a href=\"https://colab.research.google.com/github/prissyyy/Studi-Independen/blob/main/Latihan%208_Data%20Structure%202.ipynb\" target=\"_parent\"><img src=\"https://colab.research.google.com/assets/colab-badge.svg\" alt=\"Open In Colab\"/></a>"
      ]
    },
    {
      "cell_type": "markdown",
      "metadata": {
        "id": "hazKOCunu6wK"
      },
      "source": [
        "Selasa, 21 Sept 2021"
      ]
    },
    {
      "cell_type": "code",
      "metadata": {
        "id": "_KC6jw7EDb4Y",
        "colab": {
          "base_uri": "https://localhost:8080/"
        },
        "outputId": "d328763a-79fb-4ca4-f295-754332dfe4e9"
      },
      "source": [
        "# 1. Membuat Tuple dan Cek typenya\n",
        "fruits = (\"apple\", \"banana\", \"cherry\", \"orange\", \"kiwi\", \"melon\", \"mango\")\n",
        "type(fruits)"
      ],
      "execution_count": null,
      "outputs": [
        {
          "output_type": "execute_result",
          "data": {
            "text/plain": [
              "tuple"
            ]
          },
          "metadata": {},
          "execution_count": 1
        }
      ]
    },
    {
      "cell_type": "code",
      "metadata": {
        "id": "5_GIrWuxDb4f",
        "colab": {
          "base_uri": "https://localhost:8080/"
        },
        "outputId": "40e2cc7e-a98d-4eea-989e-a6cbbd265ed3"
      },
      "source": [
        "len(fruits)"
      ],
      "execution_count": null,
      "outputs": [
        {
          "output_type": "execute_result",
          "data": {
            "text/plain": [
              "7"
            ]
          },
          "metadata": {},
          "execution_count": 2
        }
      ]
    },
    {
      "cell_type": "code",
      "metadata": {
        "id": "NUWUY_m8Db4g",
        "colab": {
          "base_uri": "https://localhost:8080/"
        },
        "outputId": "d1db33be-b36f-4d0c-cf44-bda9752eabe9"
      },
      "source": [
        "# 2. Ambil item apple sebanyak 2, orange 1, mango 3\n",
        "# Simpan dengan nama variable add\n",
        "add = fruits[0],fruits[0],fruits[3],fruits[6],fruits[6],fruits[6]\n",
        "add"
      ],
      "execution_count": null,
      "outputs": [
        {
          "output_type": "execute_result",
          "data": {
            "text/plain": [
              "('apple', 'apple', 'orange', 'mango', 'mango', 'mango')"
            ]
          },
          "metadata": {},
          "execution_count": 3
        }
      ]
    },
    {
      "cell_type": "code",
      "metadata": {
        "id": "Vj5PnI_dDb4h",
        "colab": {
          "base_uri": "https://localhost:8080/"
        },
        "outputId": "d97e7fe5-5237-4ee0-825f-03bb7d8a1a32"
      },
      "source": [
        "# 3. Buat variable new dengan berisi gabungkan variable add dengan variable fruits\n",
        "# Urutkan isi variable new\n",
        "new = fruits + add\n",
        "sorted(new)"
      ],
      "execution_count": null,
      "outputs": [
        {
          "output_type": "execute_result",
          "data": {
            "text/plain": [
              "['apple',\n",
              " 'apple',\n",
              " 'apple',\n",
              " 'banana',\n",
              " 'cherry',\n",
              " 'kiwi',\n",
              " 'mango',\n",
              " 'mango',\n",
              " 'mango',\n",
              " 'mango',\n",
              " 'melon',\n",
              " 'orange',\n",
              " 'orange']"
            ]
          },
          "metadata": {},
          "execution_count": 4
        }
      ]
    },
    {
      "cell_type": "code",
      "metadata": {
        "id": "mlamlGIfDb4i",
        "colab": {
          "base_uri": "https://localhost:8080/"
        },
        "outputId": "a7752175-2557-4018-fdd1-c2646612f09e"
      },
      "source": [
        "# 4. Ubah variable new dari type data tuple menjadi set\n",
        "# Tambahkan item pear\n",
        "# Hitung jumlah itemnya\n",
        "new = set(new)\n",
        "new.add(\"pear\")\n",
        "print(new)\n",
        "len(new)"
      ],
      "execution_count": null,
      "outputs": [
        {
          "output_type": "stream",
          "name": "stdout",
          "text": [
            "{'mango', 'cherry', 'orange', 'melon', 'pear', 'apple', 'banana', 'kiwi'}\n"
          ]
        },
        {
          "output_type": "execute_result",
          "data": {
            "text/plain": [
              "8"
            ]
          },
          "metadata": {},
          "execution_count": 5
        }
      ]
    },
    {
      "cell_type": "code",
      "metadata": {
        "id": "EBnddDR3Db4j",
        "colab": {
          "base_uri": "https://localhost:8080/"
        },
        "outputId": "c5ef0f36-f053-4b34-f308-539ac97299e8"
      },
      "source": [
        "# 5. Buat variable cars dengan ketentuan\n",
        "cars = {\"Toyota Vios\":270000000,\n",
        "       \"Toyota Yaris\":235000000,\n",
        "       \"Honda Civic\":400000000,\n",
        "       \"Nissan Skyline\":690000000,\n",
        "       \"Honda City\":312000000}\n",
        "print(cars)\n",
        "type(cars)"
      ],
      "execution_count": null,
      "outputs": [
        {
          "output_type": "stream",
          "name": "stdout",
          "text": [
            "{'Toyota Vios': 270000000, 'Toyota Yaris': 235000000, 'Honda Civic': 400000000, 'Nissan Skyline': 690000000, 'Honda City': 312000000}\n"
          ]
        },
        {
          "output_type": "execute_result",
          "data": {
            "text/plain": [
              "dict"
            ]
          },
          "metadata": {},
          "execution_count": 6
        }
      ]
    },
    {
      "cell_type": "code",
      "metadata": {
        "id": "K212n2kYDb4j",
        "colab": {
          "base_uri": "https://localhost:8080/"
        },
        "outputId": "2b78c4c8-4575-4cc7-f425-4dbd1dd53bb2"
      },
      "source": [
        "# 6. Tambahkan key dan value dibawah ini\n",
        "# BMW M3:1900000000\n",
        "# urutkan berdasarkan item\n",
        "cars[\"BMW M3\"]=1900000000\n",
        "sorted(cars.items())"
      ],
      "execution_count": null,
      "outputs": [
        {
          "output_type": "execute_result",
          "data": {
            "text/plain": [
              "[('BMW M3', 1900000000),\n",
              " ('Honda City', 312000000),\n",
              " ('Honda Civic', 400000000),\n",
              " ('Nissan Skyline', 690000000),\n",
              " ('Toyota Vios', 270000000),\n",
              " ('Toyota Yaris', 235000000)]"
            ]
          },
          "metadata": {},
          "execution_count": 7
        }
      ]
    },
    {
      "cell_type": "code",
      "metadata": {
        "id": "4sOqIKrsDb4l",
        "colab": {
          "base_uri": "https://localhost:8080/"
        },
        "outputId": "51086e5b-83f6-4f83-8466-45d218f3f14d"
      },
      "source": [
        "# 7. Ubah value Nissan Skyline menjadi 641000000\n",
        "cars[\"Nissan Skyline\"] = 641000000\n",
        "cars"
      ],
      "execution_count": null,
      "outputs": [
        {
          "output_type": "execute_result",
          "data": {
            "text/plain": [
              "{'BMW M3': 1900000000,\n",
              " 'Honda City': 312000000,\n",
              " 'Honda Civic': 400000000,\n",
              " 'Nissan Skyline': 641000000,\n",
              " 'Toyota Vios': 270000000,\n",
              " 'Toyota Yaris': 235000000}"
            ]
          },
          "metadata": {},
          "execution_count": 8
        }
      ]
    },
    {
      "cell_type": "code",
      "metadata": {
        "id": "rXYPc80ODb4m",
        "colab": {
          "base_uri": "https://localhost:8080/"
        },
        "outputId": "883bc1f1-dfd1-4c23-c107-d6fb516df0c0"
      },
      "source": [
        "# 8. Ubah key Nissan Skyline menjadi Honda Accord\n",
        "cars[\"Honda Accord\"] = cars.pop(\"Nissan Skyline\")\n",
        "cars"
      ],
      "execution_count": null,
      "outputs": [
        {
          "output_type": "execute_result",
          "data": {
            "text/plain": [
              "{'BMW M3': 1900000000,\n",
              " 'Honda Accord': 641000000,\n",
              " 'Honda City': 312000000,\n",
              " 'Honda Civic': 400000000,\n",
              " 'Toyota Vios': 270000000,\n",
              " 'Toyota Yaris': 235000000}"
            ]
          },
          "metadata": {},
          "execution_count": 9
        }
      ]
    },
    {
      "cell_type": "code",
      "metadata": {
        "id": "4qE-Rd1kDb4o",
        "colab": {
          "base_uri": "https://localhost:8080/"
        },
        "outputId": "61e98429-8c09-4e61-b289-d63a993dada5"
      },
      "source": [
        "# 9. Buat variable cars_set dengan type data set berisi value dari variable cars\n",
        "# buat variable cars_total dengan berisi total dari seluruh item \n",
        "# cetak hasilnya\n",
        "cars_set = set(cars.values())\n",
        "cars_set"
      ],
      "execution_count": null,
      "outputs": [
        {
          "output_type": "execute_result",
          "data": {
            "text/plain": [
              "{235000000, 270000000, 312000000, 400000000, 641000000, 1900000000, 3758000000}"
            ]
          },
          "metadata": {},
          "execution_count": 56
        }
      ]
    },
    {
      "cell_type": "code",
      "metadata": {
        "colab": {
          "base_uri": "https://localhost:8080/"
        },
        "id": "WPWfFpWyoU6G",
        "outputId": "f379a472-03d3-4c8d-db22-f311e3f6f12a"
      },
      "source": [
        "# buat variable cars_total dengan berisi total dari seluruh item \n",
        "# cetak hasilnya\n",
        "cars_total = sum(cars_set)\n",
        "cars_total"
      ],
      "execution_count": null,
      "outputs": [
        {
          "output_type": "execute_result",
          "data": {
            "text/plain": [
              "7516000000"
            ]
          },
          "metadata": {},
          "execution_count": 57
        }
      ]
    },
    {
      "cell_type": "code",
      "metadata": {
        "id": "T_4naestDb4o",
        "colab": {
          "base_uri": "https://localhost:8080/"
        },
        "outputId": "5bf41ea7-2845-4cdb-fe81-5a0cd4dba2a4"
      },
      "source": [
        "# 10. Tambahkan key Total pada variable cars dengan value cars_total\n",
        "# cetak hasilnya\n",
        "cars[\"Total\"] = cars_total\n",
        "cars"
      ],
      "execution_count": null,
      "outputs": [
        {
          "output_type": "execute_result",
          "data": {
            "text/plain": [
              "{'BMW M3': 1900000000,\n",
              " 'Honda Accord': 641000000,\n",
              " 'Honda City': 312000000,\n",
              " 'Honda Civic': 400000000,\n",
              " 'Total': 3758000000,\n",
              " 'Toyota Vios': 270000000,\n",
              " 'Toyota Yaris': 235000000}"
            ]
          },
          "metadata": {},
          "execution_count": 12
        }
      ]
    },
    {
      "cell_type": "markdown",
      "metadata": {
        "id": "SKWohIAoDfF5"
      },
      "source": [
        "# **Conditional Test**\n",
        "\n",
        "A conditional test is an expression that can be evaluated as True or False. Python uses the values True and False to decide whether the code in an if statement should be executed. \n",
        "\n",
        "```\n",
        "# This is formatted as code\n",
        "```\n",
        "\n"
      ]
    },
    {
      "cell_type": "markdown",
      "metadata": {
        "id": "8jKdBElXEW2x"
      },
      "source": [
        "### *Checking for equality* \n",
        "A single equal sign assigns a value to a variable. A double equal sign (==) checks whether two values are equal.\n"
      ]
    },
    {
      "cell_type": "code",
      "metadata": {
        "colab": {
          "base_uri": "https://localhost:8080/"
        },
        "id": "6DOQ0pGtEb43",
        "outputId": "1a0b557b-308e-4dc5-fcaf-fa4d25a56f38"
      },
      "source": [
        "car = 'bmw' \n",
        "car == 'bmw' "
      ],
      "execution_count": null,
      "outputs": [
        {
          "output_type": "execute_result",
          "data": {
            "text/plain": [
              "True"
            ]
          },
          "metadata": {},
          "execution_count": 13
        }
      ]
    },
    {
      "cell_type": "markdown",
      "metadata": {
        "id": "pb8yjbXeEdzg"
      },
      "source": [
        "### *Ignoring case when making a comparison.* "
      ]
    },
    {
      "cell_type": "code",
      "metadata": {
        "colab": {
          "base_uri": "https://localhost:8080/"
        },
        "id": "b10Nhxf8Ejpp",
        "outputId": "70bd0141-f65a-4130-97a6-d4f9619c87a5"
      },
      "source": [
        "car = 'Audi' \n",
        "car.lower() == 'audi'"
      ],
      "execution_count": null,
      "outputs": [
        {
          "output_type": "execute_result",
          "data": {
            "text/plain": [
              "True"
            ]
          },
          "metadata": {},
          "execution_count": 58
        }
      ]
    },
    {
      "cell_type": "markdown",
      "metadata": {
        "id": "rJBym-RsEnD8"
      },
      "source": [
        "### *Checking for inequality*"
      ]
    },
    {
      "cell_type": "code",
      "metadata": {
        "id": "hWnaCoTOErR5",
        "colab": {
          "base_uri": "https://localhost:8080/"
        },
        "outputId": "448a0bbb-3011-4c1a-e41b-4610137696a0"
      },
      "source": [
        "topping = 'mushrooms' \n",
        "topping != 'anchovies'"
      ],
      "execution_count": null,
      "outputs": [
        {
          "output_type": "execute_result",
          "data": {
            "text/plain": [
              "True"
            ]
          },
          "metadata": {},
          "execution_count": 15
        }
      ]
    },
    {
      "cell_type": "markdown",
      "metadata": {
        "id": "VKnuMeE-Et2x"
      },
      "source": [
        "# **Numerical comparison**\n",
        "\n",
        "Testing numerical values is similar to testing string values."
      ]
    },
    {
      "cell_type": "markdown",
      "metadata": {
        "id": "1NK8gL0JEw8A"
      },
      "source": [
        "### *Testing equality and inequality*"
      ]
    },
    {
      "cell_type": "code",
      "metadata": {
        "id": "jSnNidCYEze3",
        "colab": {
          "base_uri": "https://localhost:8080/"
        },
        "outputId": "9a33515b-a9a6-4c77-bee4-dc80bcee5d11"
      },
      "source": [
        "age = 18 \n",
        "age == 18"
      ],
      "execution_count": null,
      "outputs": [
        {
          "output_type": "execute_result",
          "data": {
            "text/plain": [
              "True"
            ]
          },
          "metadata": {},
          "execution_count": 59
        }
      ]
    },
    {
      "cell_type": "code",
      "metadata": {
        "id": "YJC3VigxE1bb",
        "colab": {
          "base_uri": "https://localhost:8080/"
        },
        "outputId": "42f06418-506c-475d-879f-9f808b344a9a"
      },
      "source": [
        "age = 18 \n",
        "age != 18"
      ],
      "execution_count": null,
      "outputs": [
        {
          "output_type": "execute_result",
          "data": {
            "text/plain": [
              "False"
            ]
          },
          "metadata": {},
          "execution_count": 60
        }
      ]
    },
    {
      "cell_type": "code",
      "metadata": {
        "id": "pKcP5KBrE4ls",
        "colab": {
          "base_uri": "https://localhost:8080/"
        },
        "outputId": "b7410a23-4f7d-4f3b-f7ae-ea126c8ec760"
      },
      "source": [
        "age = 19 \n",
        "age < 21"
      ],
      "execution_count": null,
      "outputs": [
        {
          "output_type": "execute_result",
          "data": {
            "text/plain": [
              "True"
            ]
          },
          "metadata": {},
          "execution_count": 61
        }
      ]
    },
    {
      "cell_type": "code",
      "metadata": {
        "id": "UbQRFLtlE6cX",
        "colab": {
          "base_uri": "https://localhost:8080/"
        },
        "outputId": "af1a2b85-2921-47b2-cb23-fcdbc5d595fd"
      },
      "source": [
        "age = 19 \n",
        "age > 21 "
      ],
      "execution_count": null,
      "outputs": [
        {
          "output_type": "execute_result",
          "data": {
            "text/plain": [
              "False"
            ]
          },
          "metadata": {},
          "execution_count": 62
        }
      ]
    },
    {
      "cell_type": "markdown",
      "metadata": {
        "id": "c5PGMHqIE7rw"
      },
      "source": [
        "# **Checking multiple conditions**\n",
        "\n",
        "You can check multiple conditions at the same time. The and operator returns True if all conditions listed are True. The or operator returns True if any condition is True\n"
      ]
    },
    {
      "cell_type": "markdown",
      "metadata": {
        "id": "nDVySl02E-Gw"
      },
      "source": [
        "### *Using 'and' to check multiple conditions*\n"
      ]
    },
    {
      "cell_type": "code",
      "metadata": {
        "id": "Pzm4zyPtFBDc",
        "colab": {
          "base_uri": "https://localhost:8080/"
        },
        "outputId": "bc32a08b-2e69-476a-ba02-5dae9fd2cb1a"
      },
      "source": [
        "age_0 = 22\n",
        "age_1 = 18\n",
        "age_0 >= 21 and age_1 >= 21"
      ],
      "execution_count": null,
      "outputs": [
        {
          "output_type": "execute_result",
          "data": {
            "text/plain": [
              "False"
            ]
          },
          "metadata": {},
          "execution_count": 20
        }
      ]
    },
    {
      "cell_type": "code",
      "metadata": {
        "id": "ExJC68ryFDdF",
        "colab": {
          "base_uri": "https://localhost:8080/"
        },
        "outputId": "6b005229-5eb4-4593-9ffc-4da679821361"
      },
      "source": [
        "age_0 = 22\n",
        "age_1 = 23\n",
        "age_0 >= 21 and age_1 >= 21"
      ],
      "execution_count": null,
      "outputs": [
        {
          "output_type": "execute_result",
          "data": {
            "text/plain": [
              "True"
            ]
          },
          "metadata": {},
          "execution_count": 21
        }
      ]
    },
    {
      "cell_type": "markdown",
      "metadata": {
        "id": "0S72zf0-FG1-"
      },
      "source": [
        "### *Using 'or' to check multiple conditions*\n"
      ]
    },
    {
      "cell_type": "code",
      "metadata": {
        "id": "KSY8ABrUFKys",
        "colab": {
          "base_uri": "https://localhost:8080/"
        },
        "outputId": "455f6267-057c-4246-f25a-7a650861e97b"
      },
      "source": [
        "age_0 = 22\n",
        "age_1 = 18\n",
        "age_0 >= 21 or age_1 >= 21"
      ],
      "execution_count": null,
      "outputs": [
        {
          "output_type": "execute_result",
          "data": {
            "text/plain": [
              "True"
            ]
          },
          "metadata": {},
          "execution_count": 22
        }
      ]
    },
    {
      "cell_type": "code",
      "metadata": {
        "id": "bO4Vfv5-FNbK",
        "colab": {
          "base_uri": "https://localhost:8080/"
        },
        "outputId": "3490bf51-181c-4fa9-f149-a03499ea6491"
      },
      "source": [
        "age_0 = 18\n",
        "age_1 = 18\n",
        "age_0 >= 21 or age_1 >= 21"
      ],
      "execution_count": null,
      "outputs": [
        {
          "output_type": "execute_result",
          "data": {
            "text/plain": [
              "False"
            ]
          },
          "metadata": {},
          "execution_count": 23
        }
      ]
    },
    {
      "cell_type": "markdown",
      "metadata": {
        "id": "L0cSRKJGFQS_"
      },
      "source": [
        "# **if statements**\n",
        "\n",
        "Several kinds of if statements exist. Your choice of which to use depends on the number of conditions you need to test. You can have as many elif block as you need, and the else block is always optional"
      ]
    },
    {
      "cell_type": "markdown",
      "metadata": {
        "id": "17O_F0saFTDC"
      },
      "source": [
        "### *Simple if statement*\n"
      ]
    },
    {
      "cell_type": "code",
      "metadata": {
        "id": "pF5s47-NFVfQ",
        "colab": {
          "base_uri": "https://localhost:8080/"
        },
        "outputId": "d16d9ee1-1506-4c31-85ae-fc9b873243ae"
      },
      "source": [
        "age = 19\n",
        "\n",
        "if age >= 18:\n",
        "\tprint(\"You're old enough to vote!\")"
      ],
      "execution_count": null,
      "outputs": [
        {
          "output_type": "stream",
          "name": "stdout",
          "text": [
            "You're old enough to vote!\n"
          ]
        }
      ]
    },
    {
      "cell_type": "markdown",
      "metadata": {
        "id": "0w-I67LVFYSW"
      },
      "source": [
        "### *if-else-statements*"
      ]
    },
    {
      "cell_type": "code",
      "metadata": {
        "id": "UdnviOBrFbOy",
        "colab": {
          "base_uri": "https://localhost:8080/"
        },
        "outputId": "2d9e134b-2546-4cd4-bb2a-528cca598287"
      },
      "source": [
        "age = 17\n",
        "\n",
        "if age >= 18:\n",
        "\tprint(\"You're old enough to vote!\")\n",
        "else:\n",
        "\tprint(\"You can’t vote yet.\")"
      ],
      "execution_count": null,
      "outputs": [
        {
          "output_type": "stream",
          "name": "stdout",
          "text": [
            "You can’t vote yet.\n"
          ]
        }
      ]
    },
    {
      "cell_type": "markdown",
      "metadata": {
        "id": "Myj0V11WFd4L"
      },
      "source": [
        "# **Conditional test with list**\n",
        "\n",
        "You can easily test whether a certain value is in a list. You can also test whether a list is empty before trying to loop through the list."
      ]
    },
    {
      "cell_type": "markdown",
      "metadata": {
        "id": "o4xhmy1MFhCw"
      },
      "source": [
        "### *Testing if a value is in a list*"
      ]
    },
    {
      "cell_type": "code",
      "metadata": {
        "id": "_1ZxSAA7FjU0",
        "colab": {
          "base_uri": "https://localhost:8080/"
        },
        "outputId": "ef0c3b07-aff5-406d-962d-82ecb9947818"
      },
      "source": [
        "players = ['al', 'bea', 'cyn', 'dale']\n",
        "'al' in players "
      ],
      "execution_count": null,
      "outputs": [
        {
          "output_type": "execute_result",
          "data": {
            "text/plain": [
              "True"
            ]
          },
          "metadata": {},
          "execution_count": 63
        }
      ]
    },
    {
      "cell_type": "code",
      "metadata": {
        "id": "8gwVfzTnFmQH",
        "colab": {
          "base_uri": "https://localhost:8080/"
        },
        "outputId": "aa6c3534-e669-49ea-80fd-f8cf32a7fb5e"
      },
      "source": [
        "players = ['al', 'bea', 'cyn', 'dale']\n",
        "'eric' in players"
      ],
      "execution_count": null,
      "outputs": [
        {
          "output_type": "execute_result",
          "data": {
            "text/plain": [
              "False"
            ]
          },
          "metadata": {},
          "execution_count": 64
        }
      ]
    },
    {
      "cell_type": "markdown",
      "metadata": {
        "id": "z0Gieq5XFoZz"
      },
      "source": [
        "### *Conditional test with lists (cont.)*"
      ]
    },
    {
      "cell_type": "markdown",
      "metadata": {
        "id": "apzQ0tQPFp4b"
      },
      "source": [
        "### *Testing if a value is not in a list*\n"
      ]
    },
    {
      "cell_type": "code",
      "metadata": {
        "id": "WXr1WZXvFtca",
        "colab": {
          "base_uri": "https://localhost:8080/"
        },
        "outputId": "97b90684-1dba-418a-f4c2-c5e3ca409255"
      },
      "source": [
        "banned_users = ['ann', 'chad', 'dee'] \n",
        "user = 'erin' \n",
        "\n",
        "if user not in banned_users:     \n",
        "    print(\"You can play!\")"
      ],
      "execution_count": null,
      "outputs": [
        {
          "output_type": "stream",
          "name": "stdout",
          "text": [
            "You can play!\n"
          ]
        }
      ]
    },
    {
      "cell_type": "markdown",
      "metadata": {
        "id": "g8hpXRUoFwOF"
      },
      "source": [
        "### Checking if a list is empty\n"
      ]
    },
    {
      "cell_type": "code",
      "metadata": {
        "id": "JMfZVTyvF0I0",
        "colab": {
          "base_uri": "https://localhost:8080/"
        },
        "outputId": "445531c5-24f7-4b9f-b45a-d345dac9f43d"
      },
      "source": [
        "players = [] \n",
        "\n",
        "if players:     \n",
        "    for player in players:         \n",
        "        print(\"Player: \" + player.title()) \n",
        "else:     \n",
        "        print(\"We have no players yet!\") "
      ],
      "execution_count": null,
      "outputs": [
        {
          "output_type": "stream",
          "name": "stdout",
          "text": [
            "We have no players yet!\n"
          ]
        }
      ]
    },
    {
      "cell_type": "markdown",
      "metadata": {
        "id": "ckBZ-QeXF2qd"
      },
      "source": [
        "# **Accepting input**\n",
        "\n",
        "You can allow your users to enter input using the input() statement. In Python 3 all input is stored as a string"
      ]
    },
    {
      "cell_type": "markdown",
      "metadata": {
        "id": "cV2sdDooF3pB"
      },
      "source": [
        "### *Simple input*"
      ]
    },
    {
      "cell_type": "code",
      "metadata": {
        "id": "lEG052-uF6zE",
        "colab": {
          "base_uri": "https://localhost:8080/"
        },
        "outputId": "cfe47ba5-0eee-4497-e1ba-7f615dac53bc"
      },
      "source": [
        "name = input(\"What’s your name? \")\n",
        "print(\"Hello, \"+ name + \".\")"
      ],
      "execution_count": null,
      "outputs": [
        {
          "output_type": "stream",
          "name": "stdout",
          "text": [
            "What’s your name? Prissy\n",
            "Hello, Prissy.\n"
          ]
        }
      ]
    },
    {
      "cell_type": "markdown",
      "metadata": {
        "id": "OX_dRXEZF-ks"
      },
      "source": [
        "### *Accepting numerical input*"
      ]
    },
    {
      "cell_type": "code",
      "metadata": {
        "id": "kAyYJhiHGBFd",
        "colab": {
          "base_uri": "https://localhost:8080/"
        },
        "outputId": "652159df-0c7a-457a-edbb-5851efd29602"
      },
      "source": [
        "age = input(\"How old are you? \")\n",
        "age = int(age)\n",
        "\n",
        "if age >= 18:\n",
        "\t\tprint(\"\\nYou can vote!\")\n",
        "else:\n",
        "\t\tprint(\"\\nYou can;t vote yet.\")"
      ],
      "execution_count": null,
      "outputs": [
        {
          "output_type": "stream",
          "name": "stdout",
          "text": [
            "How old are you? 21\n",
            "\n",
            "You can vote!\n"
          ]
        }
      ]
    },
    {
      "cell_type": "markdown",
      "metadata": {
        "id": "E4W8w9nKGDwz"
      },
      "source": [
        "# **While loops**\n",
        "\n",
        "A while loop repeats a block of code as long as a condition is True "
      ]
    },
    {
      "cell_type": "markdown",
      "metadata": {
        "id": "jEBmY40ZGHEp"
      },
      "source": [
        "### *Counting to 5*"
      ]
    },
    {
      "cell_type": "markdown",
      "metadata": {
        "id": "qK9z_6cUGKVy"
      },
      "source": [
        "current_number = 1 \n",
        "\n",
        "while current_number <= 5:\n",
        "    print(current_number)     \n",
        "current_number += 1"
      ]
    },
    {
      "cell_type": "markdown",
      "metadata": {
        "id": "7A2zzaXlGLZY"
      },
      "source": [
        "### *Letting the user choose when to quit*"
      ]
    },
    {
      "cell_type": "code",
      "metadata": {
        "id": "iPkKmC_RGPRC",
        "colab": {
          "base_uri": "https://localhost:8080/"
        },
        "outputId": "18250d54-8ec6-4c55-b394-4fcdd7837aad"
      },
      "source": [
        "prompt = \"\\nTell me something, and I’ll \"\n",
        "prompt += \"\\repeat it back to you. \"\n",
        "prompt += \"\\nEnter ‘quit’ to end the program.\"\n",
        "\n",
        "message = \"\"\n",
        "while message != 'quit':\n",
        "    message = input(prompt)\n",
        "\n",
        "if message != 'quit':\n",
        "    print(message)"
      ],
      "execution_count": null,
      "outputs": [
        {
          "name": "stdout",
          "output_type": "stream",
          "text": [
            "\n",
            "Tell me something, and I’ll \repeat it back to you. \n",
            "Enter ‘quit’ to end the program.Amazing\n",
            "\n",
            "epeat it back to you. \n",
            "Enter ‘quit’ to end the program.quit\n"
          ]
        }
      ]
    },
    {
      "cell_type": "markdown",
      "metadata": {
        "id": "b7ylqiccGScY"
      },
      "source": [
        "### *Using a flag*"
      ]
    },
    {
      "cell_type": "code",
      "metadata": {
        "id": "W4pZmH7ZGUV7",
        "colab": {
          "base_uri": "https://localhost:8080/"
        },
        "outputId": "c7faeca7-78d5-4edf-a40c-b5427798e18a"
      },
      "source": [
        "prompt = \"\\nTell me something, and I’ll \"\n",
        "prompt += \"\\repeat it back to you. \"\n",
        "prompt += \"\\nEnter ‘quit’ to end the program.\"\n",
        "\n",
        "active = True\n",
        "while active:\n",
        "    message = input(prompt)\n",
        "    \n",
        "    if message == 'quit':\n",
        "        active = False\n",
        "    else:\n",
        "        print(message)"
      ],
      "execution_count": null,
      "outputs": [
        {
          "name": "stdout",
          "output_type": "stream",
          "text": [
            "\n",
            "Tell me something, and I’ll \repeat it back to you. \n",
            "Enter ‘quit’ to end the program.Knowledge\n",
            "Knowledge\n",
            "\n",
            "epeat it back to you. \n",
            "Enter ‘quit’ to end the program.quit\n"
          ]
        }
      ]
    },
    {
      "cell_type": "markdown",
      "metadata": {
        "id": "NAEcPKGhGW0j"
      },
      "source": [
        "### *Using break to exit a loop*"
      ]
    },
    {
      "cell_type": "code",
      "metadata": {
        "id": "_KIwnjXhGYxh",
        "colab": {
          "base_uri": "https://localhost:8080/"
        },
        "outputId": "c0299bfb-c38e-45f6-a875-8884fecde203"
      },
      "source": [
        "prompt = \"\\nWhat cities have you visited\"\n",
        "prompt += \"\\nEnter ‘quit’ when you’re done. \"\n",
        "\n",
        "while True:\n",
        "    city = input(prompt)\n",
        "\n",
        "    if city == 'quit':\n",
        "        break \n",
        "    else:\n",
        "        print(\"I’ve been to \" + city + \"!\")"
      ],
      "execution_count": null,
      "outputs": [
        {
          "name": "stdout",
          "output_type": "stream",
          "text": [
            "\n",
            "What cities have you visited\n",
            "Enter ‘quit’ when you’re done. Bali\n",
            "I’ve been to Bali!\n",
            "\n",
            "What cities have you visited\n",
            "Enter ‘quit’ when you’re done. quit\n"
          ]
        }
      ]
    },
    {
      "cell_type": "markdown",
      "metadata": {
        "id": "BqS0eOerGbic"
      },
      "source": [
        "# Thank You"
      ]
    }
  ]
}
