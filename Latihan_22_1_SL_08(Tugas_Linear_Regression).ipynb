{
  "nbformat": 4,
  "nbformat_minor": 0,
  "metadata": {
    "colab": {
      "name": "Latihan_22.1_SL_08(Tugas Linear Regression).ipynb",
      "private_outputs": true,
      "provenance": [],
      "collapsed_sections": [],
      "include_colab_link": true
    },
    "kernelspec": {
      "display_name": "Python 3",
      "language": "python",
      "name": "python3"
    },
    "language_info": {
      "codemirror_mode": {
        "name": "ipython",
        "version": 3
      },
      "file_extension": ".py",
      "mimetype": "text/x-python",
      "name": "python",
      "nbconvert_exporter": "python",
      "pygments_lexer": "ipython3",
      "version": "3.8.5"
    }
  },
  "cells": [
    {
      "cell_type": "markdown",
      "metadata": {
        "id": "view-in-github",
        "colab_type": "text"
      },
      "source": [
        "<a href=\"https://colab.research.google.com/github/Saifulislam365/studi_independent/blob/main/Latihan_22_1_SL_08(Tugas_Linear_Regression).ipynb\" target=\"_parent\"><img src=\"https://colab.research.google.com/assets/colab-badge.svg\" alt=\"Open In Colab\"/></a>"
      ]
    },
    {
      "cell_type": "markdown",
      "metadata": {
        "id": "8AHLnWdrVjti"
      },
      "source": [
        "<img src=\"buku1.png\" style=\"width:460px;height:680px\" />"
      ]
    },
    {
      "cell_type": "markdown",
      "metadata": {
        "id": "EawrvloHAM4T"
      },
      "source": [
        "# **Linear** regresi"
      ]
    },
    {
      "cell_type": "markdown",
      "metadata": {
        "id": "09Rb0uJZAuz4"
      },
      "source": [
        "Predictor (Variabe Bebas/Independent Varible \\\\\n",
        "Dependent Varible (Target )\n",
        "\n"
      ]
    },
    {
      "cell_type": "markdown",
      "metadata": {
        "id": "FA8MrhEuBRht"
      },
      "source": [
        "# **Memprediksi Nilai** "
      ]
    },
    {
      "cell_type": "markdown",
      "metadata": {
        "id": "3qdxmjDtBeYn"
      },
      "source": [
        "$y = m(x)+c$"
      ]
    },
    {
      "cell_type": "markdown",
      "metadata": {
        "id": "tGG-gesXBmO1"
      },
      "source": [
        "$m$ = slope \\\\\n",
        "$c$ = intercept (konstanta)"
      ]
    },
    {
      "cell_type": "markdown",
      "metadata": {
        "id": "mw3TNVVtB5mE"
      },
      "source": [
        "# Mempersiapkan Data "
      ]
    },
    {
      "cell_type": "code",
      "metadata": {
        "id": "axtOwSmNXmKn"
      },
      "source": [
        "!wget -O Pizza.csv https://raw.githubusercontent.com/Saifulislam365/studi_independent/main/Data_Set/Pizza.csv"
      ],
      "execution_count": null,
      "outputs": []
    },
    {
      "cell_type": "code",
      "metadata": {
        "id": "Yy1R_5VZGNo8"
      },
      "source": [
        "import pandas as pd\n",
        "import numpy as np\n",
        "df1=pd.read_csv('Pizza.csv')\n",
        "\n",
        "\n",
        "df2=df1.set_index('KOTA')\n",
        "df2\n",
        "#df1.describe() # Ganbaran umum persebaran data\n",
        "# df=df1.to_numpy()\n",
        "\n",
        "# df\n",
        "# df[1]"
      ],
      "execution_count": null,
      "outputs": []
    },
    {
      "cell_type": "markdown",
      "metadata": {
        "id": "M9E-39ypNUAn"
      },
      "source": [
        "## Mengitung Korelasi ( -, 0 , +)"
      ]
    },
    {
      "cell_type": "code",
      "metadata": {
        "id": "S1euNA2INUAp"
      },
      "source": [
        "df2.corr()"
      ],
      "execution_count": null,
      "outputs": []
    },
    {
      "cell_type": "markdown",
      "metadata": {
        "id": "8Ioy3EWnFG4M"
      },
      "source": [
        "# Memisahkan Training data dan testing data\n",
        "\n"
      ]
    },
    {
      "cell_type": "code",
      "metadata": {
        "id": "VjBxcWW3BdYH"
      },
      "source": [
        "import pandas as pd\n",
        "import numpy as np\n",
        "import sklearn.model_selection as ms\n",
        "pendapatan = df2[['PENDAPATAN RATA-RATA']]\n",
        "penjualan = df2[['PENJUALAN PIZZA']]\n",
        "X_train, X_test, y_train, y_test = ms.train_test_split(pendapatan, penjualan, test_size=0.1, random_state=0) \n",
        "#print(X_train.size, X_test.size)\n",
        "print(X_train.size, X_test.size, y_train.size, y_test.size)"
      ],
      "execution_count": null,
      "outputs": []
    },
    {
      "cell_type": "markdown",
      "metadata": {
        "id": "HTWLDYkEJOYi"
      },
      "source": [
        "# Visualisasi"
      ]
    },
    {
      "cell_type": "code",
      "metadata": {
        "id": "t2vpyp8SChy2"
      },
      "source": [
        "import pandas as pd\n",
        "import numpy as np\n",
        "import sklearn.model_selection as ms\n",
        "import matplotlib.pyplot as plt\n",
        "pendapatan = df2[['PENDAPATAN RATA-RATA']]\n",
        "penjualan = df2[['PENJUALAN PIZZA']]\n",
        "X_train, X_test, y_train, y_test = ms.train_test_split(pendapatan, penjualan, test_size=0.1, random_state=0) \n",
        "plt.scatter(X_train, y_train, edgecolors='r')\n",
        "plt.xlabel('Pendapatan')\n",
        "plt.ylabel('Penjualan')\n",
        "plt.title('PENJUALAN PIZZA')\n",
        "plt.show()"
      ],
      "execution_count": null,
      "outputs": []
    },
    {
      "cell_type": "markdown",
      "metadata": {
        "id": "12cQXFjVKufx"
      },
      "source": [
        "# Menambah Regresi Line\n",
        "\n",
        "Garis Lurus Imajiner"
      ]
    },
    {
      "cell_type": "code",
      "metadata": {
        "id": "jckkIloUKRMN"
      },
      "source": [
        "import pandas as pd\n",
        "import numpy as np\n",
        "import sklearn.model_selection as ms\n",
        "import matplotlib.pyplot as plt\n",
        "pendapatan = df2[['PENDAPATAN RATA-RATA']]\n",
        "penjualan = df2[['PENJUALAN PIZZA']]\n",
        "X_train, X_test, y_train, y_test = ms.train_test_split(pendapatan, penjualan, test_size=0.1, random_state=0) \n",
        "plt.scatter(X_train, y_train, edgecolors='r')\n",
        "plt.xlabel('Pendapatan')\n",
        "plt.ylabel('Penjualan')\n",
        "plt.title('PENJUALAN PIZZA')\n",
        "x1 = np.linspace(0,20) # because max data training = 45\n",
        "y1 = 14+3*x1 # example\n",
        "plt.plot(x1,y1)\n",
        "plt.show()"
      ],
      "execution_count": null,
      "outputs": []
    },
    {
      "cell_type": "markdown",
      "metadata": {
        "id": "kZh6Sl6yLcLk"
      },
      "source": [
        "Garis yang tidak menyentuh = residual/error"
      ]
    },
    {
      "cell_type": "code",
      "metadata": {
        "id": "6NZFh7CgCtGr"
      },
      "source": [
        "y_test"
      ],
      "execution_count": null,
      "outputs": []
    },
    {
      "cell_type": "markdown",
      "metadata": {
        "id": "DF__vjHuLW0W"
      },
      "source": [
        "# Melatih Model "
      ]
    },
    {
      "cell_type": "markdown",
      "metadata": {
        "id": "hC6TnszdLPYr"
      },
      "source": [
        "## Import Modul"
      ]
    },
    {
      "cell_type": "code",
      "metadata": {
        "id": "Nj10PKt-L7xK"
      },
      "source": [
        "import sklearn.linear_model as lm\n",
        "model1 = lm.LinearRegression()\n",
        "model1.fit(X_train,y_train)"
      ],
      "execution_count": null,
      "outputs": []
    },
    {
      "cell_type": "markdown",
      "metadata": {
        "id": "iR_FxhvzVjtw"
      },
      "source": [
        "## Koefisien dan Intercepcept"
      ]
    },
    {
      "cell_type": "code",
      "metadata": {
        "id": "5QjPpzNmMNor"
      },
      "source": [
        "#model1.coef_ # slope (gradien =m)\n",
        "model1.intercept_ # intercept\n"
      ],
      "execution_count": null,
      "outputs": []
    },
    {
      "cell_type": "markdown",
      "metadata": {
        "id": "8SfhFKKXNi41"
      },
      "source": [
        "sehingga persamaan garis lurusnya  \n",
        "\n",
        "$y = 2.94x + 14,6968$\n"
      ]
    },
    {
      "cell_type": "markdown",
      "metadata": {
        "id": "thDxikqfN-09"
      },
      "source": [
        "# Visualisasikan dengan diagram "
      ]
    },
    {
      "cell_type": "markdown",
      "metadata": {
        "id": "8xXDJ9eTOuqT"
      },
      "source": [
        "# Scoring Model\n",
        "\n",
        "Regression line di atas sudah lebih “pas” daripada sebelumnya. Sekarang saatnya kita melakukan pengujian terhadap model dengan test dataset yang sudah kita siapkan tadi. Pengujian ini tujuannya untuk mengukur kemampuan model dalam membuat prediksi, apakah akurat atau tidak. Salah satu ukuran yang biasa dipakai untuk mengevaluasi model linear regression adalah R-squared (sering juga ditulis sebagai $R^2$). \n",
        "\n",
        "Angka R-squared menentukan seberapa dekat suatu data dengan garis lurus. Untuk kasus kita, R-squared bernilai satu sampai negatif tak berhingga.\n",
        "\n",
        "Model yang sempurna akan memiliki R-squared bernilai satu, artinya tidak memiliki error sama sekali. \n",
        "\n",
        "Sebaliknya, apabila angka R-squared mendekati nol berarti model sangatlah buruk."
      ]
    },
    {
      "cell_type": "markdown",
      "metadata": {
        "id": "AFbgQA1cVjty"
      },
      "source": [
        "Kita tidak akan membicarakan teori matematikanya, adapun secara singkat, R-squared diperoleh dengan rumus: \n",
        "\n",
        "\\begin{equation}\n",
        "R_{squared} = 1 – \\frac{RSS}{TSS} \n",
        "\\end{equation}\n",
        "\n",
        "di mana RSS adalah **Residual Sum of Squares** (dihitung dengan menjumlahkan kuadrat dari semua residual) dan TSS adalah **Total Sum of Squares** (dihitung dengan menjumlahkan kuadrat dari selisih angka prediksi dengan angka rata-rata)."
      ]
    },
    {
      "cell_type": "code",
      "metadata": {
        "id": "PNGs-Pi4OwUi"
      },
      "source": [
        "r2 = model1.score(X_test, y_test)\n",
        "print(r2)"
      ],
      "execution_count": null,
      "outputs": []
    },
    {
      "cell_type": "markdown",
      "metadata": {
        "id": "ptAsce2AO9Qv"
      },
      "source": [
        "### Hasil test 0.9798523775622333 Mendekati angka 1 yang artinya model kita sudah cukup bagus"
      ]
    },
    {
      "cell_type": "markdown",
      "metadata": {
        "id": "sFFawuHnPcwQ"
      },
      "source": [
        "# **Contoh Penggunaan Model**"
      ]
    },
    {
      "cell_type": "markdown",
      "metadata": {
        "id": "vUTbhbwdPoA8"
      },
      "source": [
        "Berapa kilometer yang bisa ditempuh dengan 60 liter bensin. ?"
      ]
    },
    {
      "cell_type": "code",
      "metadata": {
        "id": "L0peiG_OPeqW"
      },
      "source": [
        "jarak=model1.predict([[60]])\n",
        "print(jarak)"
      ],
      "execution_count": null,
      "outputs": []
    },
    {
      "cell_type": "markdown",
      "metadata": {
        "id": "8LNVRQPsQBfw"
      },
      "source": [
        "Angka Prediksi dari isi test data set"
      ]
    },
    {
      "cell_type": "code",
      "metadata": {
        "id": "AzdNfQ4wP6Ta"
      },
      "source": [
        "prediksi = model1.predict(X_test)\n",
        "print(prediksi)"
      ],
      "execution_count": null,
      "outputs": []
    },
    {
      "cell_type": "markdown",
      "metadata": {
        "id": "iCRbP8IJQZ2U"
      },
      "source": [
        "## Bandingkan dengan angka kilometer yang di test data set (yang disimpan dalam variabel y_test) "
      ]
    },
    {
      "cell_type": "code",
      "metadata": {
        "id": "g7RmPAmbQZYj"
      },
      "source": [
        "for k in y_test['Kilometer'] :\n",
        "    print(k)\n",
        "#print(y_test)\n",
        "type(k)"
      ],
      "execution_count": null,
      "outputs": []
    },
    {
      "cell_type": "markdown",
      "metadata": {
        "id": "cgvrz0r4ZXiJ"
      },
      "source": [
        "# MULTIPLE LINEAR REGRESSION  \n"
      ]
    },
    {
      "cell_type": "markdown",
      "metadata": {
        "id": "fhfSLLftZYca"
      },
      "source": [
        "Contoh di atas kita membuat model untuk memprediksi dengan satu variabel predictor saja. Bagaimana bila kita memiliki banyak predictor? Dalam praktek di dunia nyata, biasanya kita memang akan dihadapkan dengan banyak variabel, bisa puluhan bahkan ratusan variabel. Variabel inilah yang menjadi feature bagi proses training model.\n",
        "Semua variabel harus kita asumsikan akan mempengaruhi prediksi, walaupun kita belum tahu seberapa besar pengaruhnya. Sebagai contoh, selain **jumlah bahan bakar** yang diisikan ke dalam tangki, **jarak** yang bisa ditempuh mobil juga akan dipengaruhi oleh **beban muatan**, **kecepatan rata-rata**, **putaran mesin** dan sebagainya. Semua variabel mempunyai pengaruh dengan bobot yang berbeda-beda. Dari sinilah kita perlu mengenal multiple linear regression, yaitu regresi linear yang melibatkan lebih dari satu variabel.\n",
        "\n",
        "Kita bisa anggap multiple linear regression sama saja seperti simple linear regression, tujuannya sama yaitu mencari nilai koefisien slope dan intercept yang menghasilkan tingkat error sekecil mungkin.\n",
        "\n",
        "Setiap predictor akan memiliki koefisien slope masing-masing, sehingga masing-masing predictor akan memiliki “bobot” sendiri-sendiri terhadap hasil akhir prediksi. Dalam simple linear regression, kita mengikuti persamaan y = a + bx. Dalam multiple linear regression, persamaannya menjadi y = a + bx + bx + bx + …. bx. Kita lihat bahwa tidak hanya satu, sekarang kita memiliki banyak variabel predictor. Lebih tepatnya, setiap predictor diberi nama berbeda x1, x2 dan seterusnya hingga xn, lebih jelasnya sebagai berikut:"
      ]
    },
    {
      "cell_type": "markdown",
      "metadata": {
        "id": "ruHLYDTkVjt1"
      },
      "source": [
        "\\begin{equation}\n",
        "y = a+ b_1x_1 +  b_2x_2 + b_3x_3 + \\cdots +  b_nx_n\n",
        "\\end{equation}\n"
      ]
    },
    {
      "cell_type": "markdown",
      "metadata": {
        "id": "eaJGk5KrVjt1"
      },
      "source": [
        "### Import Modul dan data"
      ]
    },
    {
      "cell_type": "code",
      "metadata": {
        "id": "_6rIqAuJVjt1"
      },
      "source": [
        "import pandas as pd \n",
        "df2= pd.read_csv('bensin2.csv')\n",
        "df2.head()"
      ],
      "execution_count": null,
      "outputs": []
    },
    {
      "cell_type": "markdown",
      "metadata": {
        "id": "tPWSek3rVjt2"
      },
      "source": [
        "## Korelasi antar data"
      ]
    },
    {
      "cell_type": "markdown",
      "metadata": {
        "id": "1Eh-eYX-Vjt2"
      },
      "source": [
        "Sebelum kita melangkah dengan pembuatan model, kita perlu melihat apakah benar ada keterkaitan antara variabel-variabel baru yang ada di dalam training data. \n",
        "\n",
        "Kita boleh memiliki asumsi dari awal, namun agar upaya pembuatan model kita tidak sia-sia, semua asumsi harus dibuktikan kebenarannya.\n",
        "Kita ingat di Bab 1 telah dibahas mengenai Pearson Correlation yang dapat memberikan ukuran seberapa dekat hubungan antara dua variabel dalam mengikuti suatu garis lurus. \n",
        "\n",
        "Korelasi ini bernilai dari **positif 1 hingga negatif 1**, di mana angka 1 (baik positif maupun negatif) berarti terjadi hubungan sempurna yang linier antara kedua variabel. \n",
        "\n",
        "Misalnya angka korelasi **positif**, artinya kedua variabel bergerak ke arah yang sama; bila satu variabel naik nilainya, maka nilai variabel lainnya akan ikut naik juga. \n",
        "\n",
        "Sebaliknya bila angka korelasi **negatif**, artinya kedua variabel bergerak ke arah yang berlawanan; bila satu variabel naik nilainya, maka nilai variabel lain menurun. \n",
        "\n",
        "Angka korelasi **nol** berarti tidak ada sama sekali hubungan linier antara kedua variabel.\n",
        "\n",
        "Dalam kasus kita, kita perlu memahami seberapa besar pengaruh variabel jumlah penumpang dengan konsumsi bahan bakar, begitu juga variabel-variabel lainnya. Variabel-variabel yang tidak memiliki korelasi memadai dapat kita buang dari pembuatan model."
      ]
    },
    {
      "cell_type": "markdown",
      "metadata": {
        "id": "1PG8X-iXVjt2"
      },
      "source": [
        "# Pearson Correlation \n",
        "library Numpy telah menyediakan fungsi corr() yang siap pakai untuk ini."
      ]
    },
    {
      "cell_type": "code",
      "metadata": {
        "id": "iWzVGKEvVjt3"
      },
      "source": [
        "# !wget -O bensin2.csv https://raw.githubusercontent.com/Saifulislam365/PCC_MATH/main/Data_Set/bensin2.csv\n",
        "# import pandas as pd\n",
        "df2 = pd.read_csv('bensin2.csv')\n",
        "df2.corr(method='pearson')"
      ],
      "execution_count": null,
      "outputs": []
    },
    {
      "cell_type": "markdown",
      "metadata": {
        "id": "G6Nku_cjVjt3"
      },
      "source": [
        "Perhatikan kolom paling kanan dalam matrix korelasi di atas: \n",
        "\n",
        "nampak bahwa “Suhu” adalah variabel yang nilainya paling rendah mendekati nol, artinya naik-turunnya suhu udara nyaris tidak memiliki hubungan dengan jarak “Kilometer” yang ditempuh. \n",
        "\n",
        "“Suhu” bukan variabel yang signifikan sehingga bisa kita abaikan, tidak perlu kita sertakan dalam proses pembuatan model.\n",
        "\n",
        "Variabel-variabel lain, meski dengan bobot berbeda-beda, masih menunjukkan korelasi dengan “Kilometer” sehingga akan tetap kita masukkan ke dalam proses pembuatan model. Total ada empat variabel (atau feature) yang akan kita pergunakan.\n",
        "\n",
        "\n",
        "### Pemodelan\n",
        "Persis seperti simple linear regression, cara yang sama kita lakukan untuk melatih model. Kali ini untuk test dataset kita cukup ambil 10% saja agar lebih banyak data untuk training. Kita masukkan semua variabel predictor (dalam kasus kita, ada empat) ke dalam satu DataFrame, dan kemudian kita lakukan training dengan memanggil fungsi fit():"
      ]
    },
    {
      "cell_type": "code",
      "metadata": {
        "id": "MhGSZ6l3Vjt3"
      },
      "source": [
        "import pandas as pd\n",
        "import numpy as np\n",
        "\n",
        "df2 = pd.read_csv('bensin2.csv')\n",
        "X = df2[['Liter','Penumpang','Bagasi','Kecepatan']]\n",
        "y = df2[['Kilometer']]\n",
        "X_train, X_test, y_train, y_test = ms.train_test_split(X, y, test_size=0.1, random_state=0) \n",
        "\n",
        "import sklearn.linear_model as lm\n",
        "model1 = lm.LinearRegression()\n",
        "model1.fit(X_train,y_train)"
      ],
      "execution_count": null,
      "outputs": []
    },
    {
      "cell_type": "code",
      "metadata": {
        "id": "q4qm-o4vNUBC"
      },
      "source": [
        "model1.fit(X_train, y_train)"
      ],
      "execution_count": null,
      "outputs": []
    },
    {
      "cell_type": "markdown",
      "metadata": {
        "id": "2_rCjmcOVjt3"
      },
      "source": [
        "Pada titik ini, model sudah dibuat “fit” dengan training dataset dan koefisien intercept dan slope sudah berhasil ditemukan. Mari kita lihat hasilnya:"
      ]
    },
    {
      "cell_type": "code",
      "metadata": {
        "id": "Zfy8ZA6gVjt3"
      },
      "source": [
        "print('intercept=', model1.intercept_)\n",
        "print('slope=', model1.coef_)\n",
        "\n",
        "# for i in range(5):\n",
        "#     print(i)\n",
        "\n",
        "# # f(model1.coef_[i] "
      ],
      "execution_count": null,
      "outputs": []
    },
    {
      "cell_type": "markdown",
      "metadata": {
        "id": "J5XKK8jbVjt4"
      },
      "source": [
        "\\begin{equation}\n",
        "𝑦= 120.50651486 +6.64591593 𝑥_1+2.73534439 𝑥_2+(-0.47571681) 𝑥_3+(-2.71809947)𝑥_4\n",
        "\\end{equation}"
      ]
    },
    {
      "cell_type": "code",
      "metadata": {
        "id": "IUMyumSEVjt4"
      },
      "source": [
        "data1= np.array([[30, 2, 10, 50]])\n",
        "hasil = model1.predict(data1)\n",
        "print(hasil)"
      ],
      "execution_count": null,
      "outputs": []
    },
    {
      "cell_type": "markdown",
      "metadata": {
        "id": "2SqAqmACVjt4"
      },
      "source": [
        "## Hitung"
      ]
    },
    {
      "cell_type": "markdown",
      "metadata": {
        "id": "3UH91h5rVjt5"
      },
      "source": [
        "\\begin{equation}\n",
        "𝑦= 120.50651486 + 6.64591593(30)+2.73534439(2)+(-0.47571681)(10)+(-2.71809947)(50)\n",
        "\\end{equation}a"
      ]
    },
    {
      "cell_type": "code",
      "metadata": {
        "id": "2E1awUL7Vjt5"
      },
      "source": [
        "𝑦= 120.50651486 + 6.64591593*(30)+2.73534439*(2)+(-0.47571681)*(10)+(-2.71809947)*(50)\n",
        "𝑦 "
      ],
      "execution_count": null,
      "outputs": []
    },
    {
      "cell_type": "code",
      "metadata": {
        "id": "gmdGNlLOLJmg"
      },
      "source": [
        "z=pd.merge([X,y], left_index=True)"
      ],
      "execution_count": null,
      "outputs": []
    },
    {
      "cell_type": "markdown",
      "metadata": {
        "id": "8etFmitjVjt5"
      },
      "source": [
        "# Hasil Scoring Data Set"
      ]
    },
    {
      "cell_type": "code",
      "metadata": {
        "id": "A5qLQjrYVjt5",
        "scrolled": true
      },
      "source": [
        "r3 = model1.score(X_test, y_test)\n",
        "print(r3)"
      ],
      "execution_count": null,
      "outputs": []
    },
    {
      "cell_type": "markdown",
      "metadata": {
        "id": "oFg74IkjVjt5"
      },
      "source": [
        "Kesimpulan\n",
        "Linear regression adalah metode untuk membuat model prediksi yang memerlukan training dataset berupa nilai-nilai numerik, yang biasanya adalah hasil pengukuran di masa lalu. Model dibangun dengan formula matematis untuk menemukan koefisien intercept dan slope yang paling sesuai agar garis lurus imajiner dapat melalui titik-titik dalam training data. \n",
        "\n",
        "Harus diingat selalu bahwa tidak semua kasus cocok dengan model linear regression. Model prediksi memerlukan hubungan yang linier antara independent variable dan dependent variable. Data yang tersebar secara acak tanpa pola linier tidak akan bisa dibuat modelnya.\n",
        "\n",
        "Agar model dapat membuat prediksi yang akurat, training dataset haruslah berkualitas bagus. Anda harus melakukan pengamatan yang cukup seksama dengan data profiling terhadap data sebelum melangkah ke proses pembuatan model. Salah satu cara yang umum untuk melakukan profiling adalah mempergunakan scatterplot seperti contoh di bab ini. \n",
        "\n",
        "Kualitas model sangat ditentukan oleh kualitas training dataset yang tersedia, sehingga proses eksplorasi terhadap data, pemilihan feature mana saja yang dianggap berguna untuk pembuatan model, dan demikian juga proses pembersihan data menjadi aktivitas yang perlu mendapatkan fokus lebih.\n",
        "\n",
        "Setelah model kita bangun, tentunya kita harus menerapkannya ke lingkungan yang nyata. Kita bisa menerapkan linear regression pada kegiatan-kegiatan ilmiah, analisis bisnis, atau aplikasi teknis yang bersifat real-time di sektor industri. \n",
        "\n",
        "Misalnya melanjutkan contoh di bab ini, model prediksi konsumsi bahan bakar dapat diterapkan dalam sistem komputer di kendaraan untuk menghitung secara langsung perkiraan jarak yang dapat ditempuh dengan memanfaatkan sensor-sensor di kendaraan. Anda dapat membuat program yang membaca sensor tangki bensin, speedometer, tachometer atau sensor-sensor lain untuk menghitung beban muatan, dan sebagainya. Program kemudian melakukan scoring mempergunakan model yang sudah Anda latih sebelumnya untuk seketika dapat melakukan perhitungan prediksi dan hasilnya ditampilkan di layar di dashboard pengemudi.\n"
      ]
    },
    {
      "cell_type": "code",
      "metadata": {
        "id": "3UhVZAeqZ0jX"
      },
      "source": [
        ""
      ],
      "execution_count": null,
      "outputs": []
    },
    {
      "cell_type": "markdown",
      "metadata": {
        "id": "_7Zq0amJVjt6"
      },
      "source": [
        "<img src=\"linear_regression.png\" style=\"width:800px;height:250px\" />"
      ]
    },
    {
      "cell_type": "markdown",
      "metadata": {
        "id": "bClWAdh1Vjt6"
      },
      "source": [
        "Salah satu perbedaan metode regression dengan metode lainnya adalah metode ini\n",
        "menyerahkan sepenuhnya pemilihan feature atau variabel predictor kepada manusia. Di sini\n",
        "diperlukan peran seorang domain expert (ahli di bidang tertentu) yang memiliki pemahaman\n",
        "dan pengalaman terhadap bidang yang sedang dianalisis, misalnya diperlukan seorang ahli\n",
        "ekonomi untuk mencari feature yang terkait dengan analisis ekonomi, atau seorang dokter\n",
        "untuk mencari variabel predictor bagi model-model di bidang kesehatan."
      ]
    },
    {
      "cell_type": "markdown",
      "metadata": {
        "id": "ghZvBLS8Vjt6"
      },
      "source": [
        "## Sumber Referensi : \n",
        "Dios Kurniawan ( Pengenalan Machine Learning, PT. Gramedia 2020 ) "
      ]
    },
    {
      "cell_type": "code",
      "metadata": {
        "id": "kmcJ9SeILJmj"
      },
      "source": [
        "# Importing NumPy Library\n",
        "import numpy as np\n",
        "import sys\n",
        "\n",
        "# Reading number of unknowns\n",
        "n = int(input('Enter number of unknowns: '))\n",
        "\n",
        "# Making numpy array of n x n+1 size and initializing \n",
        "# to zero for storing augmented matrix\n",
        "a = np.zeros((n,n+1))\n",
        "\n",
        "# Making numpy array of n size and initializing \n",
        "# to zero for storing solution vector\n",
        "x = np.zeros(n)\n",
        "\n",
        "# Reading augmented matrix coefficients\n",
        "print('Enter Augmented Matrix Coefficients:')\n",
        "for i in range(n):\n",
        "    for j in range(n+1):\n",
        "        a[i][j] = float(input( 'a['+str(i)+']['+ str(j)+']='))\n",
        "\n",
        "# Applying Gauss Jordan Elimination\n",
        "for i in range(n):\n",
        "    if a[i][i] == 0.0:\n",
        "        sys.exit('Divide by zero detected!')\n",
        "        \n",
        "    for j in range(n):\n",
        "        if i != j:\n",
        "            ratio = a[j][i]/a[i][i]\n",
        "\n",
        "            for k in range(n+1):\n",
        "                a[j][k] = a[j][k] - ratio * a[i][k]\n",
        "\n",
        "# Obtaining Solution\n",
        "\n",
        "for i in range(n):\n",
        "    x[i] = a[i][n]/a[i][i]\n",
        "\n",
        "# Displaying solution\n",
        "print('\\nRequired solution is: ')\n",
        "for i in range(n):\n",
        "    print('X%d = %0.2f' %(i,x[i]), end = '\\t')"
      ],
      "execution_count": null,
      "outputs": []
    }
  ]
}