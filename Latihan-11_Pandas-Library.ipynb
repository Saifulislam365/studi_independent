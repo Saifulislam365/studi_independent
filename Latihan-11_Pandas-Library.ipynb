{
  "nbformat": 4,
  "nbformat_minor": 0,
  "metadata": {
    "kernelspec": {
      "display_name": "Python 3",
      "language": "python",
      "name": "python3"
    },
    "language_info": {
      "codemirror_mode": {
        "name": "ipython",
        "version": 3
      },
      "file_extension": ".py",
      "mimetype": "text/x-python",
      "name": "python",
      "nbconvert_exporter": "python",
      "pygments_lexer": "ipython3",
      "version": "3.7.4"
    },
    "colab": {
      "name": "Latihan 11_Pandas Library.ipynb",
      "provenance": [],
      "include_colab_link": true
    }
  },
  "cells": [
    {
      "cell_type": "markdown",
      "metadata": {
        "id": "view-in-github",
        "colab_type": "text"
      },
      "source": [
        "<a href=\"https://colab.research.google.com/github/prissyyy/Studi-Independen/blob/main/Latihan%2011_Pandas%20Library.ipynb\" target=\"_parent\"><img src=\"https://colab.research.google.com/assets/colab-badge.svg\" alt=\"Open In Colab\"/></a>"
      ]
    },
    {
      "cell_type": "markdown",
      "metadata": {
        "id": "yFI5s-r1akzh"
      },
      "source": [
        "Kamis, 23 Sept 2021"
      ]
    },
    {
      "cell_type": "markdown",
      "metadata": {
        "id": "1PYDrg6X7595"
      },
      "source": [
        "# **Import library**"
      ]
    },
    {
      "cell_type": "code",
      "metadata": {
        "id": "tn3ESQlH5qbF"
      },
      "source": [
        "import pandas as pd\n",
        "import numpy as np"
      ],
      "execution_count": null,
      "outputs": []
    },
    {
      "cell_type": "markdown",
      "metadata": {
        "id": "VbGO9P1i7nQR"
      },
      "source": [
        "## Manipulating Data with Series"
      ]
    },
    {
      "cell_type": "code",
      "metadata": {
        "scrolled": true,
        "id": "iw3zZt5r5qbH",
        "colab": {
          "base_uri": "https://localhost:8080/"
        },
        "outputId": "61b22b63-780d-4edf-98b4-41818982a859"
      },
      "source": [
        "s = pd.Series([3, -5, 7, 4], index=['a', 'b', 'c', 'd']) # membuat 1 kolom dengan berindex a, b, c, d\n",
        "s"
      ],
      "execution_count": null,
      "outputs": [
        {
          "output_type": "execute_result",
          "data": {
            "text/plain": [
              "a    3\n",
              "b   -5\n",
              "c    7\n",
              "d    4\n",
              "dtype: int64"
            ]
          },
          "metadata": {},
          "execution_count": 2
        }
      ]
    },
    {
      "cell_type": "code",
      "metadata": {
        "id": "MM8C_KDp5qbI",
        "colab": {
          "base_uri": "https://localhost:8080/"
        },
        "outputId": "e9fbf07a-e17a-49e5-cbca-153bdc8aa071"
      },
      "source": [
        "series = pd.Series([1, 0.5, 4, 5.5, 'lima']) # membuat 1 kolom yang berisi beberapa type data\n",
        "series"
      ],
      "execution_count": null,
      "outputs": [
        {
          "output_type": "execute_result",
          "data": {
            "text/plain": [
              "0       1\n",
              "1     0.5\n",
              "2       4\n",
              "3     5.5\n",
              "4    lima\n",
              "dtype: object"
            ]
          },
          "metadata": {},
          "execution_count": 3
        }
      ]
    },
    {
      "cell_type": "code",
      "metadata": {
        "id": "sjll0VLq5qbI",
        "colab": {
          "base_uri": "https://localhost:8080/"
        },
        "outputId": "5d1fadcd-5b1a-4453-bfda-413a8ea8abe9"
      },
      "source": [
        "ss = pd.Series([1.4, 5.6, 3, 3, 6], [1, 2, -3, 4, 5])\n",
        "ss"
      ],
      "execution_count": null,
      "outputs": [
        {
          "output_type": "execute_result",
          "data": {
            "text/plain": [
              " 1    1.4\n",
              " 2    5.6\n",
              "-3    3.0\n",
              " 4    3.0\n",
              " 5    6.0\n",
              "dtype: float64"
            ]
          },
          "metadata": {},
          "execution_count": 4
        }
      ]
    },
    {
      "cell_type": "markdown",
      "metadata": {
        "id": "k8pWDGaAlRvk"
      },
      "source": [
        "### Mengambil atau memilih kolom tertentu pada series"
      ]
    },
    {
      "cell_type": "code",
      "metadata": {
        "id": "uaM_ZfN45qbP",
        "colab": {
          "base_uri": "https://localhost:8080/"
        },
        "outputId": "fd595a5c-d03b-4bb0-8389-be54e9050341"
      },
      "source": [
        "s"
      ],
      "execution_count": null,
      "outputs": [
        {
          "output_type": "execute_result",
          "data": {
            "text/plain": [
              "a    3\n",
              "b   -5\n",
              "c    7\n",
              "d    4\n",
              "dtype: int64"
            ]
          },
          "metadata": {},
          "execution_count": 5
        }
      ]
    },
    {
      "cell_type": "code",
      "metadata": {
        "scrolled": true,
        "id": "3yT_GYaV5qbQ",
        "colab": {
          "base_uri": "https://localhost:8080/"
        },
        "outputId": "114fc765-21ba-41b4-f22e-a910d05061b6"
      },
      "source": [
        "s[~(s < 1)] # mengambil nilai, dimana negasi dari s > 1 atau s bukan > 1"
      ],
      "execution_count": null,
      "outputs": [
        {
          "output_type": "execute_result",
          "data": {
            "text/plain": [
              "a    3\n",
              "c    7\n",
              "d    4\n",
              "dtype: int64"
            ]
          },
          "metadata": {},
          "execution_count": 6
        }
      ]
    },
    {
      "cell_type": "code",
      "metadata": {
        "id": "Xbh6R-vO5qbQ",
        "colab": {
          "base_uri": "https://localhost:8080/"
        },
        "outputId": "e72ec869-b22f-4839-a721-7fa634b98905"
      },
      "source": [
        "s[(s < -1) | (s > 3)] # mengambil nilai, dimana s < -1 atau s > 3"
      ],
      "execution_count": null,
      "outputs": [
        {
          "output_type": "execute_result",
          "data": {
            "text/plain": [
              "b   -5\n",
              "c    7\n",
              "d    4\n",
              "dtype: int64"
            ]
          },
          "metadata": {},
          "execution_count": 7
        }
      ]
    },
    {
      "cell_type": "code",
      "metadata": {
        "id": "2RLF0Q035qbQ",
        "colab": {
          "base_uri": "https://localhost:8080/"
        },
        "outputId": "733859d1-ec53-4ffc-e794-c38d56363934"
      },
      "source": [
        "s['a'] = 6 # merubah nilai pada label a\n",
        "s"
      ],
      "execution_count": null,
      "outputs": [
        {
          "output_type": "execute_result",
          "data": {
            "text/plain": [
              "a    6\n",
              "b   -5\n",
              "c    7\n",
              "d    4\n",
              "dtype: int64"
            ]
          },
          "metadata": {},
          "execution_count": 8
        }
      ]
    },
    {
      "cell_type": "code",
      "metadata": {
        "id": "qxi9OucM5qbR",
        "colab": {
          "base_uri": "https://localhost:8080/"
        },
        "outputId": "45ad7418-20a3-4592-d655-910e5bda0868"
      },
      "source": [
        "s.drop(['a', 'c']) # menghapus label a dan c"
      ],
      "execution_count": null,
      "outputs": [
        {
          "output_type": "execute_result",
          "data": {
            "text/plain": [
              "b   -5\n",
              "d    4\n",
              "dtype: int64"
            ]
          },
          "metadata": {},
          "execution_count": 44
        }
      ]
    },
    {
      "cell_type": "code",
      "metadata": {
        "id": "uerLHiSk5qbK",
        "colab": {
          "base_uri": "https://localhost:8080/"
        },
        "outputId": "c8e6cf37-afe9-4789-b546-20bd5c8907cf"
      },
      "source": [
        "s['b'] # memilih var s index b"
      ],
      "execution_count": null,
      "outputs": [
        {
          "output_type": "execute_result",
          "data": {
            "text/plain": [
              "-5"
            ]
          },
          "metadata": {},
          "execution_count": 10
        }
      ]
    },
    {
      "cell_type": "markdown",
      "metadata": {
        "id": "B4PUGr_r7vZ7"
      },
      "source": [
        "## Manipulating Data with Data Frame"
      ]
    },
    {
      "cell_type": "markdown",
      "metadata": {
        "id": "MCtYMvcNfzQT"
      },
      "source": [
        "### Membuat dataframe dari suatu series"
      ]
    },
    {
      "cell_type": "code",
      "metadata": {
        "scrolled": true,
        "id": "a-mpIByl5qbJ",
        "colab": {
          "base_uri": "https://localhost:8080/",
          "height": 206
        },
        "outputId": "0e58f8e9-e72e-4e7f-8f13-b2e7f63ad20b"
      },
      "source": [
        "df1 = pd.DataFrame(ss)\n",
        "df1"
      ],
      "execution_count": null,
      "outputs": [
        {
          "output_type": "execute_result",
          "data": {
            "text/html": [
              "<div>\n",
              "<style scoped>\n",
              "    .dataframe tbody tr th:only-of-type {\n",
              "        vertical-align: middle;\n",
              "    }\n",
              "\n",
              "    .dataframe tbody tr th {\n",
              "        vertical-align: top;\n",
              "    }\n",
              "\n",
              "    .dataframe thead th {\n",
              "        text-align: right;\n",
              "    }\n",
              "</style>\n",
              "<table border=\"1\" class=\"dataframe\">\n",
              "  <thead>\n",
              "    <tr style=\"text-align: right;\">\n",
              "      <th></th>\n",
              "      <th>0</th>\n",
              "    </tr>\n",
              "  </thead>\n",
              "  <tbody>\n",
              "    <tr>\n",
              "      <th>1</th>\n",
              "      <td>1.4</td>\n",
              "    </tr>\n",
              "    <tr>\n",
              "      <th>2</th>\n",
              "      <td>5.6</td>\n",
              "    </tr>\n",
              "    <tr>\n",
              "      <th>-3</th>\n",
              "      <td>3.0</td>\n",
              "    </tr>\n",
              "    <tr>\n",
              "      <th>4</th>\n",
              "      <td>3.0</td>\n",
              "    </tr>\n",
              "    <tr>\n",
              "      <th>5</th>\n",
              "      <td>6.0</td>\n",
              "    </tr>\n",
              "  </tbody>\n",
              "</table>\n",
              "</div>"
            ],
            "text/plain": [
              "      0\n",
              " 1  1.4\n",
              " 2  5.6\n",
              "-3  3.0\n",
              " 4  3.0\n",
              " 5  6.0"
            ]
          },
          "metadata": {},
          "execution_count": 11
        }
      ]
    },
    {
      "cell_type": "markdown",
      "metadata": {
        "id": "5EPc8EtsgIoE"
      },
      "source": [
        "### Membuat dataframe dengan key dan value"
      ]
    },
    {
      "cell_type": "code",
      "metadata": {
        "id": "ff020V5-5qbJ",
        "colab": {
          "base_uri": "https://localhost:8080/",
          "height": 143
        },
        "outputId": "14ff3a7e-0cc4-4f9b-adde-2506f90385f1"
      },
      "source": [
        "data = {'Country': ['Belgium', 'India', 'Brazil'], 'Capital': ['Brussels', 'New Delhi', 'Brasília'], 'Population': [11190846, 1303171035, 207847528]}\n",
        "df = pd.DataFrame(data, columns=['Country', 'Capital', 'Population'])\n",
        "df"
      ],
      "execution_count": null,
      "outputs": [
        {
          "output_type": "execute_result",
          "data": {
            "text/html": [
              "<div>\n",
              "<style scoped>\n",
              "    .dataframe tbody tr th:only-of-type {\n",
              "        vertical-align: middle;\n",
              "    }\n",
              "\n",
              "    .dataframe tbody tr th {\n",
              "        vertical-align: top;\n",
              "    }\n",
              "\n",
              "    .dataframe thead th {\n",
              "        text-align: right;\n",
              "    }\n",
              "</style>\n",
              "<table border=\"1\" class=\"dataframe\">\n",
              "  <thead>\n",
              "    <tr style=\"text-align: right;\">\n",
              "      <th></th>\n",
              "      <th>Country</th>\n",
              "      <th>Capital</th>\n",
              "      <th>Population</th>\n",
              "    </tr>\n",
              "  </thead>\n",
              "  <tbody>\n",
              "    <tr>\n",
              "      <th>0</th>\n",
              "      <td>Belgium</td>\n",
              "      <td>Brussels</td>\n",
              "      <td>11190846</td>\n",
              "    </tr>\n",
              "    <tr>\n",
              "      <th>1</th>\n",
              "      <td>India</td>\n",
              "      <td>New Delhi</td>\n",
              "      <td>1303171035</td>\n",
              "    </tr>\n",
              "    <tr>\n",
              "      <th>2</th>\n",
              "      <td>Brazil</td>\n",
              "      <td>Brasília</td>\n",
              "      <td>207847528</td>\n",
              "    </tr>\n",
              "  </tbody>\n",
              "</table>\n",
              "</div>"
            ],
            "text/plain": [
              "   Country    Capital  Population\n",
              "0  Belgium   Brussels    11190846\n",
              "1    India  New Delhi  1303171035\n",
              "2   Brazil   Brasília   207847528"
            ]
          },
          "metadata": {},
          "execution_count": 12
        }
      ]
    },
    {
      "cell_type": "markdown",
      "metadata": {
        "id": "s7t4LeHz_UIF"
      },
      "source": [
        "### Selection"
      ]
    },
    {
      "cell_type": "code",
      "metadata": {
        "id": "wUahf1IF5qbK",
        "colab": {
          "base_uri": "https://localhost:8080/",
          "height": 112
        },
        "outputId": "dc9e464c-52f4-464f-ac50-f97dac9f165d"
      },
      "source": [
        "df[1:] # memilih kolom 1 sampai terakhir"
      ],
      "execution_count": null,
      "outputs": [
        {
          "output_type": "execute_result",
          "data": {
            "text/html": [
              "<div>\n",
              "<style scoped>\n",
              "    .dataframe tbody tr th:only-of-type {\n",
              "        vertical-align: middle;\n",
              "    }\n",
              "\n",
              "    .dataframe tbody tr th {\n",
              "        vertical-align: top;\n",
              "    }\n",
              "\n",
              "    .dataframe thead th {\n",
              "        text-align: right;\n",
              "    }\n",
              "</style>\n",
              "<table border=\"1\" class=\"dataframe\">\n",
              "  <thead>\n",
              "    <tr style=\"text-align: right;\">\n",
              "      <th></th>\n",
              "      <th>Country</th>\n",
              "      <th>Capital</th>\n",
              "      <th>Population</th>\n",
              "    </tr>\n",
              "  </thead>\n",
              "  <tbody>\n",
              "    <tr>\n",
              "      <th>1</th>\n",
              "      <td>India</td>\n",
              "      <td>New Delhi</td>\n",
              "      <td>1303171035</td>\n",
              "    </tr>\n",
              "    <tr>\n",
              "      <th>2</th>\n",
              "      <td>Brazil</td>\n",
              "      <td>Brasília</td>\n",
              "      <td>207847528</td>\n",
              "    </tr>\n",
              "  </tbody>\n",
              "</table>\n",
              "</div>"
            ],
            "text/plain": [
              "  Country    Capital  Population\n",
              "1   India  New Delhi  1303171035\n",
              "2  Brazil   Brasília   207847528"
            ]
          },
          "metadata": {},
          "execution_count": 13
        }
      ]
    },
    {
      "cell_type": "code",
      "metadata": {
        "id": "YIPCtnuX5qbK",
        "colab": {
          "base_uri": "https://localhost:8080/",
          "height": 81
        },
        "outputId": "ea44baa7-9246-45ba-e72b-c8db38803775"
      },
      "source": [
        "df.iloc[[0],[0]] # memilih kolom index 0 dan kolom 0"
      ],
      "execution_count": null,
      "outputs": [
        {
          "output_type": "execute_result",
          "data": {
            "text/html": [
              "<div>\n",
              "<style scoped>\n",
              "    .dataframe tbody tr th:only-of-type {\n",
              "        vertical-align: middle;\n",
              "    }\n",
              "\n",
              "    .dataframe tbody tr th {\n",
              "        vertical-align: top;\n",
              "    }\n",
              "\n",
              "    .dataframe thead th {\n",
              "        text-align: right;\n",
              "    }\n",
              "</style>\n",
              "<table border=\"1\" class=\"dataframe\">\n",
              "  <thead>\n",
              "    <tr style=\"text-align: right;\">\n",
              "      <th></th>\n",
              "      <th>Country</th>\n",
              "    </tr>\n",
              "  </thead>\n",
              "  <tbody>\n",
              "    <tr>\n",
              "      <th>0</th>\n",
              "      <td>Belgium</td>\n",
              "    </tr>\n",
              "  </tbody>\n",
              "</table>\n",
              "</div>"
            ],
            "text/plain": [
              "   Country\n",
              "0  Belgium"
            ]
          },
          "metadata": {},
          "execution_count": 14
        }
      ]
    },
    {
      "cell_type": "code",
      "metadata": {
        "id": "C2ptFKfn5qbN",
        "colab": {
          "base_uri": "https://localhost:8080/",
          "height": 112
        },
        "outputId": "9d41ae44-1623-4a4c-8fa2-42475f03495d"
      },
      "source": [
        "df.iloc[1:,[0]] # memilih kolom 1 sampai terakhir, dan baris index ke-0"
      ],
      "execution_count": null,
      "outputs": [
        {
          "output_type": "execute_result",
          "data": {
            "text/html": [
              "<div>\n",
              "<style scoped>\n",
              "    .dataframe tbody tr th:only-of-type {\n",
              "        vertical-align: middle;\n",
              "    }\n",
              "\n",
              "    .dataframe tbody tr th {\n",
              "        vertical-align: top;\n",
              "    }\n",
              "\n",
              "    .dataframe thead th {\n",
              "        text-align: right;\n",
              "    }\n",
              "</style>\n",
              "<table border=\"1\" class=\"dataframe\">\n",
              "  <thead>\n",
              "    <tr style=\"text-align: right;\">\n",
              "      <th></th>\n",
              "      <th>Country</th>\n",
              "    </tr>\n",
              "  </thead>\n",
              "  <tbody>\n",
              "    <tr>\n",
              "      <th>1</th>\n",
              "      <td>India</td>\n",
              "    </tr>\n",
              "    <tr>\n",
              "      <th>2</th>\n",
              "      <td>Brazil</td>\n",
              "    </tr>\n",
              "  </tbody>\n",
              "</table>\n",
              "</div>"
            ],
            "text/plain": [
              "  Country\n",
              "1   India\n",
              "2  Brazil"
            ]
          },
          "metadata": {},
          "execution_count": 15
        }
      ]
    },
    {
      "cell_type": "code",
      "metadata": {
        "id": "d07iZjHH5qbN",
        "colab": {
          "base_uri": "https://localhost:8080/",
          "height": 35
        },
        "outputId": "8187a33b-2e22-498f-bf0c-3ccb0a967595"
      },
      "source": [
        "df.iat[0,0] # memilih baris index 0 dan kolom 0"
      ],
      "execution_count": null,
      "outputs": [
        {
          "output_type": "execute_result",
          "data": {
            "application/vnd.google.colaboratory.intrinsic+json": {
              "type": "string"
            },
            "text/plain": [
              "'Belgium'"
            ]
          },
          "metadata": {},
          "execution_count": 16
        }
      ]
    },
    {
      "cell_type": "code",
      "metadata": {
        "id": "YxxMoEOx5qbN",
        "colab": {
          "base_uri": "https://localhost:8080/",
          "height": 35
        },
        "outputId": "862259be-b7f5-4249-b867-07e5e3c45c09"
      },
      "source": [
        "df.iat[1,0] # memilih baris index 1 dan kolom 0"
      ],
      "execution_count": null,
      "outputs": [
        {
          "output_type": "execute_result",
          "data": {
            "application/vnd.google.colaboratory.intrinsic+json": {
              "type": "string"
            },
            "text/plain": [
              "'India'"
            ]
          },
          "metadata": {},
          "execution_count": 17
        }
      ]
    },
    {
      "cell_type": "code",
      "metadata": {
        "id": "tRSyt5Ue5qbO",
        "colab": {
          "base_uri": "https://localhost:8080/",
          "height": 81
        },
        "outputId": "b70eb95d-de60-4d16-99ea-327e0e8f6df9"
      },
      "source": [
        "df.loc[[0], ['Country']] # memilih baris index ke-0 pada kolom Country"
      ],
      "execution_count": null,
      "outputs": [
        {
          "output_type": "execute_result",
          "data": {
            "text/html": [
              "<div>\n",
              "<style scoped>\n",
              "    .dataframe tbody tr th:only-of-type {\n",
              "        vertical-align: middle;\n",
              "    }\n",
              "\n",
              "    .dataframe tbody tr th {\n",
              "        vertical-align: top;\n",
              "    }\n",
              "\n",
              "    .dataframe thead th {\n",
              "        text-align: right;\n",
              "    }\n",
              "</style>\n",
              "<table border=\"1\" class=\"dataframe\">\n",
              "  <thead>\n",
              "    <tr style=\"text-align: right;\">\n",
              "      <th></th>\n",
              "      <th>Country</th>\n",
              "    </tr>\n",
              "  </thead>\n",
              "  <tbody>\n",
              "    <tr>\n",
              "      <th>0</th>\n",
              "      <td>Belgium</td>\n",
              "    </tr>\n",
              "  </tbody>\n",
              "</table>\n",
              "</div>"
            ],
            "text/plain": [
              "   Country\n",
              "0  Belgium"
            ]
          },
          "metadata": {},
          "execution_count": 18
        }
      ]
    },
    {
      "cell_type": "code",
      "metadata": {
        "id": "50xIE7aS5qbO",
        "colab": {
          "base_uri": "https://localhost:8080/",
          "height": 143
        },
        "outputId": "9b8b2b1f-3cc7-4f04-e6ab-9fa6e8f559e1"
      },
      "source": [
        "df.loc[:,['Capital']] # memilih baris semua index pada kolom Capital"
      ],
      "execution_count": null,
      "outputs": [
        {
          "output_type": "execute_result",
          "data": {
            "text/html": [
              "<div>\n",
              "<style scoped>\n",
              "    .dataframe tbody tr th:only-of-type {\n",
              "        vertical-align: middle;\n",
              "    }\n",
              "\n",
              "    .dataframe tbody tr th {\n",
              "        vertical-align: top;\n",
              "    }\n",
              "\n",
              "    .dataframe thead th {\n",
              "        text-align: right;\n",
              "    }\n",
              "</style>\n",
              "<table border=\"1\" class=\"dataframe\">\n",
              "  <thead>\n",
              "    <tr style=\"text-align: right;\">\n",
              "      <th></th>\n",
              "      <th>Capital</th>\n",
              "    </tr>\n",
              "  </thead>\n",
              "  <tbody>\n",
              "    <tr>\n",
              "      <th>0</th>\n",
              "      <td>Brussels</td>\n",
              "    </tr>\n",
              "    <tr>\n",
              "      <th>1</th>\n",
              "      <td>New Delhi</td>\n",
              "    </tr>\n",
              "    <tr>\n",
              "      <th>2</th>\n",
              "      <td>Brasília</td>\n",
              "    </tr>\n",
              "  </tbody>\n",
              "</table>\n",
              "</div>"
            ],
            "text/plain": [
              "     Capital\n",
              "0   Brussels\n",
              "1  New Delhi\n",
              "2   Brasília"
            ]
          },
          "metadata": {},
          "execution_count": 19
        }
      ]
    },
    {
      "cell_type": "code",
      "metadata": {
        "id": "DqtgRiUk5qbO",
        "colab": {
          "base_uri": "https://localhost:8080/",
          "height": 35
        },
        "outputId": "6947067d-2ccb-4ebc-bead-ed6158e277e8"
      },
      "source": [
        "df.at[0,'Country'] # sama halnya dengan .loc tetapi bedanya 0 merupakan nilai skalar, jadi pengambilan nilai hanya satu"
      ],
      "execution_count": null,
      "outputs": [
        {
          "output_type": "execute_result",
          "data": {
            "application/vnd.google.colaboratory.intrinsic+json": {
              "type": "string"
            },
            "text/plain": [
              "'Belgium'"
            ]
          },
          "metadata": {},
          "execution_count": 20
        }
      ]
    },
    {
      "cell_type": "code",
      "metadata": {
        "id": "d_rn453L5qbO",
        "colab": {
          "base_uri": "https://localhost:8080/",
          "height": 35
        },
        "outputId": "c04ae036-474e-41c0-8e4a-2036ef9dcad6"
      },
      "source": [
        "df.at[1,'Capital']"
      ],
      "execution_count": null,
      "outputs": [
        {
          "output_type": "execute_result",
          "data": {
            "application/vnd.google.colaboratory.intrinsic+json": {
              "type": "string"
            },
            "text/plain": [
              "'New Delhi'"
            ]
          },
          "metadata": {},
          "execution_count": 21
        }
      ]
    },
    {
      "cell_type": "code",
      "metadata": {
        "id": "-_9NJaG55qbQ",
        "colab": {
          "base_uri": "https://localhost:8080/",
          "height": 81
        },
        "outputId": "ef0762ab-3525-426d-d7a2-936b75906c83"
      },
      "source": [
        "df[df['Population'] > 1200000000] # memilih baris (atau kolom) dengan populasi >  1,2 M"
      ],
      "execution_count": null,
      "outputs": [
        {
          "output_type": "execute_result",
          "data": {
            "text/html": [
              "<div>\n",
              "<style scoped>\n",
              "    .dataframe tbody tr th:only-of-type {\n",
              "        vertical-align: middle;\n",
              "    }\n",
              "\n",
              "    .dataframe tbody tr th {\n",
              "        vertical-align: top;\n",
              "    }\n",
              "\n",
              "    .dataframe thead th {\n",
              "        text-align: right;\n",
              "    }\n",
              "</style>\n",
              "<table border=\"1\" class=\"dataframe\">\n",
              "  <thead>\n",
              "    <tr style=\"text-align: right;\">\n",
              "      <th></th>\n",
              "      <th>Country</th>\n",
              "      <th>Capital</th>\n",
              "      <th>Population</th>\n",
              "    </tr>\n",
              "  </thead>\n",
              "  <tbody>\n",
              "    <tr>\n",
              "      <th>1</th>\n",
              "      <td>India</td>\n",
              "      <td>New Delhi</td>\n",
              "      <td>1303171035</td>\n",
              "    </tr>\n",
              "  </tbody>\n",
              "</table>\n",
              "</div>"
            ],
            "text/plain": [
              "  Country    Capital  Population\n",
              "1   India  New Delhi  1303171035"
            ]
          },
          "metadata": {},
          "execution_count": 22
        }
      ]
    },
    {
      "cell_type": "code",
      "metadata": {
        "colab": {
          "base_uri": "https://localhost:8080/",
          "height": 35
        },
        "id": "s2OzgBSJGDVX",
        "outputId": "de7cb9aa-7cb0-43fe-e88a-598a5feb60eb"
      },
      "source": [
        "# df.ix[1,'Capital']\n",
        "df.loc[1,'Capital']"
      ],
      "execution_count": null,
      "outputs": [
        {
          "output_type": "execute_result",
          "data": {
            "application/vnd.google.colaboratory.intrinsic+json": {
              "type": "string"
            },
            "text/plain": [
              "'New Delhi'"
            ]
          },
          "metadata": {},
          "execution_count": 23
        }
      ]
    },
    {
      "cell_type": "code",
      "metadata": {
        "colab": {
          "base_uri": "https://localhost:8080/"
        },
        "id": "auUIKDO6xC3e",
        "outputId": "082e8198-c4d6-4324-f82e-0920b5b991b9"
      },
      "source": [
        "print(pd.__version__)"
      ],
      "execution_count": null,
      "outputs": [
        {
          "output_type": "stream",
          "name": "stdout",
          "text": [
            "1.1.5\n"
          ]
        }
      ]
    },
    {
      "cell_type": "markdown",
      "metadata": {
        "id": "HCWNQ53EyjuD"
      },
      "source": [
        "Atribut dan Method Data Frame lainnya"
      ]
    },
    {
      "cell_type": "code",
      "metadata": {
        "id": "XTFuUK5l5qbR",
        "colab": {
          "base_uri": "https://localhost:8080/",
          "height": 143
        },
        "outputId": "b8eea30c-c57a-4da8-99f2-1045af46ea3c"
      },
      "source": [
        "df"
      ],
      "execution_count": null,
      "outputs": [
        {
          "output_type": "execute_result",
          "data": {
            "text/html": [
              "<div>\n",
              "<style scoped>\n",
              "    .dataframe tbody tr th:only-of-type {\n",
              "        vertical-align: middle;\n",
              "    }\n",
              "\n",
              "    .dataframe tbody tr th {\n",
              "        vertical-align: top;\n",
              "    }\n",
              "\n",
              "    .dataframe thead th {\n",
              "        text-align: right;\n",
              "    }\n",
              "</style>\n",
              "<table border=\"1\" class=\"dataframe\">\n",
              "  <thead>\n",
              "    <tr style=\"text-align: right;\">\n",
              "      <th></th>\n",
              "      <th>Country</th>\n",
              "      <th>Capital</th>\n",
              "      <th>Population</th>\n",
              "    </tr>\n",
              "  </thead>\n",
              "  <tbody>\n",
              "    <tr>\n",
              "      <th>0</th>\n",
              "      <td>Belgium</td>\n",
              "      <td>Brussels</td>\n",
              "      <td>11190846</td>\n",
              "    </tr>\n",
              "    <tr>\n",
              "      <th>1</th>\n",
              "      <td>India</td>\n",
              "      <td>New Delhi</td>\n",
              "      <td>1303171035</td>\n",
              "    </tr>\n",
              "    <tr>\n",
              "      <th>2</th>\n",
              "      <td>Brazil</td>\n",
              "      <td>Brasília</td>\n",
              "      <td>207847528</td>\n",
              "    </tr>\n",
              "  </tbody>\n",
              "</table>\n",
              "</div>"
            ],
            "text/plain": [
              "   Country    Capital  Population\n",
              "0  Belgium   Brussels    11190846\n",
              "1    India  New Delhi  1303171035\n",
              "2   Brazil   Brasília   207847528"
            ]
          },
          "metadata": {},
          "execution_count": 25
        }
      ]
    },
    {
      "cell_type": "code",
      "metadata": {
        "id": "xVbEImtn5qbR",
        "colab": {
          "base_uri": "https://localhost:8080/",
          "height": 143
        },
        "outputId": "d6ec0c32-5dd3-4333-fc9f-98881e79b0c9"
      },
      "source": [
        "df.drop('Country', axis=1) # menghapus kolom Country"
      ],
      "execution_count": null,
      "outputs": [
        {
          "output_type": "execute_result",
          "data": {
            "text/html": [
              "<div>\n",
              "<style scoped>\n",
              "    .dataframe tbody tr th:only-of-type {\n",
              "        vertical-align: middle;\n",
              "    }\n",
              "\n",
              "    .dataframe tbody tr th {\n",
              "        vertical-align: top;\n",
              "    }\n",
              "\n",
              "    .dataframe thead th {\n",
              "        text-align: right;\n",
              "    }\n",
              "</style>\n",
              "<table border=\"1\" class=\"dataframe\">\n",
              "  <thead>\n",
              "    <tr style=\"text-align: right;\">\n",
              "      <th></th>\n",
              "      <th>Capital</th>\n",
              "      <th>Population</th>\n",
              "    </tr>\n",
              "  </thead>\n",
              "  <tbody>\n",
              "    <tr>\n",
              "      <th>0</th>\n",
              "      <td>Brussels</td>\n",
              "      <td>11190846</td>\n",
              "    </tr>\n",
              "    <tr>\n",
              "      <th>1</th>\n",
              "      <td>New Delhi</td>\n",
              "      <td>1303171035</td>\n",
              "    </tr>\n",
              "    <tr>\n",
              "      <th>2</th>\n",
              "      <td>Brasília</td>\n",
              "      <td>207847528</td>\n",
              "    </tr>\n",
              "  </tbody>\n",
              "</table>\n",
              "</div>"
            ],
            "text/plain": [
              "     Capital  Population\n",
              "0   Brussels    11190846\n",
              "1  New Delhi  1303171035\n",
              "2   Brasília   207847528"
            ]
          },
          "metadata": {},
          "execution_count": 48
        }
      ]
    },
    {
      "cell_type": "code",
      "metadata": {
        "colab": {
          "base_uri": "https://localhost:8080/",
          "height": 112
        },
        "id": "Vd5Xw4Nsw306",
        "outputId": "9df2726c-4939-467a-eab7-9d8a017e51b2"
      },
      "source": [
        "df.drop([1], axis=0) # menghapus baris di index ke-1"
      ],
      "execution_count": 68,
      "outputs": [
        {
          "output_type": "execute_result",
          "data": {
            "text/html": [
              "<div>\n",
              "<style scoped>\n",
              "    .dataframe tbody tr th:only-of-type {\n",
              "        vertical-align: middle;\n",
              "    }\n",
              "\n",
              "    .dataframe tbody tr th {\n",
              "        vertical-align: top;\n",
              "    }\n",
              "\n",
              "    .dataframe thead th {\n",
              "        text-align: right;\n",
              "    }\n",
              "</style>\n",
              "<table border=\"1\" class=\"dataframe\">\n",
              "  <thead>\n",
              "    <tr style=\"text-align: right;\">\n",
              "      <th></th>\n",
              "      <th>Country</th>\n",
              "      <th>Capital</th>\n",
              "      <th>Population</th>\n",
              "    </tr>\n",
              "  </thead>\n",
              "  <tbody>\n",
              "    <tr>\n",
              "      <th>0</th>\n",
              "      <td>Belgium</td>\n",
              "      <td>Brussels</td>\n",
              "      <td>11190846</td>\n",
              "    </tr>\n",
              "    <tr>\n",
              "      <th>2</th>\n",
              "      <td>Brazil</td>\n",
              "      <td>Brasília</td>\n",
              "      <td>207847528</td>\n",
              "    </tr>\n",
              "  </tbody>\n",
              "</table>\n",
              "</div>"
            ],
            "text/plain": [
              "   Country   Capital  Population\n",
              "0  Belgium  Brussels    11190846\n",
              "2   Brazil  Brasília   207847528"
            ]
          },
          "metadata": {},
          "execution_count": 68
        }
      ]
    },
    {
      "cell_type": "code",
      "metadata": {
        "id": "FWZofJZL5qbR",
        "colab": {
          "base_uri": "https://localhost:8080/",
          "height": 143
        },
        "outputId": "fb6a1f72-5d0d-49d7-f743-e736a8f8aaf9"
      },
      "source": [
        "df.sort_index() # mengurutkan berdasarkan index"
      ],
      "execution_count": null,
      "outputs": [
        {
          "output_type": "execute_result",
          "data": {
            "text/html": [
              "<div>\n",
              "<style scoped>\n",
              "    .dataframe tbody tr th:only-of-type {\n",
              "        vertical-align: middle;\n",
              "    }\n",
              "\n",
              "    .dataframe tbody tr th {\n",
              "        vertical-align: top;\n",
              "    }\n",
              "\n",
              "    .dataframe thead th {\n",
              "        text-align: right;\n",
              "    }\n",
              "</style>\n",
              "<table border=\"1\" class=\"dataframe\">\n",
              "  <thead>\n",
              "    <tr style=\"text-align: right;\">\n",
              "      <th></th>\n",
              "      <th>Country</th>\n",
              "      <th>Capital</th>\n",
              "      <th>Population</th>\n",
              "    </tr>\n",
              "  </thead>\n",
              "  <tbody>\n",
              "    <tr>\n",
              "      <th>0</th>\n",
              "      <td>Belgium</td>\n",
              "      <td>Brussels</td>\n",
              "      <td>11190846</td>\n",
              "    </tr>\n",
              "    <tr>\n",
              "      <th>1</th>\n",
              "      <td>India</td>\n",
              "      <td>New Delhi</td>\n",
              "      <td>1303171035</td>\n",
              "    </tr>\n",
              "    <tr>\n",
              "      <th>2</th>\n",
              "      <td>Brazil</td>\n",
              "      <td>Brasília</td>\n",
              "      <td>207847528</td>\n",
              "    </tr>\n",
              "  </tbody>\n",
              "</table>\n",
              "</div>"
            ],
            "text/plain": [
              "   Country    Capital  Population\n",
              "0  Belgium   Brussels    11190846\n",
              "1    India  New Delhi  1303171035\n",
              "2   Brazil   Brasília   207847528"
            ]
          },
          "metadata": {},
          "execution_count": 27
        }
      ]
    },
    {
      "cell_type": "code",
      "metadata": {
        "id": "9_0yci-G5qbS",
        "colab": {
          "base_uri": "https://localhost:8080/",
          "height": 143
        },
        "outputId": "4e60a3c4-9c9a-48d2-dfa1-a9e655a56ad5"
      },
      "source": [
        "df.rank() # menentukan peringkat"
      ],
      "execution_count": null,
      "outputs": [
        {
          "output_type": "execute_result",
          "data": {
            "text/html": [
              "<div>\n",
              "<style scoped>\n",
              "    .dataframe tbody tr th:only-of-type {\n",
              "        vertical-align: middle;\n",
              "    }\n",
              "\n",
              "    .dataframe tbody tr th {\n",
              "        vertical-align: top;\n",
              "    }\n",
              "\n",
              "    .dataframe thead th {\n",
              "        text-align: right;\n",
              "    }\n",
              "</style>\n",
              "<table border=\"1\" class=\"dataframe\">\n",
              "  <thead>\n",
              "    <tr style=\"text-align: right;\">\n",
              "      <th></th>\n",
              "      <th>Country</th>\n",
              "      <th>Capital</th>\n",
              "      <th>Population</th>\n",
              "    </tr>\n",
              "  </thead>\n",
              "  <tbody>\n",
              "    <tr>\n",
              "      <th>0</th>\n",
              "      <td>1.0</td>\n",
              "      <td>2.0</td>\n",
              "      <td>1.0</td>\n",
              "    </tr>\n",
              "    <tr>\n",
              "      <th>1</th>\n",
              "      <td>3.0</td>\n",
              "      <td>3.0</td>\n",
              "      <td>3.0</td>\n",
              "    </tr>\n",
              "    <tr>\n",
              "      <th>2</th>\n",
              "      <td>2.0</td>\n",
              "      <td>1.0</td>\n",
              "      <td>2.0</td>\n",
              "    </tr>\n",
              "  </tbody>\n",
              "</table>\n",
              "</div>"
            ],
            "text/plain": [
              "   Country  Capital  Population\n",
              "0      1.0      2.0         1.0\n",
              "1      3.0      3.0         3.0\n",
              "2      2.0      1.0         2.0"
            ]
          },
          "metadata": {},
          "execution_count": 28
        }
      ]
    },
    {
      "cell_type": "code",
      "metadata": {
        "id": "1ab42lk85qbS",
        "colab": {
          "base_uri": "https://localhost:8080/",
          "height": 143
        },
        "outputId": "2a4927cf-a05f-4b9f-93bb-5d8f3a4ded47"
      },
      "source": [
        "df.sort_values(by='Capital') # mengurutkan kolom Capital berdasarkan abjad"
      ],
      "execution_count": null,
      "outputs": [
        {
          "output_type": "execute_result",
          "data": {
            "text/html": [
              "<div>\n",
              "<style scoped>\n",
              "    .dataframe tbody tr th:only-of-type {\n",
              "        vertical-align: middle;\n",
              "    }\n",
              "\n",
              "    .dataframe tbody tr th {\n",
              "        vertical-align: top;\n",
              "    }\n",
              "\n",
              "    .dataframe thead th {\n",
              "        text-align: right;\n",
              "    }\n",
              "</style>\n",
              "<table border=\"1\" class=\"dataframe\">\n",
              "  <thead>\n",
              "    <tr style=\"text-align: right;\">\n",
              "      <th></th>\n",
              "      <th>Country</th>\n",
              "      <th>Capital</th>\n",
              "      <th>Population</th>\n",
              "    </tr>\n",
              "  </thead>\n",
              "  <tbody>\n",
              "    <tr>\n",
              "      <th>2</th>\n",
              "      <td>Brazil</td>\n",
              "      <td>Brasília</td>\n",
              "      <td>207847528</td>\n",
              "    </tr>\n",
              "    <tr>\n",
              "      <th>0</th>\n",
              "      <td>Belgium</td>\n",
              "      <td>Brussels</td>\n",
              "      <td>11190846</td>\n",
              "    </tr>\n",
              "    <tr>\n",
              "      <th>1</th>\n",
              "      <td>India</td>\n",
              "      <td>New Delhi</td>\n",
              "      <td>1303171035</td>\n",
              "    </tr>\n",
              "  </tbody>\n",
              "</table>\n",
              "</div>"
            ],
            "text/plain": [
              "   Country    Capital  Population\n",
              "2   Brazil   Brasília   207847528\n",
              "0  Belgium   Brussels    11190846\n",
              "1    India  New Delhi  1303171035"
            ]
          },
          "metadata": {},
          "execution_count": 29
        }
      ]
    },
    {
      "cell_type": "code",
      "metadata": {
        "id": "IV3Lioyn5qbS",
        "colab": {
          "base_uri": "https://localhost:8080/"
        },
        "outputId": "9a63f35a-5a8b-46e1-aa86-c777fcba0ceb"
      },
      "source": [
        "df.shape # untuk mengetahui jumlah baris dan kolom"
      ],
      "execution_count": null,
      "outputs": [
        {
          "output_type": "execute_result",
          "data": {
            "text/plain": [
              "(3, 3)"
            ]
          },
          "metadata": {},
          "execution_count": 30
        }
      ]
    },
    {
      "cell_type": "code",
      "metadata": {
        "id": "rGi9F6Xl5qbT",
        "colab": {
          "base_uri": "https://localhost:8080/"
        },
        "outputId": "95bb5371-6f46-408d-d05f-d881073f7624"
      },
      "source": [
        "df.index # untuk mengetahui index"
      ],
      "execution_count": null,
      "outputs": [
        {
          "output_type": "execute_result",
          "data": {
            "text/plain": [
              "RangeIndex(start=0, stop=3, step=1)"
            ]
          },
          "metadata": {},
          "execution_count": 31
        }
      ]
    },
    {
      "cell_type": "code",
      "metadata": {
        "id": "czf9ZTAH5qbT",
        "colab": {
          "base_uri": "https://localhost:8080/"
        },
        "outputId": "942a1131-9dae-43ea-c173-415d6aae2d0c"
      },
      "source": [
        "df.columns # untuk mengetahui nilai kolom"
      ],
      "execution_count": null,
      "outputs": [
        {
          "output_type": "execute_result",
          "data": {
            "text/plain": [
              "Index(['Country', 'Capital', 'Population'], dtype='object')"
            ]
          },
          "metadata": {},
          "execution_count": 32
        }
      ]
    },
    {
      "cell_type": "code",
      "metadata": {
        "id": "B8TRi37f5qbT",
        "colab": {
          "base_uri": "https://localhost:8080/"
        },
        "outputId": "44cd2005-cc16-4377-d0eb-09c161f59df2"
      },
      "source": [
        "df.info() # untuk mengetahui info "
      ],
      "execution_count": null,
      "outputs": [
        {
          "output_type": "stream",
          "name": "stdout",
          "text": [
            "<class 'pandas.core.frame.DataFrame'>\n",
            "RangeIndex: 3 entries, 0 to 2\n",
            "Data columns (total 3 columns):\n",
            " #   Column      Non-Null Count  Dtype \n",
            "---  ------      --------------  ----- \n",
            " 0   Country     3 non-null      object\n",
            " 1   Capital     3 non-null      object\n",
            " 2   Population  3 non-null      int64 \n",
            "dtypes: int64(1), object(2)\n",
            "memory usage: 200.0+ bytes\n"
          ]
        }
      ]
    },
    {
      "cell_type": "code",
      "metadata": {
        "id": "aGWI6yYX5qbT",
        "colab": {
          "base_uri": "https://localhost:8080/"
        },
        "outputId": "0fa5a1de-20ee-4b86-b5dc-268d3a9ef88f"
      },
      "source": [
        "df.count() # menghitung jumlah elemen bukan NA / None"
      ],
      "execution_count": null,
      "outputs": [
        {
          "output_type": "execute_result",
          "data": {
            "text/plain": [
              "Country       3\n",
              "Capital       3\n",
              "Population    3\n",
              "dtype: int64"
            ]
          },
          "metadata": {},
          "execution_count": 34
        }
      ]
    },
    {
      "cell_type": "code",
      "metadata": {
        "id": "Uc5gjFwe5qbU",
        "colab": {
          "base_uri": "https://localhost:8080/"
        },
        "outputId": "db8e0396-deb5-4bee-e8a2-66ef9e6ec84d"
      },
      "source": [
        "df.sum() # menentukan jumlah"
      ],
      "execution_count": null,
      "outputs": [
        {
          "output_type": "execute_result",
          "data": {
            "text/plain": [
              "Country              BelgiumIndiaBrazil\n",
              "Capital       BrusselsNew DelhiBrasília\n",
              "Population                   1522209409\n",
              "dtype: object"
            ]
          },
          "metadata": {},
          "execution_count": 35
        }
      ]
    },
    {
      "cell_type": "code",
      "metadata": {
        "id": "gWX_KzNx5qbU",
        "colab": {
          "base_uri": "https://localhost:8080/",
          "height": 143
        },
        "outputId": "fd60b8a8-2c85-4663-d794-b3d879aaec94"
      },
      "source": [
        "df.cumsum() # menentukan jumlah komulatif berdasarkan grup"
      ],
      "execution_count": null,
      "outputs": [
        {
          "output_type": "execute_result",
          "data": {
            "text/html": [
              "<div>\n",
              "<style scoped>\n",
              "    .dataframe tbody tr th:only-of-type {\n",
              "        vertical-align: middle;\n",
              "    }\n",
              "\n",
              "    .dataframe tbody tr th {\n",
              "        vertical-align: top;\n",
              "    }\n",
              "\n",
              "    .dataframe thead th {\n",
              "        text-align: right;\n",
              "    }\n",
              "</style>\n",
              "<table border=\"1\" class=\"dataframe\">\n",
              "  <thead>\n",
              "    <tr style=\"text-align: right;\">\n",
              "      <th></th>\n",
              "      <th>Country</th>\n",
              "      <th>Capital</th>\n",
              "      <th>Population</th>\n",
              "    </tr>\n",
              "  </thead>\n",
              "  <tbody>\n",
              "    <tr>\n",
              "      <th>0</th>\n",
              "      <td>Belgium</td>\n",
              "      <td>Brussels</td>\n",
              "      <td>11190846</td>\n",
              "    </tr>\n",
              "    <tr>\n",
              "      <th>1</th>\n",
              "      <td>BelgiumIndia</td>\n",
              "      <td>BrusselsNew Delhi</td>\n",
              "      <td>1314361881</td>\n",
              "    </tr>\n",
              "    <tr>\n",
              "      <th>2</th>\n",
              "      <td>BelgiumIndiaBrazil</td>\n",
              "      <td>BrusselsNew DelhiBrasília</td>\n",
              "      <td>1522209409</td>\n",
              "    </tr>\n",
              "  </tbody>\n",
              "</table>\n",
              "</div>"
            ],
            "text/plain": [
              "              Country                    Capital  Population\n",
              "0             Belgium                   Brussels    11190846\n",
              "1        BelgiumIndia          BrusselsNew Delhi  1314361881\n",
              "2  BelgiumIndiaBrazil  BrusselsNew DelhiBrasília  1522209409"
            ]
          },
          "metadata": {},
          "execution_count": 36
        }
      ]
    },
    {
      "cell_type": "code",
      "metadata": {
        "id": "La0DAN305qbU",
        "colab": {
          "base_uri": "https://localhost:8080/"
        },
        "outputId": "99a79426-95ad-47cc-e333-2cb05038ce18"
      },
      "source": [
        "df.min() # menentukan nilai minimum"
      ],
      "execution_count": null,
      "outputs": [
        {
          "output_type": "execute_result",
          "data": {
            "text/plain": [
              "Country        Belgium\n",
              "Capital       Brasília\n",
              "Population    11190846\n",
              "dtype: object"
            ]
          },
          "metadata": {},
          "execution_count": 37
        }
      ]
    },
    {
      "cell_type": "code",
      "metadata": {
        "id": "6IIJmGXc5qbU",
        "colab": {
          "base_uri": "https://localhost:8080/"
        },
        "outputId": "b86e1e12-e575-4c73-b404-347e521bbb23"
      },
      "source": [
        "df.max() # menentukan nilai maximum"
      ],
      "execution_count": null,
      "outputs": [
        {
          "output_type": "execute_result",
          "data": {
            "text/plain": [
              "Country            India\n",
              "Capital        New Delhi\n",
              "Population    1303171035\n",
              "dtype: object"
            ]
          },
          "metadata": {},
          "execution_count": 38
        }
      ]
    },
    {
      "cell_type": "code",
      "metadata": {
        "id": "eSYPPfnx5qbU",
        "colab": {
          "base_uri": "https://localhost:8080/",
          "height": 300
        },
        "outputId": "ffc1a2e7-c8a3-4b20-929a-9461df3d2be5"
      },
      "source": [
        "df.describe() # menampilkan statistik data"
      ],
      "execution_count": null,
      "outputs": [
        {
          "output_type": "execute_result",
          "data": {
            "text/html": [
              "<div>\n",
              "<style scoped>\n",
              "    .dataframe tbody tr th:only-of-type {\n",
              "        vertical-align: middle;\n",
              "    }\n",
              "\n",
              "    .dataframe tbody tr th {\n",
              "        vertical-align: top;\n",
              "    }\n",
              "\n",
              "    .dataframe thead th {\n",
              "        text-align: right;\n",
              "    }\n",
              "</style>\n",
              "<table border=\"1\" class=\"dataframe\">\n",
              "  <thead>\n",
              "    <tr style=\"text-align: right;\">\n",
              "      <th></th>\n",
              "      <th>Population</th>\n",
              "    </tr>\n",
              "  </thead>\n",
              "  <tbody>\n",
              "    <tr>\n",
              "      <th>count</th>\n",
              "      <td>3.000000e+00</td>\n",
              "    </tr>\n",
              "    <tr>\n",
              "      <th>mean</th>\n",
              "      <td>5.074031e+08</td>\n",
              "    </tr>\n",
              "    <tr>\n",
              "      <th>std</th>\n",
              "      <td>6.961346e+08</td>\n",
              "    </tr>\n",
              "    <tr>\n",
              "      <th>min</th>\n",
              "      <td>1.119085e+07</td>\n",
              "    </tr>\n",
              "    <tr>\n",
              "      <th>25%</th>\n",
              "      <td>1.095192e+08</td>\n",
              "    </tr>\n",
              "    <tr>\n",
              "      <th>50%</th>\n",
              "      <td>2.078475e+08</td>\n",
              "    </tr>\n",
              "    <tr>\n",
              "      <th>75%</th>\n",
              "      <td>7.555093e+08</td>\n",
              "    </tr>\n",
              "    <tr>\n",
              "      <th>max</th>\n",
              "      <td>1.303171e+09</td>\n",
              "    </tr>\n",
              "  </tbody>\n",
              "</table>\n",
              "</div>"
            ],
            "text/plain": [
              "         Population\n",
              "count  3.000000e+00\n",
              "mean   5.074031e+08\n",
              "std    6.961346e+08\n",
              "min    1.119085e+07\n",
              "25%    1.095192e+08\n",
              "50%    2.078475e+08\n",
              "75%    7.555093e+08\n",
              "max    1.303171e+09"
            ]
          },
          "metadata": {},
          "execution_count": 39
        }
      ]
    },
    {
      "cell_type": "code",
      "metadata": {
        "id": "7Wqug7UR5qbU",
        "colab": {
          "base_uri": "https://localhost:8080/"
        },
        "outputId": "37a143af-c079-43e5-fdfe-002bc9496575"
      },
      "source": [
        "df.mean() # menentukan rata-rata"
      ],
      "execution_count": null,
      "outputs": [
        {
          "output_type": "execute_result",
          "data": {
            "text/plain": [
              "Population    5.074031e+08\n",
              "dtype: float64"
            ]
          },
          "metadata": {},
          "execution_count": 40
        }
      ]
    },
    {
      "cell_type": "code",
      "metadata": {
        "id": "N-YddYAI5qbU",
        "colab": {
          "base_uri": "https://localhost:8080/"
        },
        "outputId": "2da027e9-85e0-442f-a542-bb87258743d4"
      },
      "source": [
        "df.median() # menentukan nilai tengah"
      ],
      "execution_count": null,
      "outputs": [
        {
          "output_type": "execute_result",
          "data": {
            "text/plain": [
              "Population    207847528.0\n",
              "dtype: float64"
            ]
          },
          "metadata": {},
          "execution_count": 41
        }
      ]
    },
    {
      "cell_type": "markdown",
      "metadata": {
        "id": "KMckFYUdyZPT"
      },
      "source": [
        "### Mengimport Data ke Data Frame"
      ]
    },
    {
      "cell_type": "code",
      "metadata": {
        "id": "iNLFKrp8ycf3",
        "colab": {
          "base_uri": "https://localhost:8080/",
          "height": 424
        },
        "outputId": "18163cef-d5b0-4a94-d8f0-1aff3c3d0b0a"
      },
      "source": [
        "#Contoh mengimport dari web\n",
        "url = 'https://people.sc.fsu.edu/~jburkardt/data/csv/freshman_kgs.csv'\n",
        "df2 = pd.read_csv(url)\n",
        "df2"
      ],
      "execution_count": null,
      "outputs": [
        {
          "output_type": "execute_result",
          "data": {
            "text/html": [
              "<div>\n",
              "<style scoped>\n",
              "    .dataframe tbody tr th:only-of-type {\n",
              "        vertical-align: middle;\n",
              "    }\n",
              "\n",
              "    .dataframe tbody tr th {\n",
              "        vertical-align: top;\n",
              "    }\n",
              "\n",
              "    .dataframe thead th {\n",
              "        text-align: right;\n",
              "    }\n",
              "</style>\n",
              "<table border=\"1\" class=\"dataframe\">\n",
              "  <thead>\n",
              "    <tr style=\"text-align: right;\">\n",
              "      <th></th>\n",
              "      <th>Sex</th>\n",
              "      <th>\"Weight (Sep)\"</th>\n",
              "      <th>\"Weight (Apr)\"</th>\n",
              "      <th>\"BMI (Sep)\"</th>\n",
              "      <th>\"BMI (Apr)\"</th>\n",
              "    </tr>\n",
              "  </thead>\n",
              "  <tbody>\n",
              "    <tr>\n",
              "      <th>0</th>\n",
              "      <td>M</td>\n",
              "      <td>72</td>\n",
              "      <td>59</td>\n",
              "      <td>22.02</td>\n",
              "      <td>18.14</td>\n",
              "    </tr>\n",
              "    <tr>\n",
              "      <th>1</th>\n",
              "      <td>M</td>\n",
              "      <td>97</td>\n",
              "      <td>86</td>\n",
              "      <td>19.70</td>\n",
              "      <td>17.44</td>\n",
              "    </tr>\n",
              "    <tr>\n",
              "      <th>2</th>\n",
              "      <td>M</td>\n",
              "      <td>74</td>\n",
              "      <td>69</td>\n",
              "      <td>24.09</td>\n",
              "      <td>22.43</td>\n",
              "    </tr>\n",
              "    <tr>\n",
              "      <th>3</th>\n",
              "      <td>M</td>\n",
              "      <td>93</td>\n",
              "      <td>88</td>\n",
              "      <td>26.97</td>\n",
              "      <td>25.57</td>\n",
              "    </tr>\n",
              "    <tr>\n",
              "      <th>4</th>\n",
              "      <td>F</td>\n",
              "      <td>68</td>\n",
              "      <td>64</td>\n",
              "      <td>21.51</td>\n",
              "      <td>20.10</td>\n",
              "    </tr>\n",
              "    <tr>\n",
              "      <th>...</th>\n",
              "      <td>...</td>\n",
              "      <td>...</td>\n",
              "      <td>...</td>\n",
              "      <td>...</td>\n",
              "      <td>...</td>\n",
              "    </tr>\n",
              "    <tr>\n",
              "      <th>62</th>\n",
              "      <td>M</td>\n",
              "      <td>65</td>\n",
              "      <td>71</td>\n",
              "      <td>22.51</td>\n",
              "      <td>24.45</td>\n",
              "    </tr>\n",
              "    <tr>\n",
              "      <th>63</th>\n",
              "      <td>M</td>\n",
              "      <td>75</td>\n",
              "      <td>82</td>\n",
              "      <td>23.69</td>\n",
              "      <td>25.80</td>\n",
              "    </tr>\n",
              "    <tr>\n",
              "      <th>64</th>\n",
              "      <td>F</td>\n",
              "      <td>42</td>\n",
              "      <td>49</td>\n",
              "      <td>15.08</td>\n",
              "      <td>17.74</td>\n",
              "    </tr>\n",
              "    <tr>\n",
              "      <th>65</th>\n",
              "      <td>M</td>\n",
              "      <td>74</td>\n",
              "      <td>82</td>\n",
              "      <td>22.64</td>\n",
              "      <td>25.33</td>\n",
              "    </tr>\n",
              "    <tr>\n",
              "      <th>66</th>\n",
              "      <td>M</td>\n",
              "      <td>94</td>\n",
              "      <td>105</td>\n",
              "      <td>36.57</td>\n",
              "      <td>40.86</td>\n",
              "    </tr>\n",
              "  </tbody>\n",
              "</table>\n",
              "<p>67 rows × 5 columns</p>\n",
              "</div>"
            ],
            "text/plain": [
              "   Sex   \"Weight (Sep)\"   \"Weight (Apr)\"   \"BMI (Sep)\"   \"BMI (Apr)\"\n",
              "0    M               72               59         22.02         18.14\n",
              "1    M               97               86         19.70         17.44\n",
              "2    M               74               69         24.09         22.43\n",
              "3    M               93               88         26.97         25.57\n",
              "4    F               68               64         21.51         20.10\n",
              "..  ..              ...              ...           ...           ...\n",
              "62   M               65               71         22.51         24.45\n",
              "63   M               75               82         23.69         25.80\n",
              "64   F               42               49         15.08         17.74\n",
              "65   M               74               82         22.64         25.33\n",
              "66   M               94              105         36.57         40.86\n",
              "\n",
              "[67 rows x 5 columns]"
            ]
          },
          "metadata": {},
          "execution_count": 42
        }
      ]
    },
    {
      "cell_type": "code",
      "metadata": {
        "colab": {
          "base_uri": "https://localhost:8080/",
          "height": 1000
        },
        "id": "ZpUZX_Tx3P77",
        "outputId": "151fb08f-da15-4137-d3b1-4702949791f7"
      },
      "source": [
        "disney = '/content/sample_data/walt_disney_movies.csv'\n",
        "data = pd.read_csv(disney)\n",
        "data\n",
        "# Sumber data: Kaggle"
      ],
      "execution_count": 59,
      "outputs": [
        {
          "output_type": "execute_result",
          "data": {
            "text/html": [
              "<div>\n",
              "<style scoped>\n",
              "    .dataframe tbody tr th:only-of-type {\n",
              "        vertical-align: middle;\n",
              "    }\n",
              "\n",
              "    .dataframe tbody tr th {\n",
              "        vertical-align: top;\n",
              "    }\n",
              "\n",
              "    .dataframe thead th {\n",
              "        text-align: right;\n",
              "    }\n",
              "</style>\n",
              "<table border=\"1\" class=\"dataframe\">\n",
              "  <thead>\n",
              "    <tr style=\"text-align: right;\">\n",
              "      <th></th>\n",
              "      <th>Unnamed: 0</th>\n",
              "      <th>title</th>\n",
              "      <th>Production company</th>\n",
              "      <th>Country</th>\n",
              "      <th>Language</th>\n",
              "      <th>Running time</th>\n",
              "      <th>Budget</th>\n",
              "      <th>Box office</th>\n",
              "      <th>Release date</th>\n",
              "      <th>imdb</th>\n",
              "      <th>metascore</th>\n",
              "      <th>rotten_tomatoes</th>\n",
              "      <th>Directed by</th>\n",
              "      <th>Produced by</th>\n",
              "      <th>Based on</th>\n",
              "      <th>Starring</th>\n",
              "      <th>Music by</th>\n",
              "      <th>Distributed by</th>\n",
              "      <th>Cinematography</th>\n",
              "      <th>Edited by</th>\n",
              "      <th>Screenplay by</th>\n",
              "    </tr>\n",
              "  </thead>\n",
              "  <tbody>\n",
              "    <tr>\n",
              "      <th>0</th>\n",
              "      <td>0</td>\n",
              "      <td>Academy Award Review of</td>\n",
              "      <td>Walt Disney Productions</td>\n",
              "      <td>United States</td>\n",
              "      <td>English</td>\n",
              "      <td>41.0</td>\n",
              "      <td>NaN</td>\n",
              "      <td>4.547200e+01</td>\n",
              "      <td>1937-05-19</td>\n",
              "      <td>7.2</td>\n",
              "      <td>NaN</td>\n",
              "      <td>NaN</td>\n",
              "      <td>NaN</td>\n",
              "      <td>NaN</td>\n",
              "      <td>NaN</td>\n",
              "      <td>NaN</td>\n",
              "      <td>NaN</td>\n",
              "      <td>NaN</td>\n",
              "      <td>NaN</td>\n",
              "      <td>NaN</td>\n",
              "      <td>NaN</td>\n",
              "    </tr>\n",
              "    <tr>\n",
              "      <th>1</th>\n",
              "      <td>1</td>\n",
              "      <td>Snow White and the Seven Dwarfs</td>\n",
              "      <td>Walt Disney Productions</td>\n",
              "      <td>United States</td>\n",
              "      <td>English</td>\n",
              "      <td>83.0</td>\n",
              "      <td>1490000.0</td>\n",
              "      <td>4.180000e+08</td>\n",
              "      <td>1937-12-21</td>\n",
              "      <td>7.6</td>\n",
              "      <td>95.0</td>\n",
              "      <td>NaN</td>\n",
              "      <td>['David Hand (supervising)', 'William Cottrell...</td>\n",
              "      <td>Walt Disney</td>\n",
              "      <td>['Snow White', 'by The', 'Brothers Grimm']</td>\n",
              "      <td>['Adriana Caselotti', 'Lucille La Verne', 'Har...</td>\n",
              "      <td>['Frank Churchill', 'Paul Smith', 'Leigh Harli...</td>\n",
              "      <td>RKO Radio Pictures</td>\n",
              "      <td>NaN</td>\n",
              "      <td>NaN</td>\n",
              "      <td>NaN</td>\n",
              "    </tr>\n",
              "    <tr>\n",
              "      <th>2</th>\n",
              "      <td>2</td>\n",
              "      <td>Pinocchio</td>\n",
              "      <td>Walt Disney Productions</td>\n",
              "      <td>United States</td>\n",
              "      <td>English</td>\n",
              "      <td>88.0</td>\n",
              "      <td>2600000.0</td>\n",
              "      <td>1.640000e+08</td>\n",
              "      <td>1940-02-07</td>\n",
              "      <td>7.4</td>\n",
              "      <td>99.0</td>\n",
              "      <td>73%</td>\n",
              "      <td>['Ben Sharpsteen', 'Hamilton Luske', 'Bill Rob...</td>\n",
              "      <td>Walt Disney</td>\n",
              "      <td>['The Adventures of Pinocchio', 'by', 'Carlo C...</td>\n",
              "      <td>['Cliff Edwards', 'Dickie Jones', 'Christian R...</td>\n",
              "      <td>['Leigh Harline', 'Paul J. Smith']</td>\n",
              "      <td>RKO Radio Pictures</td>\n",
              "      <td>NaN</td>\n",
              "      <td>NaN</td>\n",
              "      <td>NaN</td>\n",
              "    </tr>\n",
              "    <tr>\n",
              "      <th>3</th>\n",
              "      <td>3</td>\n",
              "      <td>Fantasia</td>\n",
              "      <td>Walt Disney Productions</td>\n",
              "      <td>United States</td>\n",
              "      <td>English</td>\n",
              "      <td>126.0</td>\n",
              "      <td>2280000.0</td>\n",
              "      <td>8.330000e+07</td>\n",
              "      <td>1940-11-13</td>\n",
              "      <td>7.7</td>\n",
              "      <td>96.0</td>\n",
              "      <td>95%</td>\n",
              "      <td>['Samuel Armstrong', 'James Algar', 'Bill Robe...</td>\n",
              "      <td>['Walt Disney', 'Ben Sharpsteen']</td>\n",
              "      <td>NaN</td>\n",
              "      <td>['Leopold Stokowski', 'Deems Taylor']</td>\n",
              "      <td>See program</td>\n",
              "      <td>RKO Radio Pictures</td>\n",
              "      <td>James Wong Howe</td>\n",
              "      <td>NaN</td>\n",
              "      <td>NaN</td>\n",
              "    </tr>\n",
              "    <tr>\n",
              "      <th>4</th>\n",
              "      <td>4</td>\n",
              "      <td>The Reluctant Dragon</td>\n",
              "      <td>Walt Disney Productions</td>\n",
              "      <td>United States</td>\n",
              "      <td>English</td>\n",
              "      <td>74.0</td>\n",
              "      <td>600000.0</td>\n",
              "      <td>9.600000e+05</td>\n",
              "      <td>1941-06-20</td>\n",
              "      <td>6.9</td>\n",
              "      <td>NaN</td>\n",
              "      <td>68%</td>\n",
              "      <td>['Alfred Werker', '(live action)', 'Hamilton L...</td>\n",
              "      <td>Walt Disney</td>\n",
              "      <td>NaN</td>\n",
              "      <td>['Robert Benchley', 'Frances Gifford', 'Buddy ...</td>\n",
              "      <td>['Frank Churchill', 'Larry Morey']</td>\n",
              "      <td>RKO Radio Pictures</td>\n",
              "      <td>Bert Giennon</td>\n",
              "      <td>Paul Weatherwax</td>\n",
              "      <td>NaN</td>\n",
              "    </tr>\n",
              "    <tr>\n",
              "      <th>...</th>\n",
              "      <td>...</td>\n",
              "      <td>...</td>\n",
              "      <td>...</td>\n",
              "      <td>...</td>\n",
              "      <td>...</td>\n",
              "      <td>...</td>\n",
              "      <td>...</td>\n",
              "      <td>...</td>\n",
              "      <td>...</td>\n",
              "      <td>...</td>\n",
              "      <td>...</td>\n",
              "      <td>...</td>\n",
              "      <td>...</td>\n",
              "      <td>...</td>\n",
              "      <td>...</td>\n",
              "      <td>...</td>\n",
              "      <td>...</td>\n",
              "      <td>...</td>\n",
              "      <td>...</td>\n",
              "      <td>...</td>\n",
              "      <td>...</td>\n",
              "    </tr>\n",
              "    <tr>\n",
              "      <th>439</th>\n",
              "      <td>439</td>\n",
              "      <td>The Little Mermaid</td>\n",
              "      <td>['Walt Disney Pictures', 'Lucamar Productions'...</td>\n",
              "      <td>United States</td>\n",
              "      <td>English</td>\n",
              "      <td>NaN</td>\n",
              "      <td>NaN</td>\n",
              "      <td>NaN</td>\n",
              "      <td>NaN</td>\n",
              "      <td>7.6</td>\n",
              "      <td>88.0</td>\n",
              "      <td>93%</td>\n",
              "      <td>Rob Marshall</td>\n",
              "      <td>['Rob Marshall', 'John DeLuca', 'Marc Platt', ...</td>\n",
              "      <td>['Disney', \"'s\", 'The Little Mermaid', 'by', '...</td>\n",
              "      <td>['Halle Bailey', 'Jonah Hauer-King', 'Daveed D...</td>\n",
              "      <td>['Alan Menken (score and songs)', 'Howard Ashm...</td>\n",
              "      <td>['Walt Disney Studios', 'Motion Pictures']</td>\n",
              "      <td>Dion Beebe</td>\n",
              "      <td>Wyatt Smith</td>\n",
              "      <td>['Jane Goldman', 'David Magee']</td>\n",
              "    </tr>\n",
              "    <tr>\n",
              "      <th>440</th>\n",
              "      <td>440</td>\n",
              "      <td>Peter Pan &amp; Wendy</td>\n",
              "      <td>['Walt Disney Pictures', 'Whitaker Entertainme...</td>\n",
              "      <td>United States</td>\n",
              "      <td>English</td>\n",
              "      <td>NaN</td>\n",
              "      <td>NaN</td>\n",
              "      <td>NaN</td>\n",
              "      <td>NaN</td>\n",
              "      <td>NaN</td>\n",
              "      <td>NaN</td>\n",
              "      <td>NaN</td>\n",
              "      <td>David Lowery</td>\n",
              "      <td>['Jim Whitaker', 'Joe Roth']</td>\n",
              "      <td>[\"Disney 's Peter Pan\", 'Peter and Wendy by J....</td>\n",
              "      <td>['Alexander Molony', 'Ever Anderson', 'Jude La...</td>\n",
              "      <td>NaN</td>\n",
              "      <td>Walt Disney Studios Motion Pictures</td>\n",
              "      <td>Bojan Bazelli</td>\n",
              "      <td>NaN</td>\n",
              "      <td>['David Lowery', 'Toby Halbrooks']</td>\n",
              "    </tr>\n",
              "    <tr>\n",
              "      <th>441</th>\n",
              "      <td>441</td>\n",
              "      <td>Home Alone</td>\n",
              "      <td>['20th Century Studios', 'Hutch Parker Enterta...</td>\n",
              "      <td>United States</td>\n",
              "      <td>English</td>\n",
              "      <td>NaN</td>\n",
              "      <td>NaN</td>\n",
              "      <td>NaN</td>\n",
              "      <td>NaN</td>\n",
              "      <td>7.6</td>\n",
              "      <td>63.0</td>\n",
              "      <td>66%</td>\n",
              "      <td>Dan Mazer</td>\n",
              "      <td>['Hutch Parker', 'Dan Wilson']</td>\n",
              "      <td>['Home Alone', 'by', 'John Hughes']</td>\n",
              "      <td>['Archie Yates', 'Rob Delaney', 'Ellie Kemper'...</td>\n",
              "      <td>John Debney</td>\n",
              "      <td>Disney+</td>\n",
              "      <td>Mitchell Amundsen</td>\n",
              "      <td>NaN</td>\n",
              "      <td>['Mikey Day', 'Streeter Seidell']</td>\n",
              "    </tr>\n",
              "    <tr>\n",
              "      <th>442</th>\n",
              "      <td>442</td>\n",
              "      <td>Shrunk</td>\n",
              "      <td>['Walt Disney Pictures', 'Mandeville Films']</td>\n",
              "      <td>United States</td>\n",
              "      <td>English</td>\n",
              "      <td>NaN</td>\n",
              "      <td>NaN</td>\n",
              "      <td>NaN</td>\n",
              "      <td>NaN</td>\n",
              "      <td>NaN</td>\n",
              "      <td>NaN</td>\n",
              "      <td>NaN</td>\n",
              "      <td>Joe Johnston</td>\n",
              "      <td>['David Hoberman', 'Todd Lieberman']</td>\n",
              "      <td>['Characters', 'by', 'Stuart Gordon', ',', 'Br...</td>\n",
              "      <td>['Josh Gad', 'Rick Moranis']</td>\n",
              "      <td>NaN</td>\n",
              "      <td>['Walt Disney Studios', 'Motion Pictures']</td>\n",
              "      <td>NaN</td>\n",
              "      <td>NaN</td>\n",
              "      <td>Todd Rosenberg</td>\n",
              "    </tr>\n",
              "    <tr>\n",
              "      <th>443</th>\n",
              "      <td>443</td>\n",
              "      <td>Night at the Museum</td>\n",
              "      <td>['21 Laps Entertainment', 'Ingenious Film Part...</td>\n",
              "      <td>United States</td>\n",
              "      <td>English</td>\n",
              "      <td>306.0</td>\n",
              "      <td>387000000.0</td>\n",
              "      <td>1.310000e+09</td>\n",
              "      <td>NaN</td>\n",
              "      <td>6.4</td>\n",
              "      <td>48.0</td>\n",
              "      <td>43%</td>\n",
              "      <td>Shawn Levy</td>\n",
              "      <td>['Shawn Levy', 'Chris Columbus', 'Michael Barn...</td>\n",
              "      <td>['The Night at the Museum', 'by', 'Milan Trenc']</td>\n",
              "      <td>['Ben Stiller', 'Robin Williams', 'Owen Wilson...</td>\n",
              "      <td>Alan Silvestri</td>\n",
              "      <td>['20th Century Studios', 'Disney+']</td>\n",
              "      <td>NaN</td>\n",
              "      <td>NaN</td>\n",
              "      <td>NaN</td>\n",
              "    </tr>\n",
              "  </tbody>\n",
              "</table>\n",
              "<p>444 rows × 21 columns</p>\n",
              "</div>"
            ],
            "text/plain": [
              "     Unnamed: 0  ...                       Screenplay by\n",
              "0             0  ...                                 NaN\n",
              "1             1  ...                                 NaN\n",
              "2             2  ...                                 NaN\n",
              "3             3  ...                                 NaN\n",
              "4             4  ...                                 NaN\n",
              "..          ...  ...                                 ...\n",
              "439         439  ...     ['Jane Goldman', 'David Magee']\n",
              "440         440  ...  ['David Lowery', 'Toby Halbrooks']\n",
              "441         441  ...   ['Mikey Day', 'Streeter Seidell']\n",
              "442         442  ...                      Todd Rosenberg\n",
              "443         443  ...                                 NaN\n",
              "\n",
              "[444 rows x 21 columns]"
            ]
          },
          "metadata": {},
          "execution_count": 59
        }
      ]
    },
    {
      "cell_type": "code",
      "metadata": {
        "id": "DJgueUoO3m3F",
        "colab": {
          "base_uri": "https://localhost:8080/",
          "height": 591
        },
        "outputId": "37598f02-f041-48cc-fc74-e971a70f0b4e"
      },
      "source": [
        "data.head() \n",
        "# Fungsi head() digunakan untuk mendapatkan n baris pertama. Ini berguna untuk menguji dengan cepat apakah objek Anda- \n",
        "# memiliki tipe data yang tepat di dalamnya. Untuk nilai negatif n , fungsi head() mengembalikan semua baris kecuali \n",
        "# n baris terakhir, setara dengan df[:-n]."
      ],
      "execution_count": 60,
      "outputs": [
        {
          "output_type": "execute_result",
          "data": {
            "text/html": [
              "<div>\n",
              "<style scoped>\n",
              "    .dataframe tbody tr th:only-of-type {\n",
              "        vertical-align: middle;\n",
              "    }\n",
              "\n",
              "    .dataframe tbody tr th {\n",
              "        vertical-align: top;\n",
              "    }\n",
              "\n",
              "    .dataframe thead th {\n",
              "        text-align: right;\n",
              "    }\n",
              "</style>\n",
              "<table border=\"1\" class=\"dataframe\">\n",
              "  <thead>\n",
              "    <tr style=\"text-align: right;\">\n",
              "      <th></th>\n",
              "      <th>Unnamed: 0</th>\n",
              "      <th>title</th>\n",
              "      <th>Production company</th>\n",
              "      <th>Country</th>\n",
              "      <th>Language</th>\n",
              "      <th>Running time</th>\n",
              "      <th>Budget</th>\n",
              "      <th>Box office</th>\n",
              "      <th>Release date</th>\n",
              "      <th>imdb</th>\n",
              "      <th>metascore</th>\n",
              "      <th>rotten_tomatoes</th>\n",
              "      <th>Directed by</th>\n",
              "      <th>Produced by</th>\n",
              "      <th>Based on</th>\n",
              "      <th>Starring</th>\n",
              "      <th>Music by</th>\n",
              "      <th>Distributed by</th>\n",
              "      <th>Cinematography</th>\n",
              "      <th>Edited by</th>\n",
              "      <th>Screenplay by</th>\n",
              "    </tr>\n",
              "  </thead>\n",
              "  <tbody>\n",
              "    <tr>\n",
              "      <th>0</th>\n",
              "      <td>0</td>\n",
              "      <td>Academy Award Review of</td>\n",
              "      <td>Walt Disney Productions</td>\n",
              "      <td>United States</td>\n",
              "      <td>English</td>\n",
              "      <td>41.0</td>\n",
              "      <td>NaN</td>\n",
              "      <td>4.547200e+01</td>\n",
              "      <td>1937-05-19</td>\n",
              "      <td>7.2</td>\n",
              "      <td>NaN</td>\n",
              "      <td>NaN</td>\n",
              "      <td>NaN</td>\n",
              "      <td>NaN</td>\n",
              "      <td>NaN</td>\n",
              "      <td>NaN</td>\n",
              "      <td>NaN</td>\n",
              "      <td>NaN</td>\n",
              "      <td>NaN</td>\n",
              "      <td>NaN</td>\n",
              "      <td>NaN</td>\n",
              "    </tr>\n",
              "    <tr>\n",
              "      <th>1</th>\n",
              "      <td>1</td>\n",
              "      <td>Snow White and the Seven Dwarfs</td>\n",
              "      <td>Walt Disney Productions</td>\n",
              "      <td>United States</td>\n",
              "      <td>English</td>\n",
              "      <td>83.0</td>\n",
              "      <td>1490000.0</td>\n",
              "      <td>4.180000e+08</td>\n",
              "      <td>1937-12-21</td>\n",
              "      <td>7.6</td>\n",
              "      <td>95.0</td>\n",
              "      <td>NaN</td>\n",
              "      <td>['David Hand (supervising)', 'William Cottrell...</td>\n",
              "      <td>Walt Disney</td>\n",
              "      <td>['Snow White', 'by The', 'Brothers Grimm']</td>\n",
              "      <td>['Adriana Caselotti', 'Lucille La Verne', 'Har...</td>\n",
              "      <td>['Frank Churchill', 'Paul Smith', 'Leigh Harli...</td>\n",
              "      <td>RKO Radio Pictures</td>\n",
              "      <td>NaN</td>\n",
              "      <td>NaN</td>\n",
              "      <td>NaN</td>\n",
              "    </tr>\n",
              "    <tr>\n",
              "      <th>2</th>\n",
              "      <td>2</td>\n",
              "      <td>Pinocchio</td>\n",
              "      <td>Walt Disney Productions</td>\n",
              "      <td>United States</td>\n",
              "      <td>English</td>\n",
              "      <td>88.0</td>\n",
              "      <td>2600000.0</td>\n",
              "      <td>1.640000e+08</td>\n",
              "      <td>1940-02-07</td>\n",
              "      <td>7.4</td>\n",
              "      <td>99.0</td>\n",
              "      <td>73%</td>\n",
              "      <td>['Ben Sharpsteen', 'Hamilton Luske', 'Bill Rob...</td>\n",
              "      <td>Walt Disney</td>\n",
              "      <td>['The Adventures of Pinocchio', 'by', 'Carlo C...</td>\n",
              "      <td>['Cliff Edwards', 'Dickie Jones', 'Christian R...</td>\n",
              "      <td>['Leigh Harline', 'Paul J. Smith']</td>\n",
              "      <td>RKO Radio Pictures</td>\n",
              "      <td>NaN</td>\n",
              "      <td>NaN</td>\n",
              "      <td>NaN</td>\n",
              "    </tr>\n",
              "    <tr>\n",
              "      <th>3</th>\n",
              "      <td>3</td>\n",
              "      <td>Fantasia</td>\n",
              "      <td>Walt Disney Productions</td>\n",
              "      <td>United States</td>\n",
              "      <td>English</td>\n",
              "      <td>126.0</td>\n",
              "      <td>2280000.0</td>\n",
              "      <td>8.330000e+07</td>\n",
              "      <td>1940-11-13</td>\n",
              "      <td>7.7</td>\n",
              "      <td>96.0</td>\n",
              "      <td>95%</td>\n",
              "      <td>['Samuel Armstrong', 'James Algar', 'Bill Robe...</td>\n",
              "      <td>['Walt Disney', 'Ben Sharpsteen']</td>\n",
              "      <td>NaN</td>\n",
              "      <td>['Leopold Stokowski', 'Deems Taylor']</td>\n",
              "      <td>See program</td>\n",
              "      <td>RKO Radio Pictures</td>\n",
              "      <td>James Wong Howe</td>\n",
              "      <td>NaN</td>\n",
              "      <td>NaN</td>\n",
              "    </tr>\n",
              "    <tr>\n",
              "      <th>4</th>\n",
              "      <td>4</td>\n",
              "      <td>The Reluctant Dragon</td>\n",
              "      <td>Walt Disney Productions</td>\n",
              "      <td>United States</td>\n",
              "      <td>English</td>\n",
              "      <td>74.0</td>\n",
              "      <td>600000.0</td>\n",
              "      <td>9.600000e+05</td>\n",
              "      <td>1941-06-20</td>\n",
              "      <td>6.9</td>\n",
              "      <td>NaN</td>\n",
              "      <td>68%</td>\n",
              "      <td>['Alfred Werker', '(live action)', 'Hamilton L...</td>\n",
              "      <td>Walt Disney</td>\n",
              "      <td>NaN</td>\n",
              "      <td>['Robert Benchley', 'Frances Gifford', 'Buddy ...</td>\n",
              "      <td>['Frank Churchill', 'Larry Morey']</td>\n",
              "      <td>RKO Radio Pictures</td>\n",
              "      <td>Bert Giennon</td>\n",
              "      <td>Paul Weatherwax</td>\n",
              "      <td>NaN</td>\n",
              "    </tr>\n",
              "  </tbody>\n",
              "</table>\n",
              "</div>"
            ],
            "text/plain": [
              "   Unnamed: 0                            title  ...        Edited by Screenplay by\n",
              "0           0          Academy Award Review of  ...              NaN           NaN\n",
              "1           1  Snow White and the Seven Dwarfs  ...              NaN           NaN\n",
              "2           2                        Pinocchio  ...              NaN           NaN\n",
              "3           3                         Fantasia  ...              NaN           NaN\n",
              "4           4             The Reluctant Dragon  ...  Paul Weatherwax           NaN\n",
              "\n",
              "[5 rows x 21 columns]"
            ]
          },
          "metadata": {},
          "execution_count": 60
        }
      ]
    },
    {
      "cell_type": "code",
      "metadata": {
        "id": "Pjzz2bA93s5z",
        "colab": {
          "base_uri": "https://localhost:8080/",
          "height": 643
        },
        "outputId": "deda7d92-6741-4ce7-b8ce-a700275f3b5f"
      },
      "source": [
        "data.tail()\n",
        "# Fungsi ini mengembalikan n baris terakhir dari objek berdasarkan posisi. Ini berguna untuk \n",
        "# memverifikasi data dengan cepat, misalnya, setelah menyortir atau menambahkan baris."
      ],
      "execution_count": 61,
      "outputs": [
        {
          "output_type": "execute_result",
          "data": {
            "text/html": [
              "<div>\n",
              "<style scoped>\n",
              "    .dataframe tbody tr th:only-of-type {\n",
              "        vertical-align: middle;\n",
              "    }\n",
              "\n",
              "    .dataframe tbody tr th {\n",
              "        vertical-align: top;\n",
              "    }\n",
              "\n",
              "    .dataframe thead th {\n",
              "        text-align: right;\n",
              "    }\n",
              "</style>\n",
              "<table border=\"1\" class=\"dataframe\">\n",
              "  <thead>\n",
              "    <tr style=\"text-align: right;\">\n",
              "      <th></th>\n",
              "      <th>Unnamed: 0</th>\n",
              "      <th>title</th>\n",
              "      <th>Production company</th>\n",
              "      <th>Country</th>\n",
              "      <th>Language</th>\n",
              "      <th>Running time</th>\n",
              "      <th>Budget</th>\n",
              "      <th>Box office</th>\n",
              "      <th>Release date</th>\n",
              "      <th>imdb</th>\n",
              "      <th>metascore</th>\n",
              "      <th>rotten_tomatoes</th>\n",
              "      <th>Directed by</th>\n",
              "      <th>Produced by</th>\n",
              "      <th>Based on</th>\n",
              "      <th>Starring</th>\n",
              "      <th>Music by</th>\n",
              "      <th>Distributed by</th>\n",
              "      <th>Cinematography</th>\n",
              "      <th>Edited by</th>\n",
              "      <th>Screenplay by</th>\n",
              "    </tr>\n",
              "  </thead>\n",
              "  <tbody>\n",
              "    <tr>\n",
              "      <th>439</th>\n",
              "      <td>439</td>\n",
              "      <td>The Little Mermaid</td>\n",
              "      <td>['Walt Disney Pictures', 'Lucamar Productions'...</td>\n",
              "      <td>United States</td>\n",
              "      <td>English</td>\n",
              "      <td>NaN</td>\n",
              "      <td>NaN</td>\n",
              "      <td>NaN</td>\n",
              "      <td>NaN</td>\n",
              "      <td>7.6</td>\n",
              "      <td>88.0</td>\n",
              "      <td>93%</td>\n",
              "      <td>Rob Marshall</td>\n",
              "      <td>['Rob Marshall', 'John DeLuca', 'Marc Platt', ...</td>\n",
              "      <td>['Disney', \"'s\", 'The Little Mermaid', 'by', '...</td>\n",
              "      <td>['Halle Bailey', 'Jonah Hauer-King', 'Daveed D...</td>\n",
              "      <td>['Alan Menken (score and songs)', 'Howard Ashm...</td>\n",
              "      <td>['Walt Disney Studios', 'Motion Pictures']</td>\n",
              "      <td>Dion Beebe</td>\n",
              "      <td>Wyatt Smith</td>\n",
              "      <td>['Jane Goldman', 'David Magee']</td>\n",
              "    </tr>\n",
              "    <tr>\n",
              "      <th>440</th>\n",
              "      <td>440</td>\n",
              "      <td>Peter Pan &amp; Wendy</td>\n",
              "      <td>['Walt Disney Pictures', 'Whitaker Entertainme...</td>\n",
              "      <td>United States</td>\n",
              "      <td>English</td>\n",
              "      <td>NaN</td>\n",
              "      <td>NaN</td>\n",
              "      <td>NaN</td>\n",
              "      <td>NaN</td>\n",
              "      <td>NaN</td>\n",
              "      <td>NaN</td>\n",
              "      <td>NaN</td>\n",
              "      <td>David Lowery</td>\n",
              "      <td>['Jim Whitaker', 'Joe Roth']</td>\n",
              "      <td>[\"Disney 's Peter Pan\", 'Peter and Wendy by J....</td>\n",
              "      <td>['Alexander Molony', 'Ever Anderson', 'Jude La...</td>\n",
              "      <td>NaN</td>\n",
              "      <td>Walt Disney Studios Motion Pictures</td>\n",
              "      <td>Bojan Bazelli</td>\n",
              "      <td>NaN</td>\n",
              "      <td>['David Lowery', 'Toby Halbrooks']</td>\n",
              "    </tr>\n",
              "    <tr>\n",
              "      <th>441</th>\n",
              "      <td>441</td>\n",
              "      <td>Home Alone</td>\n",
              "      <td>['20th Century Studios', 'Hutch Parker Enterta...</td>\n",
              "      <td>United States</td>\n",
              "      <td>English</td>\n",
              "      <td>NaN</td>\n",
              "      <td>NaN</td>\n",
              "      <td>NaN</td>\n",
              "      <td>NaN</td>\n",
              "      <td>7.6</td>\n",
              "      <td>63.0</td>\n",
              "      <td>66%</td>\n",
              "      <td>Dan Mazer</td>\n",
              "      <td>['Hutch Parker', 'Dan Wilson']</td>\n",
              "      <td>['Home Alone', 'by', 'John Hughes']</td>\n",
              "      <td>['Archie Yates', 'Rob Delaney', 'Ellie Kemper'...</td>\n",
              "      <td>John Debney</td>\n",
              "      <td>Disney+</td>\n",
              "      <td>Mitchell Amundsen</td>\n",
              "      <td>NaN</td>\n",
              "      <td>['Mikey Day', 'Streeter Seidell']</td>\n",
              "    </tr>\n",
              "    <tr>\n",
              "      <th>442</th>\n",
              "      <td>442</td>\n",
              "      <td>Shrunk</td>\n",
              "      <td>['Walt Disney Pictures', 'Mandeville Films']</td>\n",
              "      <td>United States</td>\n",
              "      <td>English</td>\n",
              "      <td>NaN</td>\n",
              "      <td>NaN</td>\n",
              "      <td>NaN</td>\n",
              "      <td>NaN</td>\n",
              "      <td>NaN</td>\n",
              "      <td>NaN</td>\n",
              "      <td>NaN</td>\n",
              "      <td>Joe Johnston</td>\n",
              "      <td>['David Hoberman', 'Todd Lieberman']</td>\n",
              "      <td>['Characters', 'by', 'Stuart Gordon', ',', 'Br...</td>\n",
              "      <td>['Josh Gad', 'Rick Moranis']</td>\n",
              "      <td>NaN</td>\n",
              "      <td>['Walt Disney Studios', 'Motion Pictures']</td>\n",
              "      <td>NaN</td>\n",
              "      <td>NaN</td>\n",
              "      <td>Todd Rosenberg</td>\n",
              "    </tr>\n",
              "    <tr>\n",
              "      <th>443</th>\n",
              "      <td>443</td>\n",
              "      <td>Night at the Museum</td>\n",
              "      <td>['21 Laps Entertainment', 'Ingenious Film Part...</td>\n",
              "      <td>United States</td>\n",
              "      <td>English</td>\n",
              "      <td>306.0</td>\n",
              "      <td>387000000.0</td>\n",
              "      <td>1.310000e+09</td>\n",
              "      <td>NaN</td>\n",
              "      <td>6.4</td>\n",
              "      <td>48.0</td>\n",
              "      <td>43%</td>\n",
              "      <td>Shawn Levy</td>\n",
              "      <td>['Shawn Levy', 'Chris Columbus', 'Michael Barn...</td>\n",
              "      <td>['The Night at the Museum', 'by', 'Milan Trenc']</td>\n",
              "      <td>['Ben Stiller', 'Robin Williams', 'Owen Wilson...</td>\n",
              "      <td>Alan Silvestri</td>\n",
              "      <td>['20th Century Studios', 'Disney+']</td>\n",
              "      <td>NaN</td>\n",
              "      <td>NaN</td>\n",
              "      <td>NaN</td>\n",
              "    </tr>\n",
              "  </tbody>\n",
              "</table>\n",
              "</div>"
            ],
            "text/plain": [
              "     Unnamed: 0  ...                       Screenplay by\n",
              "439         439  ...     ['Jane Goldman', 'David Magee']\n",
              "440         440  ...  ['David Lowery', 'Toby Halbrooks']\n",
              "441         441  ...   ['Mikey Day', 'Streeter Seidell']\n",
              "442         442  ...                      Todd Rosenberg\n",
              "443         443  ...                                 NaN\n",
              "\n",
              "[5 rows x 21 columns]"
            ]
          },
          "metadata": {},
          "execution_count": 61
        }
      ]
    },
    {
      "cell_type": "code",
      "metadata": {
        "id": "FmwqvYNQ3vzC",
        "colab": {
          "base_uri": "https://localhost:8080/"
        },
        "outputId": "caa94692-a860-4a9f-9bbc-72a83f6ee9c8"
      },
      "source": [
        "data.columns"
      ],
      "execution_count": 62,
      "outputs": [
        {
          "output_type": "execute_result",
          "data": {
            "text/plain": [
              "Index(['Unnamed: 0', 'title', 'Production company', 'Country', 'Language',\n",
              "       'Running time', 'Budget', 'Box office', 'Release date', 'imdb',\n",
              "       'metascore', 'rotten_tomatoes', 'Directed by', 'Produced by',\n",
              "       'Based on', 'Starring', 'Music by', 'Distributed by', 'Cinematography',\n",
              "       'Edited by', 'Screenplay by'],\n",
              "      dtype='object')"
            ]
          },
          "metadata": {},
          "execution_count": 62
        }
      ]
    },
    {
      "cell_type": "code",
      "metadata": {
        "id": "IzZR09J13z3K",
        "colab": {
          "base_uri": "https://localhost:8080/"
        },
        "outputId": "df33a5f2-4739-44ef-f4b5-271a35da1e31"
      },
      "source": [
        "data.describe"
      ],
      "execution_count": 63,
      "outputs": [
        {
          "output_type": "execute_result",
          "data": {
            "text/plain": [
              "<bound method NDFrame.describe of      Unnamed: 0  ...                       Screenplay by\n",
              "0             0  ...                                 NaN\n",
              "1             1  ...                                 NaN\n",
              "2             2  ...                                 NaN\n",
              "3             3  ...                                 NaN\n",
              "4             4  ...                                 NaN\n",
              "..          ...  ...                                 ...\n",
              "439         439  ...     ['Jane Goldman', 'David Magee']\n",
              "440         440  ...  ['David Lowery', 'Toby Halbrooks']\n",
              "441         441  ...   ['Mikey Day', 'Streeter Seidell']\n",
              "442         442  ...                      Todd Rosenberg\n",
              "443         443  ...                                 NaN\n",
              "\n",
              "[444 rows x 21 columns]>"
            ]
          },
          "metadata": {},
          "execution_count": 63
        }
      ]
    },
    {
      "cell_type": "code",
      "metadata": {
        "id": "UpbGkx7hNapb",
        "colab": {
          "base_uri": "https://localhost:8080/"
        },
        "outputId": "7e8e44c2-9c3b-435f-bc7b-6b366f1ad853"
      },
      "source": [
        "data.dtypes"
      ],
      "execution_count": 64,
      "outputs": [
        {
          "output_type": "execute_result",
          "data": {
            "text/plain": [
              "Unnamed: 0              int64\n",
              "title                  object\n",
              "Production company     object\n",
              "Country                object\n",
              "Language               object\n",
              "Running time          float64\n",
              "Budget                float64\n",
              "Box office            float64\n",
              "Release date           object\n",
              "imdb                  float64\n",
              "metascore             float64\n",
              "rotten_tomatoes        object\n",
              "Directed by            object\n",
              "Produced by            object\n",
              "Based on               object\n",
              "Starring               object\n",
              "Music by               object\n",
              "Distributed by         object\n",
              "Cinematography         object\n",
              "Edited by              object\n",
              "Screenplay by          object\n",
              "dtype: object"
            ]
          },
          "metadata": {},
          "execution_count": 64
        }
      ]
    },
    {
      "cell_type": "markdown",
      "metadata": {
        "id": "49xyI43eN1Xp"
      },
      "source": [
        "**boleh dicoba untuk analisis data di atas yaaa....**"
      ]
    },
    {
      "cell_type": "code",
      "metadata": {
        "id": "t5sLLC7VOJcX",
        "colab": {
          "base_uri": "https://localhost:8080/",
          "height": 300
        },
        "outputId": "e1b39e33-34e8-48d4-db38-1ee0e722dc8f"
      },
      "source": [
        "# MENGANALISIS DATA MULAI DARI SINI\n",
        "\n",
        "data.describe()  # menampilkan statistik data"
      ],
      "execution_count": 65,
      "outputs": [
        {
          "output_type": "execute_result",
          "data": {
            "text/html": [
              "<div>\n",
              "<style scoped>\n",
              "    .dataframe tbody tr th:only-of-type {\n",
              "        vertical-align: middle;\n",
              "    }\n",
              "\n",
              "    .dataframe tbody tr th {\n",
              "        vertical-align: top;\n",
              "    }\n",
              "\n",
              "    .dataframe thead th {\n",
              "        text-align: right;\n",
              "    }\n",
              "</style>\n",
              "<table border=\"1\" class=\"dataframe\">\n",
              "  <thead>\n",
              "    <tr style=\"text-align: right;\">\n",
              "      <th></th>\n",
              "      <th>Unnamed: 0</th>\n",
              "      <th>Running time</th>\n",
              "      <th>Budget</th>\n",
              "      <th>Box office</th>\n",
              "      <th>imdb</th>\n",
              "      <th>metascore</th>\n",
              "    </tr>\n",
              "  </thead>\n",
              "  <tbody>\n",
              "    <tr>\n",
              "      <th>count</th>\n",
              "      <td>444.000000</td>\n",
              "      <td>430.000000</td>\n",
              "      <td>2.780000e+02</td>\n",
              "      <td>3.580000e+02</td>\n",
              "      <td>424.000000</td>\n",
              "      <td>293.000000</td>\n",
              "    </tr>\n",
              "    <tr>\n",
              "      <th>mean</th>\n",
              "      <td>221.500000</td>\n",
              "      <td>98.076744</td>\n",
              "      <td>5.638595e+07</td>\n",
              "      <td>1.702417e+08</td>\n",
              "      <td>6.566274</td>\n",
              "      <td>61.860068</td>\n",
              "    </tr>\n",
              "    <tr>\n",
              "      <th>std</th>\n",
              "      <td>128.316016</td>\n",
              "      <td>21.418924</td>\n",
              "      <td>7.111427e+07</td>\n",
              "      <td>2.803541e+08</td>\n",
              "      <td>0.965122</td>\n",
              "      <td>16.756236</td>\n",
              "    </tr>\n",
              "    <tr>\n",
              "      <th>min</th>\n",
              "      <td>0.000000</td>\n",
              "      <td>40.000000</td>\n",
              "      <td>4.400000e+00</td>\n",
              "      <td>7.700000e+00</td>\n",
              "      <td>1.500000</td>\n",
              "      <td>18.000000</td>\n",
              "    </tr>\n",
              "    <tr>\n",
              "      <th>25%</th>\n",
              "      <td>110.750000</td>\n",
              "      <td>86.250000</td>\n",
              "      <td>6.000000e+06</td>\n",
              "      <td>1.042500e+07</td>\n",
              "      <td>6.100000</td>\n",
              "      <td>49.000000</td>\n",
              "    </tr>\n",
              "    <tr>\n",
              "      <th>50%</th>\n",
              "      <td>221.500000</td>\n",
              "      <td>96.000000</td>\n",
              "      <td>2.500000e+07</td>\n",
              "      <td>4.470000e+07</td>\n",
              "      <td>6.600000</td>\n",
              "      <td>61.000000</td>\n",
              "    </tr>\n",
              "    <tr>\n",
              "      <th>75%</th>\n",
              "      <td>332.250000</td>\n",
              "      <td>107.000000</td>\n",
              "      <td>8.500000e+07</td>\n",
              "      <td>1.867750e+08</td>\n",
              "      <td>7.200000</td>\n",
              "      <td>74.000000</td>\n",
              "    </tr>\n",
              "    <tr>\n",
              "      <th>max</th>\n",
              "      <td>443.000000</td>\n",
              "      <td>306.000000</td>\n",
              "      <td>4.106000e+08</td>\n",
              "      <td>1.657000e+09</td>\n",
              "      <td>8.600000</td>\n",
              "      <td>99.000000</td>\n",
              "    </tr>\n",
              "  </tbody>\n",
              "</table>\n",
              "</div>"
            ],
            "text/plain": [
              "       Unnamed: 0  Running time  ...        imdb   metascore\n",
              "count  444.000000    430.000000  ...  424.000000  293.000000\n",
              "mean   221.500000     98.076744  ...    6.566274   61.860068\n",
              "std    128.316016     21.418924  ...    0.965122   16.756236\n",
              "min      0.000000     40.000000  ...    1.500000   18.000000\n",
              "25%    110.750000     86.250000  ...    6.100000   49.000000\n",
              "50%    221.500000     96.000000  ...    6.600000   61.000000\n",
              "75%    332.250000    107.000000  ...    7.200000   74.000000\n",
              "max    443.000000    306.000000  ...    8.600000   99.000000\n",
              "\n",
              "[8 rows x 6 columns]"
            ]
          },
          "metadata": {},
          "execution_count": 65
        }
      ]
    },
    {
      "cell_type": "code",
      "metadata": {
        "colab": {
          "base_uri": "https://localhost:8080/",
          "height": 1000
        },
        "id": "3DR4N4FE8NOs",
        "outputId": "31f87104-7a90-42db-ae0a-bb87c61348fa"
      },
      "source": [
        "data.sort_values(by='Budget') # mengurutkan kolom Budget dari nilai terkecil ke terbesar"
      ],
      "execution_count": 72,
      "outputs": [
        {
          "output_type": "execute_result",
          "data": {
            "text/html": [
              "<div>\n",
              "<style scoped>\n",
              "    .dataframe tbody tr th:only-of-type {\n",
              "        vertical-align: middle;\n",
              "    }\n",
              "\n",
              "    .dataframe tbody tr th {\n",
              "        vertical-align: top;\n",
              "    }\n",
              "\n",
              "    .dataframe thead th {\n",
              "        text-align: right;\n",
              "    }\n",
              "</style>\n",
              "<table border=\"1\" class=\"dataframe\">\n",
              "  <thead>\n",
              "    <tr style=\"text-align: right;\">\n",
              "      <th></th>\n",
              "      <th>Unnamed: 0</th>\n",
              "      <th>title</th>\n",
              "      <th>Production company</th>\n",
              "      <th>Country</th>\n",
              "      <th>Language</th>\n",
              "      <th>Running time</th>\n",
              "      <th>Budget</th>\n",
              "      <th>Box office</th>\n",
              "      <th>Release date</th>\n",
              "      <th>imdb</th>\n",
              "      <th>metascore</th>\n",
              "      <th>rotten_tomatoes</th>\n",
              "      <th>Directed by</th>\n",
              "      <th>Produced by</th>\n",
              "      <th>Based on</th>\n",
              "      <th>Starring</th>\n",
              "      <th>Music by</th>\n",
              "      <th>Distributed by</th>\n",
              "      <th>Cinematography</th>\n",
              "      <th>Edited by</th>\n",
              "      <th>Screenplay by</th>\n",
              "    </tr>\n",
              "  </thead>\n",
              "  <tbody>\n",
              "    <tr>\n",
              "      <th>72</th>\n",
              "      <td>72</td>\n",
              "      <td>Mary Poppins</td>\n",
              "      <td>Walt Disney Productions</td>\n",
              "      <td>United States</td>\n",
              "      <td>English</td>\n",
              "      <td>139.0</td>\n",
              "      <td>4.4</td>\n",
              "      <td>103100000.0</td>\n",
              "      <td>1964-08-27</td>\n",
              "      <td>7.8</td>\n",
              "      <td>88.0</td>\n",
              "      <td>100%</td>\n",
              "      <td>Robert Stevenson</td>\n",
              "      <td>Walt Disney</td>\n",
              "      <td>['Mary Poppins', 'by', 'P. L. Travers']</td>\n",
              "      <td>['Julie Andrews', 'Dick Van Dyke', 'David Toml...</td>\n",
              "      <td>['Richard M. Sherman', 'Robert B. Sherman']</td>\n",
              "      <td>Buena Vista Distribution</td>\n",
              "      <td>Edward Colman</td>\n",
              "      <td>Cotton Warburton</td>\n",
              "      <td>['Bill Walsh', 'Don DaGradi']</td>\n",
              "    </tr>\n",
              "    <tr>\n",
              "      <th>379</th>\n",
              "      <td>379</td>\n",
              "      <td>Monkey Kingdom</td>\n",
              "      <td>['Disneynature', 'Silverback Films']</td>\n",
              "      <td>United States</td>\n",
              "      <td>English</td>\n",
              "      <td>82.0</td>\n",
              "      <td>5.0</td>\n",
              "      <td>17100000.0</td>\n",
              "      <td>2015-04-17</td>\n",
              "      <td>7.3</td>\n",
              "      <td>72.0</td>\n",
              "      <td>93%</td>\n",
              "      <td>['Mark Linfield', 'Alastair Fothergill']</td>\n",
              "      <td>['Mark Linfield', 'Alastair Fothergill']</td>\n",
              "      <td>NaN</td>\n",
              "      <td>NaN</td>\n",
              "      <td>Harry Gregson-Williams</td>\n",
              "      <td>Walt Disney Studios Motion Pictures</td>\n",
              "      <td>['Martyn Colbeck', 'Gavin Thurston']</td>\n",
              "      <td>Andy Netley</td>\n",
              "      <td>NaN</td>\n",
              "    </tr>\n",
              "    <tr>\n",
              "      <th>397</th>\n",
              "      <td>397</td>\n",
              "      <td>Born in China</td>\n",
              "      <td>['Disneynature', 'Shanghai Media Group', 'Chua...</td>\n",
              "      <td>['United States', 'China', 'France']</td>\n",
              "      <td>['English', 'Mandarin', 'French']</td>\n",
              "      <td>76.0</td>\n",
              "      <td>5.0</td>\n",
              "      <td>25100000.0</td>\n",
              "      <td>2016-08-12</td>\n",
              "      <td>7.2</td>\n",
              "      <td>57.0</td>\n",
              "      <td>85%</td>\n",
              "      <td>Lu Chuan</td>\n",
              "      <td>['Roy Conli', 'Brian Leith', 'Phil Chapman']</td>\n",
              "      <td>NaN</td>\n",
              "      <td>NaN</td>\n",
              "      <td>Barnaby Taylor</td>\n",
              "      <td>['Walt Disney Studios Motion Pictures', 'Shang...</td>\n",
              "      <td>NaN</td>\n",
              "      <td>Matthew Meech</td>\n",
              "      <td>['David Fowler', 'Brian Leith', 'Phil Chapman'...</td>\n",
              "    </tr>\n",
              "    <tr>\n",
              "      <th>254</th>\n",
              "      <td>254</td>\n",
              "      <td>Spirited Away</td>\n",
              "      <td>Studio Ghibli</td>\n",
              "      <td>Japan</td>\n",
              "      <td>Japanese</td>\n",
              "      <td>125.0</td>\n",
              "      <td>15.0</td>\n",
              "      <td>NaN</td>\n",
              "      <td>2001-07-20</td>\n",
              "      <td>8.6</td>\n",
              "      <td>96.0</td>\n",
              "      <td>97%</td>\n",
              "      <td>Hayao Miyazaki</td>\n",
              "      <td>Toshio Suzuki</td>\n",
              "      <td>NaN</td>\n",
              "      <td>['Rumi Hiiragi', 'Miyu Irino', 'Mari Natsuki',...</td>\n",
              "      <td>Joe Hisaishi</td>\n",
              "      <td>Toho</td>\n",
              "      <td>Atsushi Okui</td>\n",
              "      <td>Takeshi Seyama</td>\n",
              "      <td>NaN</td>\n",
              "    </tr>\n",
              "    <tr>\n",
              "      <th>300</th>\n",
              "      <td>300</td>\n",
              "      <td>Bridge to Terabithia</td>\n",
              "      <td>NaN</td>\n",
              "      <td>United States</td>\n",
              "      <td>English</td>\n",
              "      <td>95.0</td>\n",
              "      <td>20.0</td>\n",
              "      <td>138000000.0</td>\n",
              "      <td>2007-02-16</td>\n",
              "      <td>7.1</td>\n",
              "      <td>74.0</td>\n",
              "      <td>85%</td>\n",
              "      <td>Gábor Csupó</td>\n",
              "      <td>['David L. Paterson', 'Lauren Levine', 'Hal Li...</td>\n",
              "      <td>['Bridge to Terabithia', 'by', 'Katherine Pate...</td>\n",
              "      <td>['Josh Hutcherson', 'AnnaSophia Robb', 'Bailee...</td>\n",
              "      <td>Aaron Zigman</td>\n",
              "      <td>['Buena Vista Pictures Distribution', '(United...</td>\n",
              "      <td>Michael Chapman</td>\n",
              "      <td>John Gilbert</td>\n",
              "      <td>['David L. Paterson', 'Jeff Stockwell']</td>\n",
              "    </tr>\n",
              "    <tr>\n",
              "      <th>...</th>\n",
              "      <td>...</td>\n",
              "      <td>...</td>\n",
              "      <td>...</td>\n",
              "      <td>...</td>\n",
              "      <td>...</td>\n",
              "      <td>...</td>\n",
              "      <td>...</td>\n",
              "      <td>...</td>\n",
              "      <td>...</td>\n",
              "      <td>...</td>\n",
              "      <td>...</td>\n",
              "      <td>...</td>\n",
              "      <td>...</td>\n",
              "      <td>...</td>\n",
              "      <td>...</td>\n",
              "      <td>...</td>\n",
              "      <td>...</td>\n",
              "      <td>...</td>\n",
              "      <td>...</td>\n",
              "      <td>...</td>\n",
              "      <td>...</td>\n",
              "    </tr>\n",
              "    <tr>\n",
              "      <th>438</th>\n",
              "      <td>438</td>\n",
              "      <td>Encanto</td>\n",
              "      <td>['Walt Disney Pictures', 'Walt Disney Animatio...</td>\n",
              "      <td>United States</td>\n",
              "      <td>English</td>\n",
              "      <td>NaN</td>\n",
              "      <td>NaN</td>\n",
              "      <td>NaN</td>\n",
              "      <td>2021-11-24</td>\n",
              "      <td>NaN</td>\n",
              "      <td>NaN</td>\n",
              "      <td>NaN</td>\n",
              "      <td>['Byron Howard', 'Jared Bush']</td>\n",
              "      <td>['Clark Spencer', 'Yvett Merino Flores']</td>\n",
              "      <td>NaN</td>\n",
              "      <td>NaN</td>\n",
              "      <td>Lin-Manuel Miranda</td>\n",
              "      <td>['Walt Disney Studios', 'Motion Pictures']</td>\n",
              "      <td>NaN</td>\n",
              "      <td>NaN</td>\n",
              "      <td>NaN</td>\n",
              "    </tr>\n",
              "    <tr>\n",
              "      <th>439</th>\n",
              "      <td>439</td>\n",
              "      <td>The Little Mermaid</td>\n",
              "      <td>['Walt Disney Pictures', 'Lucamar Productions'...</td>\n",
              "      <td>United States</td>\n",
              "      <td>English</td>\n",
              "      <td>NaN</td>\n",
              "      <td>NaN</td>\n",
              "      <td>NaN</td>\n",
              "      <td>NaN</td>\n",
              "      <td>7.6</td>\n",
              "      <td>88.0</td>\n",
              "      <td>93%</td>\n",
              "      <td>Rob Marshall</td>\n",
              "      <td>['Rob Marshall', 'John DeLuca', 'Marc Platt', ...</td>\n",
              "      <td>['Disney', \"'s\", 'The Little Mermaid', 'by', '...</td>\n",
              "      <td>['Halle Bailey', 'Jonah Hauer-King', 'Daveed D...</td>\n",
              "      <td>['Alan Menken (score and songs)', 'Howard Ashm...</td>\n",
              "      <td>['Walt Disney Studios', 'Motion Pictures']</td>\n",
              "      <td>Dion Beebe</td>\n",
              "      <td>Wyatt Smith</td>\n",
              "      <td>['Jane Goldman', 'David Magee']</td>\n",
              "    </tr>\n",
              "    <tr>\n",
              "      <th>440</th>\n",
              "      <td>440</td>\n",
              "      <td>Peter Pan &amp; Wendy</td>\n",
              "      <td>['Walt Disney Pictures', 'Whitaker Entertainme...</td>\n",
              "      <td>United States</td>\n",
              "      <td>English</td>\n",
              "      <td>NaN</td>\n",
              "      <td>NaN</td>\n",
              "      <td>NaN</td>\n",
              "      <td>NaN</td>\n",
              "      <td>NaN</td>\n",
              "      <td>NaN</td>\n",
              "      <td>NaN</td>\n",
              "      <td>David Lowery</td>\n",
              "      <td>['Jim Whitaker', 'Joe Roth']</td>\n",
              "      <td>[\"Disney 's Peter Pan\", 'Peter and Wendy by J....</td>\n",
              "      <td>['Alexander Molony', 'Ever Anderson', 'Jude La...</td>\n",
              "      <td>NaN</td>\n",
              "      <td>Walt Disney Studios Motion Pictures</td>\n",
              "      <td>Bojan Bazelli</td>\n",
              "      <td>NaN</td>\n",
              "      <td>['David Lowery', 'Toby Halbrooks']</td>\n",
              "    </tr>\n",
              "    <tr>\n",
              "      <th>441</th>\n",
              "      <td>441</td>\n",
              "      <td>Home Alone</td>\n",
              "      <td>['20th Century Studios', 'Hutch Parker Enterta...</td>\n",
              "      <td>United States</td>\n",
              "      <td>English</td>\n",
              "      <td>NaN</td>\n",
              "      <td>NaN</td>\n",
              "      <td>NaN</td>\n",
              "      <td>NaN</td>\n",
              "      <td>7.6</td>\n",
              "      <td>63.0</td>\n",
              "      <td>66%</td>\n",
              "      <td>Dan Mazer</td>\n",
              "      <td>['Hutch Parker', 'Dan Wilson']</td>\n",
              "      <td>['Home Alone', 'by', 'John Hughes']</td>\n",
              "      <td>['Archie Yates', 'Rob Delaney', 'Ellie Kemper'...</td>\n",
              "      <td>John Debney</td>\n",
              "      <td>Disney+</td>\n",
              "      <td>Mitchell Amundsen</td>\n",
              "      <td>NaN</td>\n",
              "      <td>['Mikey Day', 'Streeter Seidell']</td>\n",
              "    </tr>\n",
              "    <tr>\n",
              "      <th>442</th>\n",
              "      <td>442</td>\n",
              "      <td>Shrunk</td>\n",
              "      <td>['Walt Disney Pictures', 'Mandeville Films']</td>\n",
              "      <td>United States</td>\n",
              "      <td>English</td>\n",
              "      <td>NaN</td>\n",
              "      <td>NaN</td>\n",
              "      <td>NaN</td>\n",
              "      <td>NaN</td>\n",
              "      <td>NaN</td>\n",
              "      <td>NaN</td>\n",
              "      <td>NaN</td>\n",
              "      <td>Joe Johnston</td>\n",
              "      <td>['David Hoberman', 'Todd Lieberman']</td>\n",
              "      <td>['Characters', 'by', 'Stuart Gordon', ',', 'Br...</td>\n",
              "      <td>['Josh Gad', 'Rick Moranis']</td>\n",
              "      <td>NaN</td>\n",
              "      <td>['Walt Disney Studios', 'Motion Pictures']</td>\n",
              "      <td>NaN</td>\n",
              "      <td>NaN</td>\n",
              "      <td>Todd Rosenberg</td>\n",
              "    </tr>\n",
              "  </tbody>\n",
              "</table>\n",
              "<p>444 rows × 21 columns</p>\n",
              "</div>"
            ],
            "text/plain": [
              "     Unnamed: 0  ...                                      Screenplay by\n",
              "72           72  ...                      ['Bill Walsh', 'Don DaGradi']\n",
              "379         379  ...                                                NaN\n",
              "397         397  ...  ['David Fowler', 'Brian Leith', 'Phil Chapman'...\n",
              "254         254  ...                                                NaN\n",
              "300         300  ...            ['David L. Paterson', 'Jeff Stockwell']\n",
              "..          ...  ...                                                ...\n",
              "438         438  ...                                                NaN\n",
              "439         439  ...                    ['Jane Goldman', 'David Magee']\n",
              "440         440  ...                 ['David Lowery', 'Toby Halbrooks']\n",
              "441         441  ...                  ['Mikey Day', 'Streeter Seidell']\n",
              "442         442  ...                                     Todd Rosenberg\n",
              "\n",
              "[444 rows x 21 columns]"
            ]
          },
          "metadata": {},
          "execution_count": 72
        }
      ]
    },
    {
      "cell_type": "code",
      "metadata": {
        "colab": {
          "base_uri": "https://localhost:8080/"
        },
        "id": "trtJKbCn-iIg",
        "outputId": "04175cc2-c6a6-4574-9213-5232bf2c0c49"
      },
      "source": [
        "data.info() # untuk mengetahui info "
      ],
      "execution_count": 74,
      "outputs": [
        {
          "output_type": "stream",
          "name": "stdout",
          "text": [
            "<class 'pandas.core.frame.DataFrame'>\n",
            "RangeIndex: 444 entries, 0 to 443\n",
            "Data columns (total 21 columns):\n",
            " #   Column              Non-Null Count  Dtype  \n",
            "---  ------              --------------  -----  \n",
            " 0   Unnamed: 0          444 non-null    int64  \n",
            " 1   title               444 non-null    object \n",
            " 2   Production company  399 non-null    object \n",
            " 3   Country             441 non-null    object \n",
            " 4   Language            443 non-null    object \n",
            " 5   Running time        430 non-null    float64\n",
            " 6   Budget              278 non-null    float64\n",
            " 7   Box office          358 non-null    float64\n",
            " 8   Release date        435 non-null    object \n",
            " 9   imdb                424 non-null    float64\n",
            " 10  metascore           293 non-null    float64\n",
            " 11  rotten_tomatoes     391 non-null    object \n",
            " 12  Directed by         443 non-null    object \n",
            " 13  Produced by         435 non-null    object \n",
            " 14  Based on            221 non-null    object \n",
            " 15  Starring            409 non-null    object \n",
            " 16  Music by            433 non-null    object \n",
            " 17  Distributed by      441 non-null    object \n",
            " 18  Cinematography      352 non-null    object \n",
            " 19  Edited by           404 non-null    object \n",
            " 20  Screenplay by       204 non-null    object \n",
            "dtypes: float64(5), int64(1), object(15)\n",
            "memory usage: 73.0+ KB\n"
          ]
        }
      ]
    },
    {
      "cell_type": "code",
      "metadata": {
        "colab": {
          "base_uri": "https://localhost:8080/"
        },
        "id": "Ev7OAwNi-x8c",
        "outputId": "bc08cffb-15cc-4c46-bd96-fa5fe9123554"
      },
      "source": [
        "data.count() # hanya menghitung jumlah elemen selain NA / None"
      ],
      "execution_count": 75,
      "outputs": [
        {
          "output_type": "execute_result",
          "data": {
            "text/plain": [
              "Unnamed: 0            444\n",
              "title                 444\n",
              "Production company    399\n",
              "Country               441\n",
              "Language              443\n",
              "Running time          430\n",
              "Budget                278\n",
              "Box office            358\n",
              "Release date          435\n",
              "imdb                  424\n",
              "metascore             293\n",
              "rotten_tomatoes       391\n",
              "Directed by           443\n",
              "Produced by           435\n",
              "Based on              221\n",
              "Starring              409\n",
              "Music by              433\n",
              "Distributed by        441\n",
              "Cinematography        352\n",
              "Edited by             404\n",
              "Screenplay by         204\n",
              "dtype: int64"
            ]
          },
          "metadata": {},
          "execution_count": 75
        }
      ]
    },
    {
      "cell_type": "markdown",
      "metadata": {
        "id": "FMyTbIM9ENxc"
      },
      "source": [
        "##ThankYou"
      ]
    }
  ]
}
