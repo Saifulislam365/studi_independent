{
  "nbformat": 4,
  "nbformat_minor": 0,
  "metadata": {
    "colab": {
      "name": "Latihan-18_Klasifikasi-Data-Penyakit-Diabetes.ipynb",
      "provenance": [],
      "include_colab_link": true
    },
    "kernelspec": {
      "name": "python3",
      "display_name": "Python 3"
    },
    "language_info": {
      "name": "python"
    }
  },
  "cells": [
    {
      "cell_type": "markdown",
      "metadata": {
        "id": "view-in-github",
        "colab_type": "text"
      },
      "source": [
        "<a href=\"https://colab.research.google.com/github/Saifulislam365/studi_independent/blob/main/Latihan_18_Klasifikasi_Data_Penyakit_Diabetes.ipynb\" target=\"_parent\"><img src=\"https://colab.research.google.com/assets/colab-badge.svg\" alt=\"Open In Colab\"/></a>"
      ]
    },
    {
      "cell_type": "markdown",
      "metadata": {
        "id": "mof6l9QG9frq"
      },
      "source": [
        "Kamis, 30 Sept 2021"
      ]
    },
    {
      "cell_type": "markdown",
      "metadata": {
        "id": "xBm5KJkJ0Cmz"
      },
      "source": [
        "## Import Library"
      ]
    },
    {
      "cell_type": "code",
      "metadata": {
        "id": "4_uulZNCxeHx"
      },
      "source": [
        "import pandas as pd #mengimport library pandas dan akan dipanggil sebagai pd\n",
        "import numpy as np #mengimport library numpy dan akan dipanggil sebagai np"
      ],
      "execution_count": null,
      "outputs": []
    },
    {
      "cell_type": "markdown",
      "metadata": {
        "id": "U2wndl2_0NgK"
      },
      "source": [
        "## Import Data Set"
      ]
    },
    {
      "cell_type": "code",
      "metadata": {
        "colab": {
          "base_uri": "https://localhost:8080/"
        },
        "id": "5BztGpWwPLK0",
        "outputId": "1ee66a36-2d76-40ee-8dae-d76196342d6f"
      },
      "source": [
        "!wget -O diabetes_latih.csv https://raw.githubusercontent.com/prissyyy/Studi-Independen/main/Data_Set/diabetes_latih.csv"
      ],
      "execution_count": null,
      "outputs": [
        {
          "output_type": "stream",
          "name": "stdout",
          "text": [
            "--2021-09-30 04:24:46--  https://raw.githubusercontent.com/prissyyy/Studi-Independen/main/Data_Set/diabetes_latih.csv\n",
            "Resolving raw.githubusercontent.com (raw.githubusercontent.com)... 185.199.108.133, 185.199.109.133, 185.199.110.133, ...\n",
            "Connecting to raw.githubusercontent.com (raw.githubusercontent.com)|185.199.108.133|:443... connected.\n",
            "HTTP request sent, awaiting response... 200 OK\n",
            "Length: 18518 (18K) [text/plain]\n",
            "Saving to: ‘diabetes_latih.csv’\n",
            "\n",
            "\rdiabetes_latih.csv    0%[                    ]       0  --.-KB/s               \rdiabetes_latih.csv  100%[===================>]  18.08K  --.-KB/s    in 0s      \n",
            "\n",
            "2021-09-30 04:24:46 (71.2 MB/s) - ‘diabetes_latih.csv’ saved [18518/18518]\n",
            "\n"
          ]
        }
      ]
    },
    {
      "cell_type": "code",
      "metadata": {
        "colab": {
          "base_uri": "https://localhost:8080/"
        },
        "id": "2krHqeyXQi0I",
        "outputId": "714d24b8-f703-46bb-c750-598a04fc0090"
      },
      "source": [
        "!wget -O diabetes_uji.csv https://raw.githubusercontent.com/prissyyy/Studi-Independen/main/Data_Set/diabetes_uji.csv"
      ],
      "execution_count": null,
      "outputs": [
        {
          "output_type": "stream",
          "name": "stdout",
          "text": [
            "--2021-09-30 04:25:42--  https://raw.githubusercontent.com/prissyyy/Studi-Independen/main/Data_Set/diabetes_uji.csv\n",
            "Resolving raw.githubusercontent.com (raw.githubusercontent.com)... 185.199.108.133, 185.199.109.133, 185.199.110.133, ...\n",
            "Connecting to raw.githubusercontent.com (raw.githubusercontent.com)|185.199.108.133|:443... connected.\n",
            "HTTP request sent, awaiting response... 200 OK\n",
            "Length: 4685 (4.6K) [text/plain]\n",
            "Saving to: ‘diabetes_uji.csv’\n",
            "\n",
            "\rdiabetes_uji.csv      0%[                    ]       0  --.-KB/s               \rdiabetes_uji.csv    100%[===================>]   4.58K  --.-KB/s    in 0s      \n",
            "\n",
            "2021-09-30 04:25:42 (34.3 MB/s) - ‘diabetes_uji.csv’ saved [4685/4685]\n",
            "\n"
          ]
        }
      ]
    },
    {
      "cell_type": "markdown",
      "metadata": {
        "id": "l1tcS7OW26ST"
      },
      "source": [
        "## Membuat Data Training & Testing"
      ]
    },
    {
      "cell_type": "code",
      "metadata": {
        "id": "XkWjKYwLPPvl"
      },
      "source": [
        "df = pd.read_csv('diabetes_latih.csv')\n",
        "\n",
        "X_train = df.values\n",
        "X_train = np.delete(X_train,8, axis=1)\n",
        "\n",
        "y_train = df['Outcome'].values\n",
        "\n",
        "df = pd.read_csv('diabetes_uji.csv')\n",
        "\n",
        "X_test = df.values\n",
        "X_test = np.delete(X_test,8,axis=1)\n",
        "\n",
        "y_test = df['Outcome'].values"
      ],
      "execution_count": null,
      "outputs": []
    },
    {
      "cell_type": "code",
      "metadata": {
        "id": "dkYfQIEwRKMO"
      },
      "source": [
        "from sklearn.preprocessing import MinMaxScaler\n",
        "X_train = MinMaxScaler().fit_transform(X_train)\n",
        "X_test = MinMaxScaler().fit_transform(X_test)"
      ],
      "execution_count": null,
      "outputs": []
    },
    {
      "cell_type": "markdown",
      "metadata": {
        "id": "rdD8fCTq37js"
      },
      "source": [
        "## Model Text Description"
      ]
    },
    {
      "cell_type": "code",
      "metadata": {
        "id": "Sc5NDhONRbHJ"
      },
      "source": [
        "from keras.models import Sequential\n",
        "from keras.layers import Dense\n",
        "\n",
        "model = Sequential()\n",
        "\n",
        "model.add(Dense(12, activation='relu', input_shape=(8,)))\n",
        "\n",
        "model.add(Dense(8, activation='relu'))\n",
        "model.add(Dense(8, activation='relu'))\n",
        "\n",
        "model.add(Dense(1, activation='sigmoid'))\n",
        "\n",
        "model.compile(loss='binary_crossentropy', optimizer='adam', metrics=['accuracy'])"
      ],
      "execution_count": null,
      "outputs": []
    },
    {
      "cell_type": "code",
      "metadata": {
        "colab": {
          "base_uri": "https://localhost:8080/"
        },
        "id": "7zvk9lhyRgm7",
        "outputId": "b6934c9c-368a-4f7f-c990-084d2c6ad6d6"
      },
      "source": [
        "model.summary()"
      ],
      "execution_count": null,
      "outputs": [
        {
          "output_type": "stream",
          "name": "stdout",
          "text": [
            "Model: \"sequential_1\"\n",
            "_________________________________________________________________\n",
            "Layer (type)                 Output Shape              Param #   \n",
            "=================================================================\n",
            "dense_4 (Dense)              (None, 12)                108       \n",
            "_________________________________________________________________\n",
            "dense_5 (Dense)              (None, 8)                 104       \n",
            "_________________________________________________________________\n",
            "dense_6 (Dense)              (None, 8)                 72        \n",
            "_________________________________________________________________\n",
            "dense_7 (Dense)              (None, 1)                 9         \n",
            "=================================================================\n",
            "Total params: 293\n",
            "Trainable params: 293\n",
            "Non-trainable params: 0\n",
            "_________________________________________________________________\n"
          ]
        }
      ]
    },
    {
      "cell_type": "code",
      "metadata": {
        "colab": {
          "base_uri": "https://localhost:8080/",
          "height": 206
        },
        "id": "FG0HcFPRRiWV",
        "outputId": "48b8a17a-9aed-46f8-cd68-178b1a569e4a"
      },
      "source": [
        "df.head() #Memunculkan 5 data teratas\n"
      ],
      "execution_count": null,
      "outputs": [
        {
          "output_type": "execute_result",
          "data": {
            "text/html": [
              "<div>\n",
              "<style scoped>\n",
              "    .dataframe tbody tr th:only-of-type {\n",
              "        vertical-align: middle;\n",
              "    }\n",
              "\n",
              "    .dataframe tbody tr th {\n",
              "        vertical-align: top;\n",
              "    }\n",
              "\n",
              "    .dataframe thead th {\n",
              "        text-align: right;\n",
              "    }\n",
              "</style>\n",
              "<table border=\"1\" class=\"dataframe\">\n",
              "  <thead>\n",
              "    <tr style=\"text-align: right;\">\n",
              "      <th></th>\n",
              "      <th>Pregnancies</th>\n",
              "      <th>Glucose</th>\n",
              "      <th>BloodPressure</th>\n",
              "      <th>SkinThickness</th>\n",
              "      <th>Insulin</th>\n",
              "      <th>BMI</th>\n",
              "      <th>DiabetesPedigreeFunction</th>\n",
              "      <th>Age</th>\n",
              "      <th>Outcome</th>\n",
              "    </tr>\n",
              "  </thead>\n",
              "  <tbody>\n",
              "    <tr>\n",
              "      <th>0</th>\n",
              "      <td>6</td>\n",
              "      <td>148</td>\n",
              "      <td>72</td>\n",
              "      <td>35</td>\n",
              "      <td>0</td>\n",
              "      <td>33.6</td>\n",
              "      <td>0.627</td>\n",
              "      <td>50</td>\n",
              "      <td>1</td>\n",
              "    </tr>\n",
              "    <tr>\n",
              "      <th>1</th>\n",
              "      <td>1</td>\n",
              "      <td>85</td>\n",
              "      <td>66</td>\n",
              "      <td>29</td>\n",
              "      <td>0</td>\n",
              "      <td>26.6</td>\n",
              "      <td>0.351</td>\n",
              "      <td>31</td>\n",
              "      <td>0</td>\n",
              "    </tr>\n",
              "    <tr>\n",
              "      <th>2</th>\n",
              "      <td>8</td>\n",
              "      <td>183</td>\n",
              "      <td>64</td>\n",
              "      <td>0</td>\n",
              "      <td>0</td>\n",
              "      <td>23.3</td>\n",
              "      <td>0.672</td>\n",
              "      <td>32</td>\n",
              "      <td>1</td>\n",
              "    </tr>\n",
              "    <tr>\n",
              "      <th>3</th>\n",
              "      <td>1</td>\n",
              "      <td>89</td>\n",
              "      <td>66</td>\n",
              "      <td>23</td>\n",
              "      <td>94</td>\n",
              "      <td>28.1</td>\n",
              "      <td>0.167</td>\n",
              "      <td>21</td>\n",
              "      <td>0</td>\n",
              "    </tr>\n",
              "    <tr>\n",
              "      <th>4</th>\n",
              "      <td>0</td>\n",
              "      <td>137</td>\n",
              "      <td>40</td>\n",
              "      <td>35</td>\n",
              "      <td>168</td>\n",
              "      <td>43.1</td>\n",
              "      <td>2.288</td>\n",
              "      <td>33</td>\n",
              "      <td>1</td>\n",
              "    </tr>\n",
              "  </tbody>\n",
              "</table>\n",
              "</div>"
            ],
            "text/plain": [
              "   Pregnancies  Glucose  BloodPressure  ...  DiabetesPedigreeFunction  Age  Outcome\n",
              "0            6      148             72  ...                     0.627   50        1\n",
              "1            1       85             66  ...                     0.351   31        0\n",
              "2            8      183             64  ...                     0.672   32        1\n",
              "3            1       89             66  ...                     0.167   21        0\n",
              "4            0      137             40  ...                     2.288   33        1\n",
              "\n",
              "[5 rows x 9 columns]"
            ]
          },
          "metadata": {},
          "execution_count": 21
        }
      ]
    },
    {
      "cell_type": "markdown",
      "metadata": {
        "id": "-FXEu1g54QlY"
      },
      "source": [
        "## Memprediksi Model"
      ]
    },
    {
      "cell_type": "code",
      "metadata": {
        "colab": {
          "base_uri": "https://localhost:8080/"
        },
        "id": "YtVcZGu8RqUz",
        "outputId": "54d33869-156b-4adf-86d2-65b739a13acc"
      },
      "source": [
        "model.fit(X_train, y_train, epochs=200, verbose=1, batch_size=20)\n",
        "\n",
        "y_pred = model.predict(X_test)\n",
        "y_pred = y_pred >= 0.13"
      ],
      "execution_count": null,
      "outputs": [
        {
          "output_type": "stream",
          "name": "stdout",
          "text": [
            "Epoch 1/200\n",
            "31/31 [==============================] - 0s 1ms/step - loss: 0.7069 - accuracy: 0.3746\n",
            "Epoch 2/200\n",
            "31/31 [==============================] - 0s 1ms/step - loss: 0.6814 - accuracy: 0.6547\n",
            "Epoch 3/200\n",
            "31/31 [==============================] - 0s 1ms/step - loss: 0.6582 - accuracy: 0.6547\n",
            "Epoch 4/200\n",
            "31/31 [==============================] - 0s 1ms/step - loss: 0.6438 - accuracy: 0.6531\n",
            "Epoch 5/200\n",
            "31/31 [==============================] - 0s 1ms/step - loss: 0.6353 - accuracy: 0.6531\n",
            "Epoch 6/200\n",
            "31/31 [==============================] - 0s 1ms/step - loss: 0.6286 - accuracy: 0.6531\n",
            "Epoch 7/200\n",
            "31/31 [==============================] - 0s 1ms/step - loss: 0.6218 - accuracy: 0.6564\n",
            "Epoch 8/200\n",
            "31/31 [==============================] - 0s 1ms/step - loss: 0.6149 - accuracy: 0.6629\n",
            "Epoch 9/200\n",
            "31/31 [==============================] - 0s 1ms/step - loss: 0.6077 - accuracy: 0.6922\n",
            "Epoch 10/200\n",
            "31/31 [==============================] - 0s 1ms/step - loss: 0.5980 - accuracy: 0.7036\n",
            "Epoch 11/200\n",
            "31/31 [==============================] - 0s 1ms/step - loss: 0.5891 - accuracy: 0.6873\n",
            "Epoch 12/200\n",
            "31/31 [==============================] - 0s 2ms/step - loss: 0.5816 - accuracy: 0.6987\n",
            "Epoch 13/200\n",
            "31/31 [==============================] - 0s 1ms/step - loss: 0.5680 - accuracy: 0.7134\n",
            "Epoch 14/200\n",
            "31/31 [==============================] - 0s 1ms/step - loss: 0.5587 - accuracy: 0.7248\n",
            "Epoch 15/200\n",
            "31/31 [==============================] - 0s 1ms/step - loss: 0.5490 - accuracy: 0.7329\n",
            "Epoch 16/200\n",
            "31/31 [==============================] - 0s 1ms/step - loss: 0.5402 - accuracy: 0.7345\n",
            "Epoch 17/200\n",
            "31/31 [==============================] - 0s 1ms/step - loss: 0.5295 - accuracy: 0.7606\n",
            "Epoch 18/200\n",
            "31/31 [==============================] - 0s 1ms/step - loss: 0.5204 - accuracy: 0.7638\n",
            "Epoch 19/200\n",
            "31/31 [==============================] - 0s 1ms/step - loss: 0.4997 - accuracy: 0.7834\n",
            "Epoch 20/200\n",
            "31/31 [==============================] - 0s 1ms/step - loss: 0.5012 - accuracy: 0.7655\n",
            "Epoch 21/200\n",
            "31/31 [==============================] - 0s 1ms/step - loss: 0.4875 - accuracy: 0.7801\n",
            "Epoch 22/200\n",
            "31/31 [==============================] - 0s 1ms/step - loss: 0.4873 - accuracy: 0.7720\n",
            "Epoch 23/200\n",
            "31/31 [==============================] - 0s 1ms/step - loss: 0.4812 - accuracy: 0.7948\n",
            "Epoch 24/200\n",
            "31/31 [==============================] - 0s 1ms/step - loss: 0.4734 - accuracy: 0.7915\n",
            "Epoch 25/200\n",
            "31/31 [==============================] - 0s 1ms/step - loss: 0.4713 - accuracy: 0.7834\n",
            "Epoch 26/200\n",
            "31/31 [==============================] - 0s 1ms/step - loss: 0.4684 - accuracy: 0.7834\n",
            "Epoch 27/200\n",
            "31/31 [==============================] - 0s 1ms/step - loss: 0.4637 - accuracy: 0.7834\n",
            "Epoch 28/200\n",
            "31/31 [==============================] - 0s 1ms/step - loss: 0.4736 - accuracy: 0.7801\n",
            "Epoch 29/200\n",
            "31/31 [==============================] - 0s 1ms/step - loss: 0.4642 - accuracy: 0.7883\n",
            "Epoch 30/200\n",
            "31/31 [==============================] - 0s 1ms/step - loss: 0.4609 - accuracy: 0.7720\n",
            "Epoch 31/200\n",
            "31/31 [==============================] - 0s 1ms/step - loss: 0.4610 - accuracy: 0.7883\n",
            "Epoch 32/200\n",
            "31/31 [==============================] - 0s 1ms/step - loss: 0.4569 - accuracy: 0.7915\n",
            "Epoch 33/200\n",
            "31/31 [==============================] - 0s 1ms/step - loss: 0.4573 - accuracy: 0.7834\n",
            "Epoch 34/200\n",
            "31/31 [==============================] - 0s 1ms/step - loss: 0.4600 - accuracy: 0.7883\n",
            "Epoch 35/200\n",
            "31/31 [==============================] - 0s 1ms/step - loss: 0.4521 - accuracy: 0.7818\n",
            "Epoch 36/200\n",
            "31/31 [==============================] - 0s 1ms/step - loss: 0.4496 - accuracy: 0.7866\n",
            "Epoch 37/200\n",
            "31/31 [==============================] - 0s 1ms/step - loss: 0.4503 - accuracy: 0.7980\n",
            "Epoch 38/200\n",
            "31/31 [==============================] - 0s 1ms/step - loss: 0.4491 - accuracy: 0.7915\n",
            "Epoch 39/200\n",
            "31/31 [==============================] - 0s 1ms/step - loss: 0.4482 - accuracy: 0.7899\n",
            "Epoch 40/200\n",
            "31/31 [==============================] - 0s 1ms/step - loss: 0.4454 - accuracy: 0.7899\n",
            "Epoch 41/200\n",
            "31/31 [==============================] - 0s 1ms/step - loss: 0.4448 - accuracy: 0.7850\n",
            "Epoch 42/200\n",
            "31/31 [==============================] - 0s 1ms/step - loss: 0.4506 - accuracy: 0.7899\n",
            "Epoch 43/200\n",
            "31/31 [==============================] - 0s 1ms/step - loss: 0.4516 - accuracy: 0.7866\n",
            "Epoch 44/200\n",
            "31/31 [==============================] - 0s 1ms/step - loss: 0.4440 - accuracy: 0.7997\n",
            "Epoch 45/200\n",
            "31/31 [==============================] - 0s 1ms/step - loss: 0.4415 - accuracy: 0.7850\n",
            "Epoch 46/200\n",
            "31/31 [==============================] - 0s 1ms/step - loss: 0.4416 - accuracy: 0.7866\n",
            "Epoch 47/200\n",
            "31/31 [==============================] - 0s 1ms/step - loss: 0.4497 - accuracy: 0.7850\n",
            "Epoch 48/200\n",
            "31/31 [==============================] - 0s 1ms/step - loss: 0.4476 - accuracy: 0.7964\n",
            "Epoch 49/200\n",
            "31/31 [==============================] - 0s 1ms/step - loss: 0.4427 - accuracy: 0.7883\n",
            "Epoch 50/200\n",
            "31/31 [==============================] - 0s 1ms/step - loss: 0.4405 - accuracy: 0.7850\n",
            "Epoch 51/200\n",
            "31/31 [==============================] - 0s 1ms/step - loss: 0.4395 - accuracy: 0.7883\n",
            "Epoch 52/200\n",
            "31/31 [==============================] - 0s 1ms/step - loss: 0.4391 - accuracy: 0.7883\n",
            "Epoch 53/200\n",
            "31/31 [==============================] - 0s 1ms/step - loss: 0.4404 - accuracy: 0.7899\n",
            "Epoch 54/200\n",
            "31/31 [==============================] - 0s 1ms/step - loss: 0.4378 - accuracy: 0.7883\n",
            "Epoch 55/200\n",
            "31/31 [==============================] - 0s 2ms/step - loss: 0.4428 - accuracy: 0.7915\n",
            "Epoch 56/200\n",
            "31/31 [==============================] - 0s 1ms/step - loss: 0.4383 - accuracy: 0.7915\n",
            "Epoch 57/200\n",
            "31/31 [==============================] - 0s 1ms/step - loss: 0.4373 - accuracy: 0.7980\n",
            "Epoch 58/200\n",
            "31/31 [==============================] - 0s 1ms/step - loss: 0.4352 - accuracy: 0.7866\n",
            "Epoch 59/200\n",
            "31/31 [==============================] - 0s 1ms/step - loss: 0.4391 - accuracy: 0.7964\n",
            "Epoch 60/200\n",
            "31/31 [==============================] - 0s 1ms/step - loss: 0.4522 - accuracy: 0.7785\n",
            "Epoch 61/200\n",
            "31/31 [==============================] - 0s 1ms/step - loss: 0.4362 - accuracy: 0.7964\n",
            "Epoch 62/200\n",
            "31/31 [==============================] - 0s 1ms/step - loss: 0.4383 - accuracy: 0.7899\n",
            "Epoch 63/200\n",
            "31/31 [==============================] - 0s 2ms/step - loss: 0.4356 - accuracy: 0.7850\n",
            "Epoch 64/200\n",
            "31/31 [==============================] - 0s 1ms/step - loss: 0.4356 - accuracy: 0.7932\n",
            "Epoch 65/200\n",
            "31/31 [==============================] - 0s 2ms/step - loss: 0.4347 - accuracy: 0.7948\n",
            "Epoch 66/200\n",
            "31/31 [==============================] - 0s 2ms/step - loss: 0.4344 - accuracy: 0.7883\n",
            "Epoch 67/200\n",
            "31/31 [==============================] - 0s 1ms/step - loss: 0.4332 - accuracy: 0.8013\n",
            "Epoch 68/200\n",
            "31/31 [==============================] - 0s 1ms/step - loss: 0.4340 - accuracy: 0.7883\n",
            "Epoch 69/200\n",
            "31/31 [==============================] - 0s 2ms/step - loss: 0.4329 - accuracy: 0.7964\n",
            "Epoch 70/200\n",
            "31/31 [==============================] - 0s 2ms/step - loss: 0.4339 - accuracy: 0.7915\n",
            "Epoch 71/200\n",
            "31/31 [==============================] - 0s 1ms/step - loss: 0.4344 - accuracy: 0.7899\n",
            "Epoch 72/200\n",
            "31/31 [==============================] - 0s 1ms/step - loss: 0.4328 - accuracy: 0.7964\n",
            "Epoch 73/200\n",
            "31/31 [==============================] - 0s 1ms/step - loss: 0.4357 - accuracy: 0.7964\n",
            "Epoch 74/200\n",
            "31/31 [==============================] - 0s 1ms/step - loss: 0.4315 - accuracy: 0.8062\n",
            "Epoch 75/200\n",
            "31/31 [==============================] - 0s 1ms/step - loss: 0.4326 - accuracy: 0.7915\n",
            "Epoch 76/200\n",
            "31/31 [==============================] - 0s 1ms/step - loss: 0.4355 - accuracy: 0.7932\n",
            "Epoch 77/200\n",
            "31/31 [==============================] - 0s 1ms/step - loss: 0.4295 - accuracy: 0.7932\n",
            "Epoch 78/200\n",
            "31/31 [==============================] - 0s 1ms/step - loss: 0.4315 - accuracy: 0.7948\n",
            "Epoch 79/200\n",
            "31/31 [==============================] - 0s 1ms/step - loss: 0.4337 - accuracy: 0.7964\n",
            "Epoch 80/200\n",
            "31/31 [==============================] - 0s 1ms/step - loss: 0.4345 - accuracy: 0.7883\n",
            "Epoch 81/200\n",
            "31/31 [==============================] - 0s 1ms/step - loss: 0.4334 - accuracy: 0.7915\n",
            "Epoch 82/200\n",
            "31/31 [==============================] - 0s 1ms/step - loss: 0.4342 - accuracy: 0.7915\n",
            "Epoch 83/200\n",
            "31/31 [==============================] - 0s 1ms/step - loss: 0.4312 - accuracy: 0.7964\n",
            "Epoch 84/200\n",
            "31/31 [==============================] - 0s 1ms/step - loss: 0.4289 - accuracy: 0.7932\n",
            "Epoch 85/200\n",
            "31/31 [==============================] - 0s 2ms/step - loss: 0.4302 - accuracy: 0.7948\n",
            "Epoch 86/200\n",
            "31/31 [==============================] - 0s 1ms/step - loss: 0.4304 - accuracy: 0.7980\n",
            "Epoch 87/200\n",
            "31/31 [==============================] - 0s 1ms/step - loss: 0.4318 - accuracy: 0.7997\n",
            "Epoch 88/200\n",
            "31/31 [==============================] - 0s 1ms/step - loss: 0.4299 - accuracy: 0.7948\n",
            "Epoch 89/200\n",
            "31/31 [==============================] - 0s 1ms/step - loss: 0.4298 - accuracy: 0.7915\n",
            "Epoch 90/200\n",
            "31/31 [==============================] - 0s 1ms/step - loss: 0.4278 - accuracy: 0.7948\n",
            "Epoch 91/200\n",
            "31/31 [==============================] - 0s 1ms/step - loss: 0.4272 - accuracy: 0.7932\n",
            "Epoch 92/200\n",
            "31/31 [==============================] - 0s 1ms/step - loss: 0.4273 - accuracy: 0.7932\n",
            "Epoch 93/200\n",
            "31/31 [==============================] - 0s 1ms/step - loss: 0.4306 - accuracy: 0.7980\n",
            "Epoch 94/200\n",
            "31/31 [==============================] - 0s 1ms/step - loss: 0.4273 - accuracy: 0.7899\n",
            "Epoch 95/200\n",
            "31/31 [==============================] - 0s 1ms/step - loss: 0.4276 - accuracy: 0.8062\n",
            "Epoch 96/200\n",
            "31/31 [==============================] - 0s 1ms/step - loss: 0.4257 - accuracy: 0.7964\n",
            "Epoch 97/200\n",
            "31/31 [==============================] - 0s 1ms/step - loss: 0.4328 - accuracy: 0.7948\n",
            "Epoch 98/200\n",
            "31/31 [==============================] - 0s 1ms/step - loss: 0.4276 - accuracy: 0.8013\n",
            "Epoch 99/200\n",
            "31/31 [==============================] - 0s 1ms/step - loss: 0.4290 - accuracy: 0.7964\n",
            "Epoch 100/200\n",
            "31/31 [==============================] - 0s 2ms/step - loss: 0.4273 - accuracy: 0.8046\n",
            "Epoch 101/200\n",
            "31/31 [==============================] - 0s 2ms/step - loss: 0.4377 - accuracy: 0.7915\n",
            "Epoch 102/200\n",
            "31/31 [==============================] - 0s 1ms/step - loss: 0.4259 - accuracy: 0.7997\n",
            "Epoch 103/200\n",
            "31/31 [==============================] - 0s 1ms/step - loss: 0.4296 - accuracy: 0.7997\n",
            "Epoch 104/200\n",
            "31/31 [==============================] - 0s 2ms/step - loss: 0.4262 - accuracy: 0.7997\n",
            "Epoch 105/200\n",
            "31/31 [==============================] - 0s 1ms/step - loss: 0.4245 - accuracy: 0.8013\n",
            "Epoch 106/200\n",
            "31/31 [==============================] - 0s 1ms/step - loss: 0.4260 - accuracy: 0.7964\n",
            "Epoch 107/200\n",
            "31/31 [==============================] - 0s 2ms/step - loss: 0.4269 - accuracy: 0.7980\n",
            "Epoch 108/200\n",
            "31/31 [==============================] - 0s 2ms/step - loss: 0.4260 - accuracy: 0.7915\n",
            "Epoch 109/200\n",
            "31/31 [==============================] - 0s 1ms/step - loss: 0.4246 - accuracy: 0.7964\n",
            "Epoch 110/200\n",
            "31/31 [==============================] - 0s 1ms/step - loss: 0.4233 - accuracy: 0.8062\n",
            "Epoch 111/200\n",
            "31/31 [==============================] - 0s 1ms/step - loss: 0.4347 - accuracy: 0.7915\n",
            "Epoch 112/200\n",
            "31/31 [==============================] - 0s 1ms/step - loss: 0.4351 - accuracy: 0.7866\n",
            "Epoch 113/200\n",
            "31/31 [==============================] - 0s 1ms/step - loss: 0.4340 - accuracy: 0.8029\n",
            "Epoch 114/200\n",
            "31/31 [==============================] - 0s 1ms/step - loss: 0.4241 - accuracy: 0.8013\n",
            "Epoch 115/200\n",
            "31/31 [==============================] - 0s 2ms/step - loss: 0.4220 - accuracy: 0.8029\n",
            "Epoch 116/200\n",
            "31/31 [==============================] - 0s 1ms/step - loss: 0.4258 - accuracy: 0.8029\n",
            "Epoch 117/200\n",
            "31/31 [==============================] - 0s 1ms/step - loss: 0.4268 - accuracy: 0.8013\n",
            "Epoch 118/200\n",
            "31/31 [==============================] - 0s 1ms/step - loss: 0.4241 - accuracy: 0.8046\n",
            "Epoch 119/200\n",
            "31/31 [==============================] - 0s 1ms/step - loss: 0.4225 - accuracy: 0.7964\n",
            "Epoch 120/200\n",
            "31/31 [==============================] - 0s 1ms/step - loss: 0.4232 - accuracy: 0.7997\n",
            "Epoch 121/200\n",
            "31/31 [==============================] - 0s 1ms/step - loss: 0.4216 - accuracy: 0.8046\n",
            "Epoch 122/200\n",
            "31/31 [==============================] - 0s 1ms/step - loss: 0.4234 - accuracy: 0.8029\n",
            "Epoch 123/200\n",
            "31/31 [==============================] - 0s 1ms/step - loss: 0.4237 - accuracy: 0.7997\n",
            "Epoch 124/200\n",
            "31/31 [==============================] - 0s 1ms/step - loss: 0.4332 - accuracy: 0.7866\n",
            "Epoch 125/200\n",
            "31/31 [==============================] - 0s 1ms/step - loss: 0.4226 - accuracy: 0.8013\n",
            "Epoch 126/200\n",
            "31/31 [==============================] - 0s 1ms/step - loss: 0.4234 - accuracy: 0.8029\n",
            "Epoch 127/200\n",
            "31/31 [==============================] - 0s 1ms/step - loss: 0.4181 - accuracy: 0.8078\n",
            "Epoch 128/200\n",
            "31/31 [==============================] - 0s 1ms/step - loss: 0.4344 - accuracy: 0.8046\n",
            "Epoch 129/200\n",
            "31/31 [==============================] - 0s 1ms/step - loss: 0.4243 - accuracy: 0.8078\n",
            "Epoch 130/200\n",
            "31/31 [==============================] - 0s 1ms/step - loss: 0.4239 - accuracy: 0.7899\n",
            "Epoch 131/200\n",
            "31/31 [==============================] - 0s 1ms/step - loss: 0.4201 - accuracy: 0.8046\n",
            "Epoch 132/200\n",
            "31/31 [==============================] - 0s 1ms/step - loss: 0.4195 - accuracy: 0.8029\n",
            "Epoch 133/200\n",
            "31/31 [==============================] - 0s 2ms/step - loss: 0.4195 - accuracy: 0.7964\n",
            "Epoch 134/200\n",
            "31/31 [==============================] - 0s 1ms/step - loss: 0.4229 - accuracy: 0.8029\n",
            "Epoch 135/200\n",
            "31/31 [==============================] - 0s 1ms/step - loss: 0.4188 - accuracy: 0.7980\n",
            "Epoch 136/200\n",
            "31/31 [==============================] - 0s 1ms/step - loss: 0.4204 - accuracy: 0.8046\n",
            "Epoch 137/200\n",
            "31/31 [==============================] - 0s 1ms/step - loss: 0.4227 - accuracy: 0.8062\n",
            "Epoch 138/200\n",
            "31/31 [==============================] - 0s 1ms/step - loss: 0.4263 - accuracy: 0.8078\n",
            "Epoch 139/200\n",
            "31/31 [==============================] - 0s 1ms/step - loss: 0.4231 - accuracy: 0.7997\n",
            "Epoch 140/200\n",
            "31/31 [==============================] - 0s 1ms/step - loss: 0.4215 - accuracy: 0.8127\n",
            "Epoch 141/200\n",
            "31/31 [==============================] - 0s 1ms/step - loss: 0.4226 - accuracy: 0.7997\n",
            "Epoch 142/200\n",
            "31/31 [==============================] - 0s 1ms/step - loss: 0.4208 - accuracy: 0.8029\n",
            "Epoch 143/200\n",
            "31/31 [==============================] - 0s 1ms/step - loss: 0.4194 - accuracy: 0.8062\n",
            "Epoch 144/200\n",
            "31/31 [==============================] - 0s 2ms/step - loss: 0.4198 - accuracy: 0.7997\n",
            "Epoch 145/200\n",
            "31/31 [==============================] - 0s 1ms/step - loss: 0.4180 - accuracy: 0.8029\n",
            "Epoch 146/200\n",
            "31/31 [==============================] - 0s 1ms/step - loss: 0.4153 - accuracy: 0.8160\n",
            "Epoch 147/200\n",
            "31/31 [==============================] - 0s 1ms/step - loss: 0.4257 - accuracy: 0.8046\n",
            "Epoch 148/200\n",
            "31/31 [==============================] - 0s 2ms/step - loss: 0.4217 - accuracy: 0.8078\n",
            "Epoch 149/200\n",
            "31/31 [==============================] - 0s 1ms/step - loss: 0.4167 - accuracy: 0.8046\n",
            "Epoch 150/200\n",
            "31/31 [==============================] - 0s 2ms/step - loss: 0.4170 - accuracy: 0.8094\n",
            "Epoch 151/200\n",
            "31/31 [==============================] - 0s 2ms/step - loss: 0.4184 - accuracy: 0.8111\n",
            "Epoch 152/200\n",
            "31/31 [==============================] - 0s 2ms/step - loss: 0.4199 - accuracy: 0.8013\n",
            "Epoch 153/200\n",
            "31/31 [==============================] - 0s 2ms/step - loss: 0.4173 - accuracy: 0.8029\n",
            "Epoch 154/200\n",
            "31/31 [==============================] - 0s 1ms/step - loss: 0.4194 - accuracy: 0.7997\n",
            "Epoch 155/200\n",
            "31/31 [==============================] - 0s 2ms/step - loss: 0.4177 - accuracy: 0.8013\n",
            "Epoch 156/200\n",
            "31/31 [==============================] - 0s 2ms/step - loss: 0.4154 - accuracy: 0.8046\n",
            "Epoch 157/200\n",
            "31/31 [==============================] - 0s 2ms/step - loss: 0.4163 - accuracy: 0.8143\n",
            "Epoch 158/200\n",
            "31/31 [==============================] - 0s 1ms/step - loss: 0.4209 - accuracy: 0.8046\n",
            "Epoch 159/200\n",
            "31/31 [==============================] - 0s 2ms/step - loss: 0.4193 - accuracy: 0.7964\n",
            "Epoch 160/200\n",
            "31/31 [==============================] - 0s 1ms/step - loss: 0.4202 - accuracy: 0.8062\n",
            "Epoch 161/200\n",
            "31/31 [==============================] - 0s 2ms/step - loss: 0.4159 - accuracy: 0.8094\n",
            "Epoch 162/200\n",
            "31/31 [==============================] - 0s 2ms/step - loss: 0.4205 - accuracy: 0.8029\n",
            "Epoch 163/200\n",
            "31/31 [==============================] - 0s 1ms/step - loss: 0.4192 - accuracy: 0.8078\n",
            "Epoch 164/200\n",
            "31/31 [==============================] - 0s 1ms/step - loss: 0.4216 - accuracy: 0.8127\n",
            "Epoch 165/200\n",
            "31/31 [==============================] - 0s 1ms/step - loss: 0.4141 - accuracy: 0.8078\n",
            "Epoch 166/200\n",
            "31/31 [==============================] - 0s 1ms/step - loss: 0.4130 - accuracy: 0.8127\n",
            "Epoch 167/200\n",
            "31/31 [==============================] - 0s 1ms/step - loss: 0.4188 - accuracy: 0.8143\n",
            "Epoch 168/200\n",
            "31/31 [==============================] - 0s 1ms/step - loss: 0.4161 - accuracy: 0.8078\n",
            "Epoch 169/200\n",
            "31/31 [==============================] - 0s 1ms/step - loss: 0.4222 - accuracy: 0.7997\n",
            "Epoch 170/200\n",
            "31/31 [==============================] - 0s 1ms/step - loss: 0.4143 - accuracy: 0.8094\n",
            "Epoch 171/200\n",
            "31/31 [==============================] - 0s 1ms/step - loss: 0.4144 - accuracy: 0.8127\n",
            "Epoch 172/200\n",
            "31/31 [==============================] - 0s 1ms/step - loss: 0.4135 - accuracy: 0.8078\n",
            "Epoch 173/200\n",
            "31/31 [==============================] - 0s 1ms/step - loss: 0.4159 - accuracy: 0.8046\n",
            "Epoch 174/200\n",
            "31/31 [==============================] - 0s 1ms/step - loss: 0.4162 - accuracy: 0.8176\n",
            "Epoch 175/200\n",
            "31/31 [==============================] - 0s 1ms/step - loss: 0.4135 - accuracy: 0.8046\n",
            "Epoch 176/200\n",
            "31/31 [==============================] - 0s 1ms/step - loss: 0.4143 - accuracy: 0.8143\n",
            "Epoch 177/200\n",
            "31/31 [==============================] - 0s 1ms/step - loss: 0.4142 - accuracy: 0.7948\n",
            "Epoch 178/200\n",
            "31/31 [==============================] - 0s 1ms/step - loss: 0.4181 - accuracy: 0.8013\n",
            "Epoch 179/200\n",
            "31/31 [==============================] - 0s 1ms/step - loss: 0.4168 - accuracy: 0.8046\n",
            "Epoch 180/200\n",
            "31/31 [==============================] - 0s 1ms/step - loss: 0.4131 - accuracy: 0.8111\n",
            "Epoch 181/200\n",
            "31/31 [==============================] - 0s 2ms/step - loss: 0.4130 - accuracy: 0.8078\n",
            "Epoch 182/200\n",
            "31/31 [==============================] - 0s 1ms/step - loss: 0.4132 - accuracy: 0.7948\n",
            "Epoch 183/200\n",
            "31/31 [==============================] - 0s 1ms/step - loss: 0.4117 - accuracy: 0.8062\n",
            "Epoch 184/200\n",
            "31/31 [==============================] - 0s 1ms/step - loss: 0.4125 - accuracy: 0.8029\n",
            "Epoch 185/200\n",
            "31/31 [==============================] - 0s 1ms/step - loss: 0.4105 - accuracy: 0.8013\n",
            "Epoch 186/200\n",
            "31/31 [==============================] - 0s 1ms/step - loss: 0.4143 - accuracy: 0.8062\n",
            "Epoch 187/200\n",
            "31/31 [==============================] - 0s 1ms/step - loss: 0.4180 - accuracy: 0.8029\n",
            "Epoch 188/200\n",
            "31/31 [==============================] - 0s 1ms/step - loss: 0.4140 - accuracy: 0.8111\n",
            "Epoch 189/200\n",
            "31/31 [==============================] - 0s 1ms/step - loss: 0.4091 - accuracy: 0.8111\n",
            "Epoch 190/200\n",
            "31/31 [==============================] - 0s 1ms/step - loss: 0.4132 - accuracy: 0.8062\n",
            "Epoch 191/200\n",
            "31/31 [==============================] - 0s 1ms/step - loss: 0.4107 - accuracy: 0.7997\n",
            "Epoch 192/200\n",
            "31/31 [==============================] - 0s 1ms/step - loss: 0.4088 - accuracy: 0.8046\n",
            "Epoch 193/200\n",
            "31/31 [==============================] - 0s 1ms/step - loss: 0.4099 - accuracy: 0.8111\n",
            "Epoch 194/200\n",
            "31/31 [==============================] - 0s 1ms/step - loss: 0.4226 - accuracy: 0.8013\n",
            "Epoch 195/200\n",
            "31/31 [==============================] - 0s 1ms/step - loss: 0.4101 - accuracy: 0.8127\n",
            "Epoch 196/200\n",
            "31/31 [==============================] - 0s 1ms/step - loss: 0.4095 - accuracy: 0.8013\n",
            "Epoch 197/200\n",
            "31/31 [==============================] - 0s 1ms/step - loss: 0.4153 - accuracy: 0.8046\n",
            "Epoch 198/200\n",
            "31/31 [==============================] - 0s 1ms/step - loss: 0.4089 - accuracy: 0.8160\n",
            "Epoch 199/200\n",
            "31/31 [==============================] - 0s 1ms/step - loss: 0.4144 - accuracy: 0.8029\n",
            "Epoch 200/200\n",
            "31/31 [==============================] - 0s 1ms/step - loss: 0.4084 - accuracy: 0.8094\n"
          ]
        }
      ]
    },
    {
      "cell_type": "code",
      "metadata": {
        "colab": {
          "base_uri": "https://localhost:8080/"
        },
        "id": "n6iXe9vJRxcx",
        "outputId": "cb86f19c-f0f6-4d0a-cc64-5fe29086e5b0"
      },
      "source": [
        "from sklearn.metrics import accuracy_score #Menghitung Akurasi\n",
        "\n",
        "round(accuracy_score(y_test, y_pred),3)"
      ],
      "execution_count": null,
      "outputs": [
        {
          "output_type": "execute_result",
          "data": {
            "text/plain": [
              "0.584"
            ]
          },
          "metadata": {},
          "execution_count": 23
        }
      ]
    }
  ]
}