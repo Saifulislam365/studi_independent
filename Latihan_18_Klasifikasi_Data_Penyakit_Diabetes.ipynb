{
  "nbformat": 4,
  "nbformat_minor": 0,
  "metadata": {
    "colab": {
      "name": "Latihan-18_Klasifikasi-Data-Penyakit-Diabetes.ipynb",
      "provenance": [],
      "include_colab_link": true
    },
    "kernelspec": {
      "name": "python3",
      "display_name": "Python 3"
    },
    "language_info": {
      "name": "python"
    }
  },
  "cells": [
    {
      "cell_type": "markdown",
      "metadata": {
        "id": "view-in-github",
        "colab_type": "text"
      },
      "source": [
        "<a href=\"https://colab.research.google.com/github/Saifulislam365/studi_independent/blob/main/Latihan_18_Klasifikasi_Data_Penyakit_Diabetes.ipynb\" target=\"_parent\"><img src=\"https://colab.research.google.com/assets/colab-badge.svg\" alt=\"Open In Colab\"/></a>"
      ]
    },
    {
      "cell_type": "markdown",
      "metadata": {
        "id": "mof6l9QG9frq"
      },
      "source": [
        "Kamis, 30 Sept 2021"
      ]
    },
    {
      "cell_type": "markdown",
      "metadata": {
        "id": "xBm5KJkJ0Cmz"
      },
      "source": [
        "## Import Library"
      ]
    },
    {
      "cell_type": "code",
      "metadata": {
        "id": "4_uulZNCxeHx"
      },
      "source": [
        "import pandas as pd #mengimport library pandas dan akan dipanggil sebagai pd\n",
        "import numpy as np #mengimport library numpy dan akan dipanggil sebagai np"
      ],
      "execution_count": 4,
      "outputs": []
    },
    {
      "cell_type": "markdown",
      "metadata": {
        "id": "U2wndl2_0NgK"
      },
      "source": [
        "## Import Data Set"
      ]
    },
    {
      "cell_type": "code",
      "metadata": {
        "colab": {
          "base_uri": "https://localhost:8080/"
        },
        "id": "5BztGpWwPLK0",
        "outputId": "9ec95aa8-9d21-4079-d043-fa96582fdd4b"
      },
      "source": [
        "!wget -O diabetes_latih.csv https://raw.githubusercontent.com/Saifulislam365/studi_independent/main/Data_Set/diabetes_latih.csv"
      ],
      "execution_count": 1,
      "outputs": [
        {
          "output_type": "stream",
          "name": "stdout",
          "text": [
            "--2021-10-01 07:13:56--  https://raw.githubusercontent.com/Saifulislam365/studi_independent/main/Data_Set/diabetes_latih.csv\n",
            "Resolving raw.githubusercontent.com (raw.githubusercontent.com)... 185.199.110.133, 185.199.111.133, 185.199.109.133, ...\n",
            "Connecting to raw.githubusercontent.com (raw.githubusercontent.com)|185.199.110.133|:443... connected.\n",
            "HTTP request sent, awaiting response... 200 OK\n",
            "Length: 18518 (18K) [text/plain]\n",
            "Saving to: ‘diabetes_latih.csv’\n",
            "\n",
            "\rdiabetes_latih.csv    0%[                    ]       0  --.-KB/s               \rdiabetes_latih.csv  100%[===================>]  18.08K  --.-KB/s    in 0s      \n",
            "\n",
            "2021-10-01 07:13:56 (94.9 MB/s) - ‘diabetes_latih.csv’ saved [18518/18518]\n",
            "\n"
          ]
        }
      ]
    },
    {
      "cell_type": "code",
      "metadata": {
        "colab": {
          "base_uri": "https://localhost:8080/"
        },
        "id": "2krHqeyXQi0I",
        "outputId": "94c60610-b4c5-4ea5-8af9-a4f25c44daa4"
      },
      "source": [
        "!wget -O diabetes_uji.csv https://raw.githubusercontent.com/Saifulislam365/studi_independent/main/Data_Set/diabetes_uji.csv"
      ],
      "execution_count": 2,
      "outputs": [
        {
          "output_type": "stream",
          "name": "stdout",
          "text": [
            "--2021-10-01 07:14:48--  https://raw.githubusercontent.com/Saifulislam365/studi_independent/main/Data_Set/diabetes_uji.csv\n",
            "Resolving raw.githubusercontent.com (raw.githubusercontent.com)... 185.199.109.133, 185.199.111.133, 185.199.110.133, ...\n",
            "Connecting to raw.githubusercontent.com (raw.githubusercontent.com)|185.199.109.133|:443... connected.\n",
            "HTTP request sent, awaiting response... 200 OK\n",
            "Length: 4685 (4.6K) [text/plain]\n",
            "Saving to: ‘diabetes_uji.csv’\n",
            "\n",
            "\rdiabetes_uji.csv      0%[                    ]       0  --.-KB/s               \rdiabetes_uji.csv    100%[===================>]   4.58K  --.-KB/s    in 0s      \n",
            "\n",
            "2021-10-01 07:14:48 (56.5 MB/s) - ‘diabetes_uji.csv’ saved [4685/4685]\n",
            "\n"
          ]
        }
      ]
    },
    {
      "cell_type": "markdown",
      "metadata": {
        "id": "l1tcS7OW26ST"
      },
      "source": [
        "## Membuat Data Training & Testing"
      ]
    },
    {
      "cell_type": "code",
      "metadata": {
        "id": "XkWjKYwLPPvl"
      },
      "source": [
        "df = pd.read_csv('diabetes_latih.csv')\n",
        "\n",
        "X_train = df.values\n",
        "X_train = np.delete(X_train,8, axis=1)\n",
        "\n",
        "y_train = df['Outcome'].values\n",
        "\n",
        "df = pd.read_csv('diabetes_uji.csv')\n",
        "\n",
        "X_test = df.values\n",
        "X_test = np.delete(X_test,8,axis=1)\n",
        "\n",
        "y_test = df['Outcome'].values"
      ],
      "execution_count": 5,
      "outputs": []
    },
    {
      "cell_type": "code",
      "metadata": {
        "id": "dkYfQIEwRKMO"
      },
      "source": [
        "from sklearn.preprocessing import MinMaxScaler\n",
        "X_train = MinMaxScaler().fit_transform(X_train)\n",
        "X_test = MinMaxScaler().fit_transform(X_test)"
      ],
      "execution_count": 6,
      "outputs": []
    },
    {
      "cell_type": "markdown",
      "metadata": {
        "id": "rdD8fCTq37js"
      },
      "source": [
        "## Model Text Description"
      ]
    },
    {
      "cell_type": "code",
      "metadata": {
        "id": "Sc5NDhONRbHJ"
      },
      "source": [
        "from keras.models import Sequential\n",
        "from keras.layers import Dense\n",
        "\n",
        "model = Sequential()\n",
        "\n",
        "model.add(Dense(12, activation='relu', input_shape=(8,)))\n",
        "\n",
        "model.add(Dense(8, activation='relu'))\n",
        "model.add(Dense(8, activation='relu'))\n",
        "\n",
        "model.add(Dense(1, activation='sigmoid'))\n",
        "\n",
        "model.compile(loss='binary_crossentropy', optimizer='adam', metrics=['accuracy'])"
      ],
      "execution_count": 7,
      "outputs": []
    },
    {
      "cell_type": "code",
      "metadata": {
        "colab": {
          "base_uri": "https://localhost:8080/"
        },
        "id": "7zvk9lhyRgm7",
        "outputId": "3efbeee4-9c23-44f2-e206-19badaae88e6"
      },
      "source": [
        "model.summary()"
      ],
      "execution_count": 8,
      "outputs": [
        {
          "output_type": "stream",
          "name": "stdout",
          "text": [
            "Model: \"sequential\"\n",
            "_________________________________________________________________\n",
            "Layer (type)                 Output Shape              Param #   \n",
            "=================================================================\n",
            "dense (Dense)                (None, 12)                108       \n",
            "_________________________________________________________________\n",
            "dense_1 (Dense)              (None, 8)                 104       \n",
            "_________________________________________________________________\n",
            "dense_2 (Dense)              (None, 8)                 72        \n",
            "_________________________________________________________________\n",
            "dense_3 (Dense)              (None, 1)                 9         \n",
            "=================================================================\n",
            "Total params: 293\n",
            "Trainable params: 293\n",
            "Non-trainable params: 0\n",
            "_________________________________________________________________\n"
          ]
        }
      ]
    },
    {
      "cell_type": "code",
      "metadata": {
        "colab": {
          "base_uri": "https://localhost:8080/",
          "height": 206
        },
        "id": "FG0HcFPRRiWV",
        "outputId": "8a066193-cd69-4c49-fa2c-1f8ca967d3c9"
      },
      "source": [
        "df.head() #Memunculkan 5 data teratas\n"
      ],
      "execution_count": 9,
      "outputs": [
        {
          "output_type": "execute_result",
          "data": {
            "text/html": [
              "<div>\n",
              "<style scoped>\n",
              "    .dataframe tbody tr th:only-of-type {\n",
              "        vertical-align: middle;\n",
              "    }\n",
              "\n",
              "    .dataframe tbody tr th {\n",
              "        vertical-align: top;\n",
              "    }\n",
              "\n",
              "    .dataframe thead th {\n",
              "        text-align: right;\n",
              "    }\n",
              "</style>\n",
              "<table border=\"1\" class=\"dataframe\">\n",
              "  <thead>\n",
              "    <tr style=\"text-align: right;\">\n",
              "      <th></th>\n",
              "      <th>Pregnancies</th>\n",
              "      <th>Glucose</th>\n",
              "      <th>BloodPressure</th>\n",
              "      <th>SkinThickness</th>\n",
              "      <th>Insulin</th>\n",
              "      <th>BMI</th>\n",
              "      <th>DiabetesPedigreeFunction</th>\n",
              "      <th>Age</th>\n",
              "      <th>Outcome</th>\n",
              "    </tr>\n",
              "  </thead>\n",
              "  <tbody>\n",
              "    <tr>\n",
              "      <th>0</th>\n",
              "      <td>6</td>\n",
              "      <td>148</td>\n",
              "      <td>72</td>\n",
              "      <td>35</td>\n",
              "      <td>0</td>\n",
              "      <td>33.6</td>\n",
              "      <td>0.627</td>\n",
              "      <td>50</td>\n",
              "      <td>1</td>\n",
              "    </tr>\n",
              "    <tr>\n",
              "      <th>1</th>\n",
              "      <td>1</td>\n",
              "      <td>85</td>\n",
              "      <td>66</td>\n",
              "      <td>29</td>\n",
              "      <td>0</td>\n",
              "      <td>26.6</td>\n",
              "      <td>0.351</td>\n",
              "      <td>31</td>\n",
              "      <td>0</td>\n",
              "    </tr>\n",
              "    <tr>\n",
              "      <th>2</th>\n",
              "      <td>8</td>\n",
              "      <td>183</td>\n",
              "      <td>64</td>\n",
              "      <td>0</td>\n",
              "      <td>0</td>\n",
              "      <td>23.3</td>\n",
              "      <td>0.672</td>\n",
              "      <td>32</td>\n",
              "      <td>1</td>\n",
              "    </tr>\n",
              "    <tr>\n",
              "      <th>3</th>\n",
              "      <td>1</td>\n",
              "      <td>89</td>\n",
              "      <td>66</td>\n",
              "      <td>23</td>\n",
              "      <td>94</td>\n",
              "      <td>28.1</td>\n",
              "      <td>0.167</td>\n",
              "      <td>21</td>\n",
              "      <td>0</td>\n",
              "    </tr>\n",
              "    <tr>\n",
              "      <th>4</th>\n",
              "      <td>0</td>\n",
              "      <td>137</td>\n",
              "      <td>40</td>\n",
              "      <td>35</td>\n",
              "      <td>168</td>\n",
              "      <td>43.1</td>\n",
              "      <td>2.288</td>\n",
              "      <td>33</td>\n",
              "      <td>1</td>\n",
              "    </tr>\n",
              "  </tbody>\n",
              "</table>\n",
              "</div>"
            ],
            "text/plain": [
              "   Pregnancies  Glucose  BloodPressure  ...  DiabetesPedigreeFunction  Age  Outcome\n",
              "0            6      148             72  ...                     0.627   50        1\n",
              "1            1       85             66  ...                     0.351   31        0\n",
              "2            8      183             64  ...                     0.672   32        1\n",
              "3            1       89             66  ...                     0.167   21        0\n",
              "4            0      137             40  ...                     2.288   33        1\n",
              "\n",
              "[5 rows x 9 columns]"
            ]
          },
          "metadata": {},
          "execution_count": 9
        }
      ]
    },
    {
      "cell_type": "markdown",
      "metadata": {
        "id": "-FXEu1g54QlY"
      },
      "source": [
        "## Memprediksi Model"
      ]
    },
    {
      "cell_type": "code",
      "metadata": {
        "colab": {
          "base_uri": "https://localhost:8080/"
        },
        "id": "YtVcZGu8RqUz",
        "outputId": "4f278af4-7c47-41df-a309-9220ff2d940a"
      },
      "source": [
        "model.fit(X_train, y_train, epochs=200, verbose=1, batch_size=20)\n",
        "\n",
        "y_pred = model.predict(X_test)\n",
        "y_pred = y_pred >= 0.13"
      ],
      "execution_count": 10,
      "outputs": [
        {
          "output_type": "stream",
          "name": "stdout",
          "text": [
            "Epoch 1/200\n",
            "31/31 [==============================] - 1s 1ms/step - loss: 0.6795 - accuracy: 0.6515\n",
            "Epoch 2/200\n",
            "31/31 [==============================] - 0s 1ms/step - loss: 0.6683 - accuracy: 0.6515\n",
            "Epoch 3/200\n",
            "31/31 [==============================] - 0s 1ms/step - loss: 0.6597 - accuracy: 0.6515\n",
            "Epoch 4/200\n",
            "31/31 [==============================] - 0s 1ms/step - loss: 0.6514 - accuracy: 0.6515\n",
            "Epoch 5/200\n",
            "31/31 [==============================] - 0s 1ms/step - loss: 0.6461 - accuracy: 0.6515\n",
            "Epoch 6/200\n",
            "31/31 [==============================] - 0s 1ms/step - loss: 0.6413 - accuracy: 0.6515\n",
            "Epoch 7/200\n",
            "31/31 [==============================] - 0s 1ms/step - loss: 0.6361 - accuracy: 0.6515\n",
            "Epoch 8/200\n",
            "31/31 [==============================] - 0s 1ms/step - loss: 0.6308 - accuracy: 0.6515\n",
            "Epoch 9/200\n",
            "31/31 [==============================] - 0s 1ms/step - loss: 0.6235 - accuracy: 0.6515\n",
            "Epoch 10/200\n",
            "31/31 [==============================] - 0s 1ms/step - loss: 0.6147 - accuracy: 0.6515\n",
            "Epoch 11/200\n",
            "31/31 [==============================] - 0s 1ms/step - loss: 0.6067 - accuracy: 0.6515\n",
            "Epoch 12/200\n",
            "31/31 [==============================] - 0s 1ms/step - loss: 0.5989 - accuracy: 0.6515\n",
            "Epoch 13/200\n",
            "31/31 [==============================] - 0s 1ms/step - loss: 0.5913 - accuracy: 0.6515\n",
            "Epoch 14/200\n",
            "31/31 [==============================] - 0s 1ms/step - loss: 0.5811 - accuracy: 0.6515\n",
            "Epoch 15/200\n",
            "31/31 [==============================] - 0s 1ms/step - loss: 0.5706 - accuracy: 0.6515\n",
            "Epoch 16/200\n",
            "31/31 [==============================] - 0s 2ms/step - loss: 0.5602 - accuracy: 0.6580\n",
            "Epoch 17/200\n",
            "31/31 [==============================] - 0s 1ms/step - loss: 0.5518 - accuracy: 0.6743\n",
            "Epoch 18/200\n",
            "31/31 [==============================] - 0s 1ms/step - loss: 0.5421 - accuracy: 0.7117\n",
            "Epoch 19/200\n",
            "31/31 [==============================] - 0s 1ms/step - loss: 0.5323 - accuracy: 0.7248\n",
            "Epoch 20/200\n",
            "31/31 [==============================] - 0s 1ms/step - loss: 0.5249 - accuracy: 0.7378\n",
            "Epoch 21/200\n",
            "31/31 [==============================] - 0s 1ms/step - loss: 0.5176 - accuracy: 0.7329\n",
            "Epoch 22/200\n",
            "31/31 [==============================] - 0s 1ms/step - loss: 0.5078 - accuracy: 0.7573\n",
            "Epoch 23/200\n",
            "31/31 [==============================] - 0s 1ms/step - loss: 0.4998 - accuracy: 0.7573\n",
            "Epoch 24/200\n",
            "31/31 [==============================] - 0s 1ms/step - loss: 0.4930 - accuracy: 0.7622\n",
            "Epoch 25/200\n",
            "31/31 [==============================] - 0s 2ms/step - loss: 0.4825 - accuracy: 0.7655\n",
            "Epoch 26/200\n",
            "31/31 [==============================] - 0s 1ms/step - loss: 0.4732 - accuracy: 0.7850\n",
            "Epoch 27/200\n",
            "31/31 [==============================] - 0s 1ms/step - loss: 0.4695 - accuracy: 0.7769\n",
            "Epoch 28/200\n",
            "31/31 [==============================] - 0s 1ms/step - loss: 0.4653 - accuracy: 0.7850\n",
            "Epoch 29/200\n",
            "31/31 [==============================] - 0s 1ms/step - loss: 0.4589 - accuracy: 0.7850\n",
            "Epoch 30/200\n",
            "31/31 [==============================] - 0s 2ms/step - loss: 0.4555 - accuracy: 0.7704\n",
            "Epoch 31/200\n",
            "31/31 [==============================] - 0s 1ms/step - loss: 0.4501 - accuracy: 0.7866\n",
            "Epoch 32/200\n",
            "31/31 [==============================] - 0s 1ms/step - loss: 0.4470 - accuracy: 0.7948\n",
            "Epoch 33/200\n",
            "31/31 [==============================] - 0s 1ms/step - loss: 0.4437 - accuracy: 0.7948\n",
            "Epoch 34/200\n",
            "31/31 [==============================] - 0s 1ms/step - loss: 0.4455 - accuracy: 0.7752\n",
            "Epoch 35/200\n",
            "31/31 [==============================] - 0s 1ms/step - loss: 0.4388 - accuracy: 0.7834\n",
            "Epoch 36/200\n",
            "31/31 [==============================] - 0s 1ms/step - loss: 0.4390 - accuracy: 0.7915\n",
            "Epoch 37/200\n",
            "31/31 [==============================] - 0s 1ms/step - loss: 0.4326 - accuracy: 0.7948\n",
            "Epoch 38/200\n",
            "31/31 [==============================] - 0s 1ms/step - loss: 0.4304 - accuracy: 0.7997\n",
            "Epoch 39/200\n",
            "31/31 [==============================] - 0s 1ms/step - loss: 0.4300 - accuracy: 0.7850\n",
            "Epoch 40/200\n",
            "31/31 [==============================] - 0s 1ms/step - loss: 0.4312 - accuracy: 0.7883\n",
            "Epoch 41/200\n",
            "31/31 [==============================] - 0s 1ms/step - loss: 0.4278 - accuracy: 0.7915\n",
            "Epoch 42/200\n",
            "31/31 [==============================] - 0s 1ms/step - loss: 0.4266 - accuracy: 0.7964\n",
            "Epoch 43/200\n",
            "31/31 [==============================] - 0s 1ms/step - loss: 0.4324 - accuracy: 0.7997\n",
            "Epoch 44/200\n",
            "31/31 [==============================] - 0s 1ms/step - loss: 0.4315 - accuracy: 0.7899\n",
            "Epoch 45/200\n",
            "31/31 [==============================] - 0s 1ms/step - loss: 0.4212 - accuracy: 0.8062\n",
            "Epoch 46/200\n",
            "31/31 [==============================] - 0s 1ms/step - loss: 0.4209 - accuracy: 0.7997\n",
            "Epoch 47/200\n",
            "31/31 [==============================] - 0s 1ms/step - loss: 0.4206 - accuracy: 0.7948\n",
            "Epoch 48/200\n",
            "31/31 [==============================] - 0s 1ms/step - loss: 0.4236 - accuracy: 0.7964\n",
            "Epoch 49/200\n",
            "31/31 [==============================] - 0s 1ms/step - loss: 0.4249 - accuracy: 0.8046\n",
            "Epoch 50/200\n",
            "31/31 [==============================] - 0s 1ms/step - loss: 0.4185 - accuracy: 0.7948\n",
            "Epoch 51/200\n",
            "31/31 [==============================] - 0s 1ms/step - loss: 0.4149 - accuracy: 0.8029\n",
            "Epoch 52/200\n",
            "31/31 [==============================] - 0s 2ms/step - loss: 0.4169 - accuracy: 0.8029\n",
            "Epoch 53/200\n",
            "31/31 [==============================] - 0s 1ms/step - loss: 0.4170 - accuracy: 0.7964\n",
            "Epoch 54/200\n",
            "31/31 [==============================] - 0s 1ms/step - loss: 0.4124 - accuracy: 0.8062\n",
            "Epoch 55/200\n",
            "31/31 [==============================] - 0s 1ms/step - loss: 0.4317 - accuracy: 0.7818\n",
            "Epoch 56/200\n",
            "31/31 [==============================] - 0s 1ms/step - loss: 0.4123 - accuracy: 0.8062\n",
            "Epoch 57/200\n",
            "31/31 [==============================] - 0s 1ms/step - loss: 0.4150 - accuracy: 0.8078\n",
            "Epoch 58/200\n",
            "31/31 [==============================] - 0s 1ms/step - loss: 0.4132 - accuracy: 0.8013\n",
            "Epoch 59/200\n",
            "31/31 [==============================] - 0s 1ms/step - loss: 0.4174 - accuracy: 0.8029\n",
            "Epoch 60/200\n",
            "31/31 [==============================] - 0s 1ms/step - loss: 0.4097 - accuracy: 0.8143\n",
            "Epoch 61/200\n",
            "31/31 [==============================] - 0s 1ms/step - loss: 0.4103 - accuracy: 0.7997\n",
            "Epoch 62/200\n",
            "31/31 [==============================] - 0s 2ms/step - loss: 0.4076 - accuracy: 0.8029\n",
            "Epoch 63/200\n",
            "31/31 [==============================] - 0s 2ms/step - loss: 0.4083 - accuracy: 0.8013\n",
            "Epoch 64/200\n",
            "31/31 [==============================] - 0s 1ms/step - loss: 0.4085 - accuracy: 0.8013\n",
            "Epoch 65/200\n",
            "31/31 [==============================] - 0s 1ms/step - loss: 0.4066 - accuracy: 0.8013\n",
            "Epoch 66/200\n",
            "31/31 [==============================] - 0s 1ms/step - loss: 0.4042 - accuracy: 0.8046\n",
            "Epoch 67/200\n",
            "31/31 [==============================] - 0s 1ms/step - loss: 0.4055 - accuracy: 0.8111\n",
            "Epoch 68/200\n",
            "31/31 [==============================] - 0s 1ms/step - loss: 0.4083 - accuracy: 0.8062\n",
            "Epoch 69/200\n",
            "31/31 [==============================] - 0s 1ms/step - loss: 0.4035 - accuracy: 0.8013\n",
            "Epoch 70/200\n",
            "31/31 [==============================] - 0s 1ms/step - loss: 0.4077 - accuracy: 0.8094\n",
            "Epoch 71/200\n",
            "31/31 [==============================] - 0s 1ms/step - loss: 0.4037 - accuracy: 0.8062\n",
            "Epoch 72/200\n",
            "31/31 [==============================] - 0s 1ms/step - loss: 0.4054 - accuracy: 0.8029\n",
            "Epoch 73/200\n",
            "31/31 [==============================] - 0s 1ms/step - loss: 0.4013 - accuracy: 0.8046\n",
            "Epoch 74/200\n",
            "31/31 [==============================] - 0s 1ms/step - loss: 0.3991 - accuracy: 0.8046\n",
            "Epoch 75/200\n",
            "31/31 [==============================] - 0s 1ms/step - loss: 0.4081 - accuracy: 0.7997\n",
            "Epoch 76/200\n",
            "31/31 [==============================] - 0s 1ms/step - loss: 0.4019 - accuracy: 0.8111\n",
            "Epoch 77/200\n",
            "31/31 [==============================] - 0s 2ms/step - loss: 0.4007 - accuracy: 0.8111\n",
            "Epoch 78/200\n",
            "31/31 [==============================] - 0s 2ms/step - loss: 0.4044 - accuracy: 0.8062\n",
            "Epoch 79/200\n",
            "31/31 [==============================] - 0s 2ms/step - loss: 0.4047 - accuracy: 0.8094\n",
            "Epoch 80/200\n",
            "31/31 [==============================] - 0s 1ms/step - loss: 0.3994 - accuracy: 0.8062\n",
            "Epoch 81/200\n",
            "31/31 [==============================] - 0s 1ms/step - loss: 0.3980 - accuracy: 0.8127\n",
            "Epoch 82/200\n",
            "31/31 [==============================] - 0s 1ms/step - loss: 0.4020 - accuracy: 0.8062\n",
            "Epoch 83/200\n",
            "31/31 [==============================] - 0s 1ms/step - loss: 0.3966 - accuracy: 0.8127\n",
            "Epoch 84/200\n",
            "31/31 [==============================] - 0s 1ms/step - loss: 0.4009 - accuracy: 0.8062\n",
            "Epoch 85/200\n",
            "31/31 [==============================] - 0s 1ms/step - loss: 0.4019 - accuracy: 0.8094\n",
            "Epoch 86/200\n",
            "31/31 [==============================] - 0s 2ms/step - loss: 0.3960 - accuracy: 0.8062\n",
            "Epoch 87/200\n",
            "31/31 [==============================] - 0s 1ms/step - loss: 0.3952 - accuracy: 0.8111\n",
            "Epoch 88/200\n",
            "31/31 [==============================] - 0s 1ms/step - loss: 0.3976 - accuracy: 0.8029\n",
            "Epoch 89/200\n",
            "31/31 [==============================] - 0s 1ms/step - loss: 0.3969 - accuracy: 0.8078\n",
            "Epoch 90/200\n",
            "31/31 [==============================] - 0s 2ms/step - loss: 0.3932 - accuracy: 0.8143\n",
            "Epoch 91/200\n",
            "31/31 [==============================] - 0s 1ms/step - loss: 0.3955 - accuracy: 0.8013\n",
            "Epoch 92/200\n",
            "31/31 [==============================] - 0s 1ms/step - loss: 0.3963 - accuracy: 0.8029\n",
            "Epoch 93/200\n",
            "31/31 [==============================] - 0s 1ms/step - loss: 0.3923 - accuracy: 0.8143\n",
            "Epoch 94/200\n",
            "31/31 [==============================] - 0s 1ms/step - loss: 0.3968 - accuracy: 0.7997\n",
            "Epoch 95/200\n",
            "31/31 [==============================] - 0s 1ms/step - loss: 0.3951 - accuracy: 0.8046\n",
            "Epoch 96/200\n",
            "31/31 [==============================] - 0s 1ms/step - loss: 0.3922 - accuracy: 0.8127\n",
            "Epoch 97/200\n",
            "31/31 [==============================] - 0s 1ms/step - loss: 0.3914 - accuracy: 0.8094\n",
            "Epoch 98/200\n",
            "31/31 [==============================] - 0s 1ms/step - loss: 0.3939 - accuracy: 0.8143\n",
            "Epoch 99/200\n",
            "31/31 [==============================] - 0s 1ms/step - loss: 0.3914 - accuracy: 0.8176\n",
            "Epoch 100/200\n",
            "31/31 [==============================] - 0s 1ms/step - loss: 0.3939 - accuracy: 0.8046\n",
            "Epoch 101/200\n",
            "31/31 [==============================] - 0s 1ms/step - loss: 0.4031 - accuracy: 0.8078\n",
            "Epoch 102/200\n",
            "31/31 [==============================] - 0s 2ms/step - loss: 0.3891 - accuracy: 0.8078\n",
            "Epoch 103/200\n",
            "31/31 [==============================] - 0s 1ms/step - loss: 0.3884 - accuracy: 0.8078\n",
            "Epoch 104/200\n",
            "31/31 [==============================] - 0s 1ms/step - loss: 0.3933 - accuracy: 0.8029\n",
            "Epoch 105/200\n",
            "31/31 [==============================] - 0s 1ms/step - loss: 0.3887 - accuracy: 0.8046\n",
            "Epoch 106/200\n",
            "31/31 [==============================] - 0s 1ms/step - loss: 0.3948 - accuracy: 0.8192\n",
            "Epoch 107/200\n",
            "31/31 [==============================] - 0s 1ms/step - loss: 0.3882 - accuracy: 0.8143\n",
            "Epoch 108/200\n",
            "31/31 [==============================] - 0s 1ms/step - loss: 0.3884 - accuracy: 0.8127\n",
            "Epoch 109/200\n",
            "31/31 [==============================] - 0s 1ms/step - loss: 0.3889 - accuracy: 0.8127\n",
            "Epoch 110/200\n",
            "31/31 [==============================] - 0s 1ms/step - loss: 0.3884 - accuracy: 0.8241\n",
            "Epoch 111/200\n",
            "31/31 [==============================] - 0s 1ms/step - loss: 0.3876 - accuracy: 0.8078\n",
            "Epoch 112/200\n",
            "31/31 [==============================] - 0s 1ms/step - loss: 0.3845 - accuracy: 0.8127\n",
            "Epoch 113/200\n",
            "31/31 [==============================] - 0s 1ms/step - loss: 0.3890 - accuracy: 0.8160\n",
            "Epoch 114/200\n",
            "31/31 [==============================] - 0s 2ms/step - loss: 0.3906 - accuracy: 0.8143\n",
            "Epoch 115/200\n",
            "31/31 [==============================] - 0s 1ms/step - loss: 0.3884 - accuracy: 0.8078\n",
            "Epoch 116/200\n",
            "31/31 [==============================] - 0s 1ms/step - loss: 0.3852 - accuracy: 0.8192\n",
            "Epoch 117/200\n",
            "31/31 [==============================] - 0s 2ms/step - loss: 0.3866 - accuracy: 0.8160\n",
            "Epoch 118/200\n",
            "31/31 [==============================] - 0s 1ms/step - loss: 0.3878 - accuracy: 0.8078\n",
            "Epoch 119/200\n",
            "31/31 [==============================] - 0s 1ms/step - loss: 0.3856 - accuracy: 0.8127\n",
            "Epoch 120/200\n",
            "31/31 [==============================] - 0s 2ms/step - loss: 0.3879 - accuracy: 0.8127\n",
            "Epoch 121/200\n",
            "31/31 [==============================] - 0s 2ms/step - loss: 0.3840 - accuracy: 0.8143\n",
            "Epoch 122/200\n",
            "31/31 [==============================] - 0s 1ms/step - loss: 0.3858 - accuracy: 0.8127\n",
            "Epoch 123/200\n",
            "31/31 [==============================] - 0s 1ms/step - loss: 0.3848 - accuracy: 0.8192\n",
            "Epoch 124/200\n",
            "31/31 [==============================] - 0s 1ms/step - loss: 0.3841 - accuracy: 0.8111\n",
            "Epoch 125/200\n",
            "31/31 [==============================] - 0s 1ms/step - loss: 0.3837 - accuracy: 0.8111\n",
            "Epoch 126/200\n",
            "31/31 [==============================] - 0s 1ms/step - loss: 0.3819 - accuracy: 0.8192\n",
            "Epoch 127/200\n",
            "31/31 [==============================] - 0s 1ms/step - loss: 0.3822 - accuracy: 0.8208\n",
            "Epoch 128/200\n",
            "31/31 [==============================] - 0s 1ms/step - loss: 0.3871 - accuracy: 0.8208\n",
            "Epoch 129/200\n",
            "31/31 [==============================] - 0s 1ms/step - loss: 0.3930 - accuracy: 0.8127\n",
            "Epoch 130/200\n",
            "31/31 [==============================] - 0s 1ms/step - loss: 0.3905 - accuracy: 0.8241\n",
            "Epoch 131/200\n",
            "31/31 [==============================] - 0s 1ms/step - loss: 0.3823 - accuracy: 0.8127\n",
            "Epoch 132/200\n",
            "31/31 [==============================] - 0s 1ms/step - loss: 0.3845 - accuracy: 0.8241\n",
            "Epoch 133/200\n",
            "31/31 [==============================] - 0s 1ms/step - loss: 0.3815 - accuracy: 0.8143\n",
            "Epoch 134/200\n",
            "31/31 [==============================] - 0s 2ms/step - loss: 0.3801 - accuracy: 0.8208\n",
            "Epoch 135/200\n",
            "31/31 [==============================] - 0s 1ms/step - loss: 0.3783 - accuracy: 0.8160\n",
            "Epoch 136/200\n",
            "31/31 [==============================] - 0s 1ms/step - loss: 0.3793 - accuracy: 0.8143\n",
            "Epoch 137/200\n",
            "31/31 [==============================] - 0s 1ms/step - loss: 0.3808 - accuracy: 0.8290\n",
            "Epoch 138/200\n",
            "31/31 [==============================] - 0s 1ms/step - loss: 0.3764 - accuracy: 0.8143\n",
            "Epoch 139/200\n",
            "31/31 [==============================] - 0s 1ms/step - loss: 0.3864 - accuracy: 0.8176\n",
            "Epoch 140/200\n",
            "31/31 [==============================] - 0s 1ms/step - loss: 0.3898 - accuracy: 0.8160\n",
            "Epoch 141/200\n",
            "31/31 [==============================] - 0s 1ms/step - loss: 0.3859 - accuracy: 0.8176\n",
            "Epoch 142/200\n",
            "31/31 [==============================] - 0s 1ms/step - loss: 0.3816 - accuracy: 0.8160\n",
            "Epoch 143/200\n",
            "31/31 [==============================] - 0s 1ms/step - loss: 0.3795 - accuracy: 0.8241\n",
            "Epoch 144/200\n",
            "31/31 [==============================] - 0s 1ms/step - loss: 0.3804 - accuracy: 0.8225\n",
            "Epoch 145/200\n",
            "31/31 [==============================] - 0s 1ms/step - loss: 0.3891 - accuracy: 0.8225\n",
            "Epoch 146/200\n",
            "31/31 [==============================] - 0s 1ms/step - loss: 0.3810 - accuracy: 0.8160\n",
            "Epoch 147/200\n",
            "31/31 [==============================] - 0s 1ms/step - loss: 0.3782 - accuracy: 0.8192\n",
            "Epoch 148/200\n",
            "31/31 [==============================] - 0s 1ms/step - loss: 0.3782 - accuracy: 0.8241\n",
            "Epoch 149/200\n",
            "31/31 [==============================] - 0s 1ms/step - loss: 0.3789 - accuracy: 0.8111\n",
            "Epoch 150/200\n",
            "31/31 [==============================] - 0s 1ms/step - loss: 0.3787 - accuracy: 0.8306\n",
            "Epoch 151/200\n",
            "31/31 [==============================] - 0s 1ms/step - loss: 0.3811 - accuracy: 0.8143\n",
            "Epoch 152/200\n",
            "31/31 [==============================] - 0s 1ms/step - loss: 0.3761 - accuracy: 0.8176\n",
            "Epoch 153/200\n",
            "31/31 [==============================] - 0s 1ms/step - loss: 0.3789 - accuracy: 0.8225\n",
            "Epoch 154/200\n",
            "31/31 [==============================] - 0s 1ms/step - loss: 0.3748 - accuracy: 0.8274\n",
            "Epoch 155/200\n",
            "31/31 [==============================] - 0s 1ms/step - loss: 0.3748 - accuracy: 0.8208\n",
            "Epoch 156/200\n",
            "31/31 [==============================] - 0s 2ms/step - loss: 0.3787 - accuracy: 0.8225\n",
            "Epoch 157/200\n",
            "31/31 [==============================] - 0s 1ms/step - loss: 0.3746 - accuracy: 0.8225\n",
            "Epoch 158/200\n",
            "31/31 [==============================] - 0s 1ms/step - loss: 0.3786 - accuracy: 0.8160\n",
            "Epoch 159/200\n",
            "31/31 [==============================] - 0s 1ms/step - loss: 0.3741 - accuracy: 0.8225\n",
            "Epoch 160/200\n",
            "31/31 [==============================] - 0s 1ms/step - loss: 0.3736 - accuracy: 0.8225\n",
            "Epoch 161/200\n",
            "31/31 [==============================] - 0s 1ms/step - loss: 0.3737 - accuracy: 0.8257\n",
            "Epoch 162/200\n",
            "31/31 [==============================] - 0s 1ms/step - loss: 0.3729 - accuracy: 0.8225\n",
            "Epoch 163/200\n",
            "31/31 [==============================] - 0s 1ms/step - loss: 0.3720 - accuracy: 0.8176\n",
            "Epoch 164/200\n",
            "31/31 [==============================] - 0s 1ms/step - loss: 0.3738 - accuracy: 0.8143\n",
            "Epoch 165/200\n",
            "31/31 [==============================] - 0s 1ms/step - loss: 0.3720 - accuracy: 0.8225\n",
            "Epoch 166/200\n",
            "31/31 [==============================] - 0s 2ms/step - loss: 0.3729 - accuracy: 0.8208\n",
            "Epoch 167/200\n",
            "31/31 [==============================] - 0s 1ms/step - loss: 0.3759 - accuracy: 0.8274\n",
            "Epoch 168/200\n",
            "31/31 [==============================] - 0s 1ms/step - loss: 0.3772 - accuracy: 0.8143\n",
            "Epoch 169/200\n",
            "31/31 [==============================] - 0s 1ms/step - loss: 0.3774 - accuracy: 0.8241\n",
            "Epoch 170/200\n",
            "31/31 [==============================] - 0s 1ms/step - loss: 0.3717 - accuracy: 0.8257\n",
            "Epoch 171/200\n",
            "31/31 [==============================] - 0s 1ms/step - loss: 0.3752 - accuracy: 0.8208\n",
            "Epoch 172/200\n",
            "31/31 [==============================] - 0s 1ms/step - loss: 0.3800 - accuracy: 0.8127\n",
            "Epoch 173/200\n",
            "31/31 [==============================] - 0s 1ms/step - loss: 0.3743 - accuracy: 0.8143\n",
            "Epoch 174/200\n",
            "31/31 [==============================] - 0s 1ms/step - loss: 0.3756 - accuracy: 0.8241\n",
            "Epoch 175/200\n",
            "31/31 [==============================] - 0s 1ms/step - loss: 0.3760 - accuracy: 0.8274\n",
            "Epoch 176/200\n",
            "31/31 [==============================] - 0s 1ms/step - loss: 0.3718 - accuracy: 0.8241\n",
            "Epoch 177/200\n",
            "31/31 [==============================] - 0s 2ms/step - loss: 0.3712 - accuracy: 0.8306\n",
            "Epoch 178/200\n",
            "31/31 [==============================] - 0s 1ms/step - loss: 0.3731 - accuracy: 0.8225\n",
            "Epoch 179/200\n",
            "31/31 [==============================] - 0s 1ms/step - loss: 0.3713 - accuracy: 0.8241\n",
            "Epoch 180/200\n",
            "31/31 [==============================] - 0s 1ms/step - loss: 0.3723 - accuracy: 0.8257\n",
            "Epoch 181/200\n",
            "31/31 [==============================] - 0s 1ms/step - loss: 0.3687 - accuracy: 0.8306\n",
            "Epoch 182/200\n",
            "31/31 [==============================] - 0s 2ms/step - loss: 0.3699 - accuracy: 0.8339\n",
            "Epoch 183/200\n",
            "31/31 [==============================] - 0s 1ms/step - loss: 0.3705 - accuracy: 0.8274\n",
            "Epoch 184/200\n",
            "31/31 [==============================] - 0s 1ms/step - loss: 0.3704 - accuracy: 0.8274\n",
            "Epoch 185/200\n",
            "31/31 [==============================] - 0s 1ms/step - loss: 0.3680 - accuracy: 0.8241\n",
            "Epoch 186/200\n",
            "31/31 [==============================] - 0s 1ms/step - loss: 0.3702 - accuracy: 0.8274\n",
            "Epoch 187/200\n",
            "31/31 [==============================] - 0s 1ms/step - loss: 0.3686 - accuracy: 0.8290\n",
            "Epoch 188/200\n",
            "31/31 [==============================] - 0s 1ms/step - loss: 0.3706 - accuracy: 0.8241\n",
            "Epoch 189/200\n",
            "31/31 [==============================] - 0s 1ms/step - loss: 0.3703 - accuracy: 0.8322\n",
            "Epoch 190/200\n",
            "31/31 [==============================] - 0s 2ms/step - loss: 0.3724 - accuracy: 0.8257\n",
            "Epoch 191/200\n",
            "31/31 [==============================] - 0s 2ms/step - loss: 0.3717 - accuracy: 0.8208\n",
            "Epoch 192/200\n",
            "31/31 [==============================] - 0s 1ms/step - loss: 0.3679 - accuracy: 0.8339\n",
            "Epoch 193/200\n",
            "31/31 [==============================] - 0s 1ms/step - loss: 0.3630 - accuracy: 0.8306\n",
            "Epoch 194/200\n",
            "31/31 [==============================] - 0s 1ms/step - loss: 0.3630 - accuracy: 0.8257\n",
            "Epoch 195/200\n",
            "31/31 [==============================] - 0s 1ms/step - loss: 0.3659 - accuracy: 0.8290\n",
            "Epoch 196/200\n",
            "31/31 [==============================] - 0s 1ms/step - loss: 0.3646 - accuracy: 0.8225\n",
            "Epoch 197/200\n",
            "31/31 [==============================] - 0s 2ms/step - loss: 0.3671 - accuracy: 0.8257\n",
            "Epoch 198/200\n",
            "31/31 [==============================] - 0s 1ms/step - loss: 0.3666 - accuracy: 0.8257\n",
            "Epoch 199/200\n",
            "31/31 [==============================] - 0s 1ms/step - loss: 0.3649 - accuracy: 0.8388\n",
            "Epoch 200/200\n",
            "31/31 [==============================] - 0s 1ms/step - loss: 0.3608 - accuracy: 0.8322\n"
          ]
        }
      ]
    },
    {
      "cell_type": "code",
      "metadata": {
        "colab": {
          "base_uri": "https://localhost:8080/"
        },
        "id": "n6iXe9vJRxcx",
        "outputId": "6b32557d-a44c-459c-9b1a-3e4093ff1da2"
      },
      "source": [
        "from sklearn.metrics import accuracy_score #Menghitung Akurasi\n",
        "\n",
        "round(accuracy_score(y_test, y_pred),3)"
      ],
      "execution_count": 11,
      "outputs": [
        {
          "output_type": "execute_result",
          "data": {
            "text/plain": [
              "0.617"
            ]
          },
          "metadata": {},
          "execution_count": 11
        }
      ]
    }
  ]
}