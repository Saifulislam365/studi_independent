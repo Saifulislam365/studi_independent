{
  "nbformat": 4,
  "nbformat_minor": 0,
  "metadata": {
    "colab": {
      "name": "Latihan 2_Fundamental Python.ipynb",
      "provenance": [],
      "include_colab_link": true
    },
    "kernelspec": {
      "name": "python3",
      "display_name": "Python 3"
    },
    "language_info": {
      "name": "python"
    }
  },
  "cells": [
    {
      "cell_type": "markdown",
      "metadata": {
        "id": "view-in-github",
        "colab_type": "text"
      },
      "source": [
        "<a href=\"https://colab.research.google.com/github/prissyyy/Studi-Independen/blob/main/Latihan%202_Fundamental%20Python.ipynb\" target=\"_parent\"><img src=\"https://colab.research.google.com/assets/colab-badge.svg\" alt=\"Open In Colab\"/></a>"
      ]
    },
    {
      "cell_type": "markdown",
      "metadata": {
        "id": "VA_HsO6SpeHa"
      },
      "source": [
        "Selasa, 14 Sept 2021"
      ]
    },
    {
      "cell_type": "markdown",
      "metadata": {
        "id": "5ENmq4anVHv8"
      },
      "source": [
        "# **Aturan Penulisan Statement Pada *Basic Python***\n",
        "1. Penulisan satu statement di dalam Python tidak diakhiri dengan tanda titik-koma\n",
        "2. Statement pada Pyhton dinyatakan dalam satu baris. Jadi akhir dari sebuah pernyataan adalah baris baru (new line).\n",
        "3. Jika ada pernyataan yang panjangnya terdiri lebih dari 1 baris, maka dapat dilakukan dengan menggunakan tanda backslash (\\).\n",
        "4. Statement yang ada di dalam atau diapit oleh tanda kurung seperti \"[],{},()\" tidak memerlukan tanda \"\".\n",
        "5. Python menggunakan tanda indentasi (spasi) sebagai penanda blok. Panjang spasi atau indentasi untuk setiap baris yang ada dalam satu blok kode harus sama. Bila spasi atau indentasi dalam satu grup kode tersebut tidak sama, python akan menamplikan sintaks error.\n",
        "6. Sebaga penanda string, Python menggunakan tanda kutip, baik tunggal ('), maupun ganda(\"). Tanda kutip tiga(\"\"\") digunakan untuk string multibaris.\n",
        "7. Bahasa Python bersifat case sensitif, yang berarti membedakan huruf besar dan huruf kecil (memiliki nilai yang berbeda).\n",
        "8. Untuk komentar di awali dengan tanda \"#\" yang artinya tidak diproses sebagai statement code."
      ]
    },
    {
      "cell_type": "markdown",
      "metadata": {
        "id": "Xz41ee3XVKmY"
      },
      "source": [
        "**Aturan yang pertama**\n",
        "1. Penulisan satu statement di dalam Python tidak diakhiri dengan tanda titik-koma\n",
        "\n"
      ]
    },
    {
      "cell_type": "code",
      "metadata": {
        "id": "LtM2aGcybFaM",
        "colab": {
          "base_uri": "https://localhost:8080/"
        },
        "outputId": "853ddf73-9ae0-4459-bb1a-42b82649404d"
      },
      "source": [
        "print(\"Halo Dunia\")\n",
        "print(\"panjang = 100\")\n",
        "print(\"lebar = 23\")\n",
        "print('saya suka belajar python')"
      ],
      "execution_count": null,
      "outputs": [
        {
          "output_type": "stream",
          "name": "stdout",
          "text": [
            "Halo Dunia\n",
            "panjang = 100\n",
            "lebar = 23\n",
            "saya suka belajar python\n"
          ]
        }
      ]
    },
    {
      "cell_type": "markdown",
      "metadata": {
        "id": "QWA7f1rDVjAh"
      },
      "source": [
        "**Aturan yang kedua**\n",
        "2. Statement pada Pyhton dinyatakan dalam satu baris. Jadi akhir dari sebuah pernyataan adalah baris baru (new line).\n",
        "\n"
      ]
    },
    {
      "cell_type": "code",
      "metadata": {
        "colab": {
          "base_uri": "https://localhost:8080/"
        },
        "id": "UslLYNQL7rme",
        "outputId": "cde20937-8ea4-4e09-f70a-9fafed480f15"
      },
      "source": [
        "print(\"luas = panjang * lebar\")"
      ],
      "execution_count": null,
      "outputs": [
        {
          "output_type": "stream",
          "name": "stdout",
          "text": [
            "luas = panjang * lebar\n"
          ]
        }
      ]
    },
    {
      "cell_type": "markdown",
      "metadata": {
        "id": "tsn3WHRbVxq7"
      },
      "source": [
        "**Aturan yang ke tiga**\n",
        "\n",
        "---\n",
        "3. Jika ada pernyataan yang panjangnya terdiri lebih dari 1 baris, maka dapat dilakukan dengan menggunakan tanda backslash ( \\ ) .\n",
        "\n"
      ]
    },
    {
      "cell_type": "code",
      "metadata": {
        "colab": {
          "base_uri": "https://localhost:8080/"
        },
        "id": "W7ZxFaz38GYZ",
        "outputId": "e6dee01f-c75c-4cef-c390-29b66b0df38c"
      },
      "source": [
        "print(\"volume = panjang*lebar*\\\n",
        "tinggi\")"
      ],
      "execution_count": null,
      "outputs": [
        {
          "output_type": "stream",
          "name": "stdout",
          "text": [
            "volume = panjang*lebar*tinggi\n"
          ]
        }
      ]
    },
    {
      "cell_type": "markdown",
      "metadata": {
        "id": "SbIVj4gVV_1y"
      },
      "source": [
        "**Aturan yang ke empat**\n",
        "\n",
        "---\n",
        "4. Statement yang ada di dalam atau diapit oleh tanda kurung seperti \"[],{},()\" tidak memerlukan tanda \"\"\n",
        "\n"
      ]
    },
    {
      "cell_type": "code",
      "metadata": {
        "colab": {
          "base_uri": "https://localhost:8080/"
        },
        "id": "0LNBDdc8CKhf",
        "outputId": "eb21c255-f146-4598-c5fe-764d0b721c3e"
      },
      "source": [
        "nama_hari = ['Senin','Selasa','Rabu','Kamis','Jumat','Sabtu']\n",
        "print(nama_hari)"
      ],
      "execution_count": null,
      "outputs": [
        {
          "output_type": "stream",
          "name": "stdout",
          "text": [
            "['Senin', 'Selasa', 'Rabu', 'Kamis', 'Jumat', 'Sabtu']\n"
          ]
        }
      ]
    },
    {
      "cell_type": "markdown",
      "metadata": {
        "id": "jGSWGY48WM9S"
      },
      "source": [
        "**Aturan yang ke lima**\n",
        "\n",
        "---\n",
        "5. Python menggunakan tanda indentasi (spasi) sebagai penanda blok. Panjang spasi atau indentasi untuk setiap baris yang ada dalam satu blok kode harus sama. Bila spasi atau indentasi dalam satu grup kode tersebut tidak sama, python akan menamplikan sintaks error\n",
        "\n"
      ]
    },
    {
      "cell_type": "code",
      "metadata": {
        "colab": {
          "base_uri": "https://localhost:8080/"
        },
        "id": "peJrm07iC7Xz",
        "outputId": "17b81562-3e79-4f27-fc25-f635e37a27d7"
      },
      "source": [
        "usia = 7\n",
        "if usia >= 7:\n",
        "    print(\"diterima masuk SD\")\n",
        "    print(\"dinyatakan lulus\")\n",
        "else:\n",
        "    print(\"tidak diterima masuk SD\")\n",
        "    print(\"dinyatakan gagal\")    "
      ],
      "execution_count": null,
      "outputs": [
        {
          "output_type": "stream",
          "name": "stdout",
          "text": [
            "diterima masuk SD\n",
            "dinyatakan lulus\n"
          ]
        }
      ]
    },
    {
      "cell_type": "markdown",
      "metadata": {
        "id": "yo8_Hj7lWZbA"
      },
      "source": [
        "**Aturan yang ke enam**\n",
        "\n",
        "---\n",
        "6. Sebaga penanda string, Python menggunakan tanda kutip, baik tunggal ('), maupun ganda(\"). Tanda kutip tiga(\"\"\") digunakan untuk string multibaris.\n",
        "\n"
      ]
    },
    {
      "cell_type": "code",
      "metadata": {
        "colab": {
          "base_uri": "https://localhost:8080/"
        },
        "id": "MpDQCP_AEaG-",
        "outputId": "8a3e692f-63eb-425a-fa19-6b60a9cb3d7c"
      },
      "source": [
        "namadepan = 'Prissy'\n",
        "namalengkap = \"Prissy Nusaiba Yulisa\"\n",
        "alinea = \"\"\"Berikut ini adalah alinea yang terdiri dari beberapa baris.\"\"\"\n",
        "print(namadepan)\n",
        "print(namalengkap)\n",
        "print(alinea)"
      ],
      "execution_count": null,
      "outputs": [
        {
          "output_type": "stream",
          "name": "stdout",
          "text": [
            "Prissy\n",
            "Prissy Nusaiba Yulisa\n",
            "Berikut ini adalah alinea yang terdiri dari beberapa baris.\n"
          ]
        }
      ]
    },
    {
      "cell_type": "markdown",
      "metadata": {
        "id": "vn-KH4IhW9Kj"
      },
      "source": [
        "**Aturan yang ke tuju**\n",
        "\n",
        "---\n",
        "7. Bahasa Python bersifat case sensitif, yang berarti membedakan huruf besar dan huruf kecil (memiliki nilai yang berbeda).\n",
        "\n"
      ]
    },
    {
      "cell_type": "code",
      "metadata": {
        "colab": {
          "base_uri": "https://localhost:8080/",
          "height": 238
        },
        "id": "IvuM2DUuFl2J",
        "outputId": "405eb00a-80c3-4824-eb24-3553c0341f6a"
      },
      "source": [
        "# Contoh statement yang benar\n",
        "luas = 15*3\n",
        "print(luas)\n",
        "# Contoh statement yang salah\n",
        "luas = 15*3\n",
        "#Print(luas)\n",
        "PRINT(luas)\n",
        "print(luas)"
      ],
      "execution_count": null,
      "outputs": [
        {
          "output_type": "stream",
          "name": "stdout",
          "text": [
            "45\n"
          ]
        },
        {
          "output_type": "error",
          "ename": "NameError",
          "evalue": "ignored",
          "traceback": [
            "\u001b[0;31m---------------------------------------------------------------------------\u001b[0m",
            "\u001b[0;31mNameError\u001b[0m                                 Traceback (most recent call last)",
            "\u001b[0;32m<ipython-input-27-e816f7836f19>\u001b[0m in \u001b[0;36m<module>\u001b[0;34m()\u001b[0m\n\u001b[1;32m      5\u001b[0m \u001b[0mluas\u001b[0m \u001b[0;34m=\u001b[0m \u001b[0;36m15\u001b[0m\u001b[0;34m*\u001b[0m\u001b[0;36m3\u001b[0m\u001b[0;34m\u001b[0m\u001b[0;34m\u001b[0m\u001b[0m\n\u001b[1;32m      6\u001b[0m \u001b[0;31m#Print(luas)\u001b[0m\u001b[0;34m\u001b[0m\u001b[0;34m\u001b[0m\u001b[0;34m\u001b[0m\u001b[0m\n\u001b[0;32m----> 7\u001b[0;31m \u001b[0mPRINT\u001b[0m\u001b[0;34m(\u001b[0m\u001b[0mluas\u001b[0m\u001b[0;34m)\u001b[0m\u001b[0;34m\u001b[0m\u001b[0;34m\u001b[0m\u001b[0m\n\u001b[0m\u001b[1;32m      8\u001b[0m \u001b[0mprint\u001b[0m\u001b[0;34m(\u001b[0m\u001b[0mluas\u001b[0m\u001b[0;34m)\u001b[0m\u001b[0;34m\u001b[0m\u001b[0;34m\u001b[0m\u001b[0m\n",
            "\u001b[0;31mNameError\u001b[0m: name 'PRINT' is not defined"
          ]
        }
      ]
    },
    {
      "cell_type": "markdown",
      "metadata": {
        "id": "PxFFqfZUXM_i"
      },
      "source": [
        "**Aturan yang ke delapan**\n",
        "\n",
        "---\n",
        "8. Untuk komentar di awali dengan tanda \"#\" yang artinya tidak diproses sebagai statement code.\n",
        "\n"
      ]
    },
    {
      "cell_type": "code",
      "metadata": {
        "colab": {
          "base_uri": "https://localhost:8080/"
        },
        "id": "GJWSjaI5GrhI",
        "outputId": "02134329-31b0-4063-91b8-70f92937f463"
      },
      "source": [
        "# Contoh\n",
        "# perintah untuk menghitung luas\n",
        "panjang = 15\n",
        "lebar = 3\n",
        "luas = (panjang*lebar)\n",
        "print(\"panjang\")\n",
        "print(\"lebar\")\n",
        "print(luas)"
      ],
      "execution_count": null,
      "outputs": [
        {
          "output_type": "stream",
          "name": "stdout",
          "text": [
            "panjang\n",
            "lebar\n",
            "45\n"
          ]
        }
      ]
    },
    {
      "cell_type": "markdown",
      "metadata": {
        "id": "I45SeaJRXfql"
      },
      "source": [
        "**Nilai Prioritas Operator dalam Python – Part1**\n",
        "\n"
      ]
    },
    {
      "cell_type": "code",
      "metadata": {
        "colab": {
          "base_uri": "https://localhost:8080/"
        },
        "id": "NfCPUysWUk4I",
        "outputId": "aec1bf81-2a98-4ee5-abd4-d4c16f58e372"
      },
      "source": [
        "# Kode awal\n",
        "total_harga = 150000\n",
        "potongan_harga = 0.3\n",
        "pajak = 0.1 # pajak dalam persen ~ 10%\n",
        "harga_bayar = 1 - 0.3 # baris pertama\n",
        "harga_bayar *= total_harga # baris kedua\n",
        "pajak_bayar = pajak * harga_bayar # baris ketiga\n",
        "harga_bayar += pajak_bayar # baris ke-4\n",
        "print(\"Kode awal - harga_bayar=\", harga_bayar)\n",
        "# Penyederhanaan baris kode dengan menerapkan prioritas operator\n",
        "total_harga = 150000\n",
        "potongan_harga = 0.3\n",
        "pajak = 0.1 # pajak dalam persen ~ 10%\n",
        "harga_bayar = (1 - 0.3) * total_harga #baris pertama \n",
        "harga_bayar += harga_bayar * pajak # baris kedua\n",
        "print(\"Penyederhanaan kode - harga_bayar=\", harga_bayar)"
      ],
      "execution_count": null,
      "outputs": [
        {
          "output_type": "stream",
          "name": "stdout",
          "text": [
            "Kode awal - harga_bayar= 115500.0\n",
            "Penyederhanaan kode - harga_bayar= 115500.0\n"
          ]
        }
      ]
    },
    {
      "cell_type": "code",
      "metadata": {
        "colab": {
          "base_uri": "https://localhost:8080/"
        },
        "id": "wSWoGfjvU1ea",
        "outputId": "f54fd217-e910-4527-fe98-be13537eaf66"
      },
      "source": [
        "sepatu = { \"nama\" : \"Sepatu Niko\", \"harga\": 150000, \"diskon\": 30000 }\n",
        "baju = { \"nama\" : \"Baju Unikloh\", \"harga\": 80000, \"diskon\": 8000 }\n",
        "celana = { \"nama\" : \"Celana Lepis\", \"harga\": 200000, \"diskon\": 60000 }\n",
        "harga_sepatu = sepatu[\"harga\"] - sepatu[\"diskon\"]\n",
        "harga_baju = baju[\"harga\"] - baju[\"diskon\"]\n",
        "harga_celana = celana[\"harga\"] - celana[\"diskon\"]\n",
        "total_harga = (harga_sepatu + harga_baju + harga_celana) * 1.1 \n",
        "print(total_harga)"
      ],
      "execution_count": null,
      "outputs": [
        {
          "output_type": "stream",
          "name": "stdout",
          "text": [
            "365200.00000000006\n"
          ]
        }
      ]
    },
    {
      "cell_type": "code",
      "metadata": {
        "colab": {
          "base_uri": "https://localhost:8080/"
        },
        "id": "vrsIzFIMWZgz",
        "outputId": "7a87467d-0bc7-40fa-92b3-ab861a4660ad"
      },
      "source": [
        "tagihan_ke = 'Mr. Yoyo'\n",
        "warehousing = { 'harga_harian': 1000000, 'total_hari':15 } \n",
        "cleansing = { 'harga_harian': 1500000, 'total_hari':10 } \n",
        "integration = { 'harga_harian':2000000, 'total_hari':15 } \n",
        "transform = { 'harga_harian':2500000, 'total_hari':10 }\n",
        "sub_warehousing = warehousing['harga_harian'] * warehousing['total_hari']\n",
        "sub_cleansing = cleansing['harga_harian'] * cleansing['total_hari'] \n",
        "sub_integration = integration['harga_harian'] * integration['total_hari'] \n",
        "sub_transform = transform['harga_harian'] * transform['total_hari']\n",
        "total_harga = sub_warehousing + sub_cleansing + sub_integration + sub_transform\n",
        "print(\"Tagihan kepada:\") \n",
        "print(tagihan_ke)\n",
        "print(\"Selamat pagi, anda harus membayar tagihan sebesar:\") \n",
        "print(total_harga)"
      ],
      "execution_count": null,
      "outputs": [
        {
          "output_type": "stream",
          "name": "stdout",
          "text": [
            "Tagihan kepada:\n",
            "Mr. Yoyo\n",
            "Selamat pagi, anda harus membayar tagihan sebesar:\n",
            "85000000\n"
          ]
        }
      ]
    },
    {
      "cell_type": "markdown",
      "metadata": {
        "id": "LQK0hwVIZ-l8"
      },
      "source": [
        "**Python while loops - Part 1**"
      ]
    },
    {
      "cell_type": "code",
      "metadata": {
        "colab": {
          "base_uri": "https://localhost:8080/"
        },
        "id": "ej0GDH2GXs-M",
        "outputId": "90a4a002-feb6-4e38-f7b8-de409e48dca1"
      },
      "source": [
        "# Tagihan\n",
        "tagihan = [50000, 75000, 125000, 300000, 200000]\n",
        "# Tanpa menggunakan while loop\n",
        "total_tagihan = tagihan[0] + tagihan[1] + tagihan[2] + tagihan[3] + tagihan[4]\n",
        "print(total_tagihan)\n",
        "# Dengan menggunakan while loop\n",
        "i = 0 # sebuah variabel untuk mengakses setiap elemen tagihan satu per satu\n",
        "jumlah_tagihan = len(tagihan) # panjang (jumlah elemen dalam) list tagihan\n",
        "total_tagihan = 0 # mula-mula, set total_tagihan ke 0\n",
        "while i < jumlah_tagihan: # selama nilai i kurang dari jumlah_tagihan\n",
        "    total_tagihan += tagihan[i] # tambahkan tagihan[i] ke total_tagihan\n",
        "    i += 1 # tambahkan nilai i dengan 1 untuk memproses tagihan selanjutnya.\n",
        "print(total_tagihan)"
      ],
      "execution_count": null,
      "outputs": [
        {
          "output_type": "stream",
          "name": "stdout",
          "text": [
            "750000\n",
            "750000\n"
          ]
        }
      ]
    },
    {
      "cell_type": "markdown",
      "metadata": {
        "id": "8DyOnatAaUqp"
      },
      "source": [
        "**Python while loops - Part 2**"
      ]
    },
    {
      "cell_type": "code",
      "metadata": {
        "colab": {
          "base_uri": "https://localhost:8080/"
        },
        "id": "gtTN0LETX3Dt",
        "outputId": "a03abf49-7f27-400f-871a-17b3973f83dc"
      },
      "source": [
        "tagihan = [50000, 75000, -150000, 125000, 300000, -50000, 200000]\n",
        "i = 0\n",
        "jumlah_tagihan = len(tagihan)\n",
        "total_tagihan = 0\n",
        "while i < jumlah_tagihan:\n",
        "    # jika terdapat tagihan ke-i yang bernilai minus (di bawah nol),\n",
        "    # pengulangan akan dihentikan\n",
        "    if tagihan[i] < 0:\n",
        "        total_tagihan = -1\n",
        "        print(\"terdapat angka minus dalam tagihan, perhitungan dihentikan!\")\n",
        "        break\n",
        "    total_tagihan += tagihan[i]\n",
        "    i += 1\n",
        "print(total_tagihan)"
      ],
      "execution_count": null,
      "outputs": [
        {
          "output_type": "stream",
          "name": "stdout",
          "text": [
            "terdapat angka minus dalam tagihan, perhitungan dihentikan!\n",
            "-1\n"
          ]
        }
      ]
    },
    {
      "cell_type": "markdown",
      "metadata": {
        "id": "toY_a3uhbF3m"
      },
      "source": [
        "**Python while loops - Part 3**"
      ]
    },
    {
      "cell_type": "code",
      "metadata": {
        "colab": {
          "base_uri": "https://localhost:8080/"
        },
        "id": "j0RYReYNYB3X",
        "outputId": "848a0528-1877-47ec-c35d-5abb743be86d"
      },
      "source": [
        "tagihan = [50000, 75000, -150000, 125000, 300000, -50000, 200000]\n",
        "i = 0\n",
        "jumlah_tagihan = len(tagihan)\n",
        "total_tagihan = 0\n",
        "while i < jumlah_tagihan:\n",
        "    # jika terdapat tagihan ke-i yang bernilai minus (di bawah nol),\n",
        "    # abaikan tagihan ke-i dan lanjutkan ke tagihan berikutnya\n",
        "    if tagihan[i] < 0:\n",
        "        i += 1\n",
        "        continue\n",
        "    total_tagihan += tagihan[i]\n",
        "    i += 1\n",
        "print(total_tagihan)"
      ],
      "execution_count": null,
      "outputs": [
        {
          "output_type": "stream",
          "name": "stdout",
          "text": [
            "750000\n"
          ]
        }
      ]
    },
    {
      "cell_type": "markdown",
      "metadata": {
        "id": "UJt8upJrbY8K"
      },
      "source": [
        "**Python for loops Part 1**"
      ]
    },
    {
      "cell_type": "code",
      "metadata": {
        "colab": {
          "base_uri": "https://localhost:8080/"
        },
        "id": "2bk3fqFOYVCZ",
        "outputId": "fbc1c427-e053-4e52-8176-e6f9061d459f"
      },
      "source": [
        "list_tagihan = [50000, 75000, -150000, 125000, 300000, -50000, 200000]\n",
        "total_tagihan = 0\n",
        "for tagihan in list_tagihan:\n",
        "    if tagihan < 0:\n",
        "        print(\"terdapat angka minus dalam tagihan, perhitungan dihentikan!\")\n",
        "        break\n",
        "    total_tagihan += tagihan\n",
        "print(total_tagihan)"
      ],
      "execution_count": null,
      "outputs": [
        {
          "output_type": "stream",
          "name": "stdout",
          "text": [
            "terdapat angka minus dalam tagihan, perhitungan dihentikan!\n",
            "125000\n"
          ]
        }
      ]
    },
    {
      "cell_type": "markdown",
      "metadata": {
        "id": "GKp-FlbXbvVR"
      },
      "source": [
        "**Ekspedisi Pamanku**\n",
        "\n",
        "![image.png](data:image/png;base64,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)"
      ]
    },
    {
      "cell_type": "code",
      "metadata": {
        "colab": {
          "base_uri": "https://localhost:8080/"
        },
        "id": "E2ebujfuYt06",
        "outputId": "163c2f9e-8d4b-4f5d-ac51-154f60a6f726"
      },
      "source": [
        "# Data\n",
        "uang_jalan = 1500000\n",
        "jumlah_hari = 31\n",
        "list_plat_nomor = [8993, 2198, 2501, 2735, 3772, 4837, 9152]\n",
        "# Pengecekan kendaraan dengan nomor pelat ganjil atau genap \n",
        "# Deklarasikan kendaraan_genap dan kendaraan_ganjil = 0\n",
        "kendaraan_genap = 0 \n",
        "kendaraan_ganjil = 0\n",
        "for plat_nomor in list_plat_nomor:\n",
        "    if plat_nomor % 2 == 0:\n",
        "        kendaraan_genap += 1\n",
        "    else:\n",
        "        kendaraan_ganjil += 1\n",
        "# Total pengeluaran untuk kendaraan dengan nomor pelat ganjil \n",
        "# dan genap dalam 1 bulan\n",
        "i = 1\n",
        "total_pengeluaran = 0\n",
        "while i <= jumlah_hari:\n",
        "    if i % 2 == 0:\n",
        "        total_pengeluaran += (kendaraan_genap * uang_jalan)\n",
        "    else:\n",
        "        total_pengeluaran += (kendaraan_ganjil * uang_jalan)\n",
        "    i += 1\n",
        "# Cetak total pengeluaran\n",
        "print(total_pengeluaran)"
      ],
      "execution_count": null,
      "outputs": [
        {
          "output_type": "stream",
          "name": "stdout",
          "text": [
            "163500000\n"
          ]
        }
      ]
    },
    {
      "cell_type": "markdown",
      "metadata": {
        "id": "gNS6Xby9b9QP"
      },
      "source": [
        "**SELAMAT MENCOBA**\n",
        "\n",
        "KALAU ADA EROR KLIK LINK INI SAJA [link text](https://stackoverflow.com/)\n"
      ]
    }
  ]
}
