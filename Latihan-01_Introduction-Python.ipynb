{
  "nbformat": 4,
  "nbformat_minor": 5,
  "metadata": {
    "kernelspec": {
      "display_name": "Python 3",
      "language": "python",
      "name": "python3"
    },
    "language_info": {
      "codemirror_mode": {
        "name": "ipython",
        "version": 3
      },
      "file_extension": ".py",
      "mimetype": "text/x-python",
      "name": "python",
      "nbconvert_exporter": "python",
      "pygments_lexer": "ipython3",
      "version": "3.8.8"
    },
    "colab": {
      "name": "Latihan 1_Introduction Python.ipynb",
      "provenance": [],
      "include_colab_link": true
    }
  },
  "cells": [
    {
      "cell_type": "markdown",
      "metadata": {
        "id": "view-in-github",
        "colab_type": "text"
      },
      "source": [
        "<a href=\"https://colab.research.google.com/github/prissyyy/Studi-Independen/blob/main/Latihan%201_Introduction%20Python.ipynb\" target=\"_parent\"><img src=\"https://colab.research.google.com/assets/colab-badge.svg\" alt=\"Open In Colab\"/></a>"
      ]
    },
    {
      "cell_type": "markdown",
      "metadata": {
        "id": "edP37gG0o4Oa"
      },
      "source": [
        "Senin, 13 Sept 2021"
      ],
      "id": "edP37gG0o4Oa"
    },
    {
      "cell_type": "markdown",
      "metadata": {
        "id": "9BnrYww4QfS5"
      },
      "source": [
        "**Perintah 1**"
      ],
      "id": "9BnrYww4QfS5"
    },
    {
      "cell_type": "code",
      "metadata": {
        "colab": {
          "base_uri": "https://localhost:8080/"
        },
        "id": "7e0852e7",
        "outputId": "62e08eaf-a3e5-4376-91d1-60330031f0aa"
      },
      "source": [
        "print(\"Hello World\")"
      ],
      "id": "7e0852e7",
      "execution_count": null,
      "outputs": [
        {
          "output_type": "stream",
          "name": "stdout",
          "text": [
            "Hello World\n"
          ]
        }
      ]
    },
    {
      "cell_type": "markdown",
      "metadata": {
        "id": "q6HTu5ooQpbL"
      },
      "source": [
        "**Perintah 2**"
      ],
      "id": "q6HTu5ooQpbL"
    },
    {
      "cell_type": "code",
      "metadata": {
        "colab": {
          "base_uri": "https://localhost:8080/"
        },
        "id": "90ab46c9",
        "outputId": "d540d96c-01c3-4300-d72b-441199306240"
      },
      "source": [
        "print(\"Hallo Dunia\")\n",
        "print(\"Riset Bahasa\")"
      ],
      "id": "90ab46c9",
      "execution_count": null,
      "outputs": [
        {
          "output_type": "stream",
          "name": "stdout",
          "text": [
            "Hallo Dunia\n",
            "Riset Bahasa\n"
          ]
        }
      ]
    },
    {
      "cell_type": "markdown",
      "metadata": {
        "id": "mYY5iXiZQ4VK"
      },
      "source": [
        "**Perintah 3**"
      ],
      "id": "mYY5iXiZQ4VK"
    },
    {
      "cell_type": "code",
      "metadata": {
        "colab": {
          "base_uri": "https://localhost:8080/"
        },
        "id": "45116403",
        "outputId": "1dfe2ddb-94bc-48ae-b7f0-388757b898a8"
      },
      "source": [
        "bilangan1 = 20\n",
        "bilangan2 = 10\n",
        "print(bilangan1 - bilangan2)"
      ],
      "id": "45116403",
      "execution_count": null,
      "outputs": [
        {
          "output_type": "stream",
          "name": "stdout",
          "text": [
            "10\n"
          ]
        }
      ]
    },
    {
      "cell_type": "markdown",
      "metadata": {
        "id": "_zJxr0VlRBca"
      },
      "source": [
        "**Perintah 4**"
      ],
      "id": "_zJxr0VlRBca"
    },
    {
      "cell_type": "code",
      "metadata": {
        "colab": {
          "base_uri": "https://localhost:8080/"
        },
        "id": "8b2872ce",
        "outputId": "b6bed0d3-c538-48b2-9b8f-ea71ac7e31c7"
      },
      "source": [
        "contoh_list = ['Dewi','Budi','Cici','Linda','Cici']\n",
        "print(contoh_list)\n",
        "contoh_set = {'Dewi','Budi','Cici','Linda','Cici'}\n",
        "print(contoh_set)\n",
        "contoh_frozen_set = ({'Dewi','Budi','Cici','Linda','Cici'})\n",
        "print(contoh_frozen_set)"
      ],
      "id": "8b2872ce",
      "execution_count": null,
      "outputs": [
        {
          "output_type": "stream",
          "name": "stdout",
          "text": [
            "['Dewi', 'Budi', 'Cici', 'Linda', 'Cici']\n",
            "{'Cici', 'Linda', 'Dewi', 'Budi'}\n",
            "{'Cici', 'Linda', 'Dewi', 'Budi'}\n"
          ]
        }
      ]
    },
    {
      "cell_type": "markdown",
      "metadata": {
        "id": "Px0Pkqt9RND_"
      },
      "source": [
        "**Perintah 5**"
      ],
      "id": "Px0Pkqt9RND_"
    },
    {
      "cell_type": "code",
      "metadata": {
        "colab": {
          "base_uri": "https://localhost:8080/"
        },
        "id": "d77f6a86",
        "outputId": "afa9b2a2-2cbc-4e7d-e63b-84e7a185bb20"
      },
      "source": [
        "person = {'nama':'Prissy','pekerjaan':'Ambassador PT.Cicil Solusi Mitra Teknologi'}\n",
        "print(person['nama'])\n",
        "print(person['pekerjaan'])"
      ],
      "id": "d77f6a86",
      "execution_count": null,
      "outputs": [
        {
          "output_type": "stream",
          "name": "stdout",
          "text": [
            "Prissy\n",
            "Ambassador PT.Cicil Solusi Mitra Teknologi\n"
          ]
        }
      ]
    },
    {
      "cell_type": "markdown",
      "metadata": {
        "id": "w2N-WU0ZRVv_"
      },
      "source": [
        "**Perintah 6**"
      ],
      "id": "w2N-WU0ZRVv_"
    },
    {
      "cell_type": "code",
      "metadata": {
        "colab": {
          "base_uri": "https://localhost:8080/"
        },
        "id": "626428b9",
        "outputId": "607e755e-25c8-4f23-c654-537722bb77a4"
      },
      "source": [
        "contoh_list = [1, 'dua', 3, 4.0, 5]\n",
        "print(contoh_list[0])\n",
        "print(contoh_list[3])\n",
        "contoh_list = [1, 'dua', 3, 4.0, 5]\n",
        "contoh_list[3] = 'empat'\n",
        "print(contoh_list[3])"
      ],
      "id": "626428b9",
      "execution_count": null,
      "outputs": [
        {
          "output_type": "stream",
          "name": "stdout",
          "text": [
            "1\n",
            "4.0\n",
            "empat\n"
          ]
        }
      ]
    }
  ]
}
